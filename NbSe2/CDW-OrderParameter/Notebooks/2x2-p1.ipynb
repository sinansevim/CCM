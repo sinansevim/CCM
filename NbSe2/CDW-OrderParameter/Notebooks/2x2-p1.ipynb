{
 "cells": [
  {
   "cell_type": "code",
   "execution_count": 25,
   "metadata": {},
   "outputs": [],
   "source": [
    "import matplotlib.pyplot as plt\n",
    "from numpy import *\n",
    "from numpy.linalg import *\n",
    "from mpl_toolkits.mplot3d import Axes3D\n",
    "import ipywidgets as widgets\n",
    "from ipywidgets import interact, interactive, fixed, interact_manual\n",
    "\n",
    "# %matplotlib widget\n",
    "%matplotlib inline"
   ]
  },
  {
   "cell_type": "code",
   "execution_count": 26,
   "metadata": {},
   "outputs": [],
   "source": [
    "svec = loadtxt(\"../Data/2x2-6p-p1/normal.cell\")\n",
    "rvec = svec/2\n",
    "b = 4*pi/(linalg.norm(rvec[0])*sqrt(3))\n",
    "qvec = b*array([[-sqrt(3)/2,-1/2,0],[0,1,0],[sqrt(3)/2,-1/2,0]])/2\n",
    "qdif = array([[qvec[0]-qvec[1],qvec[1]-qvec[2],qvec[2]-qvec[0]]])\n",
    "qdif= qdif[0]\n",
    "qunit = qvec/abs(linalg.norm(qvec[0]))\n"
   ]
  },
  {
   "cell_type": "code",
   "execution_count": 27,
   "metadata": {},
   "outputs": [],
   "source": [
    "n_data = loadtxt(\"../Data/2x2-6p-p1/n.pos\")\n",
    "m_data = loadtxt(\"../Data/2x2-6p-p1/m.pos\")\n",
    "\n",
    "\n",
    "n_atom = dot(n_data,svec)\n",
    "n_atom = n_atom-n_atom[0]\n",
    "m_atom = dot(m_data,svec)\n",
    "m_atom += average(n_atom[:4]-m_atom[:4],axis=0)\n",
    "u = around(m_atom - n_atom,8)"
   ]
  },
  {
   "cell_type": "code",
   "execution_count": 22,
   "metadata": {},
   "outputs": [
    {
     "data": {
      "text/plain": [
       "<matplotlib.collections.PathCollection at 0x2ad2a080970>"
      ]
     },
     "execution_count": 22,
     "metadata": {},
     "output_type": "execute_result"
    },
    {
     "data": {
      "image/png": "[encoded data removed]",
      "text/plain": [
       "<Figure size 432x288 with 1 Axes>"
      ]
     },
     "metadata": {
      "needs_background": "light"
     },
     "output_type": "display_data"
    }
   ],
   "source": [
    "plt.scatter(n_atom[:4].T[0]/norm(rvec[0]),n_atom[:4].T[1]/norm(rvec[0]))\n",
    "plt.scatter(n_atom[4:].T[0]/norm(rvec[0]),n_atom[4:].T[1]/norm(rvec[0]))"
   ]
  },
  {
   "cell_type": "code",
   "execution_count": null,
   "metadata": {},
   "outputs": [],
   "source": []
  },
  {
   "cell_type": "code",
   "execution_count": 28,
   "metadata": {},
   "outputs": [],
   "source": [
    "def plot_lattice():\n",
    "    fig = plt.figure(figsize=(10,10))\n",
    "    s1, s2 = 200,300\n",
    "    hw=0.2\n",
    "    \n",
    "    cell_color=\"black\"\n",
    "    cell_lw=5\n",
    "    cell_zorder=0\n",
    "    \n",
    "    plt.scatter(n_atom[0][0],n_atom[0][1],c=\"blue\",s=s2,label=\"Nb\")\n",
    "    plt.scatter(n_atom[4][0],n_atom[4][1],c=\"green\",s=s1,label=\"Se\")\n",
    "    period = arange(-2,3,1)\n",
    "    for i in period:\n",
    "        for j in period:\n",
    "    #         print(i,j)\n",
    "            plt.scatter(n_atom[:4].T[0]+(i*svec[0][0]+j*svec[1][0]),n_atom[:4].T[1]+(i*svec[0][1]+j*svec[1][1]),c=\"blue\",s=s2,zorder=2)\n",
    "            plt.scatter(n_atom[4:].T[0]+(i*svec[0][0]+j*svec[1][0]),n_atom[4:].T[1]+(i*svec[0][1]+j*svec[1][1]),c=\"green\",s=s1,zorder=2)\n",
    "     \n",
    "            plt.plot([0,svec[0][0]],[0,svec[0][1]],c=cell_color,lw=cell_lw,zorder=cell_zorder)\n",
    "            plt.plot([0,svec[1][0]],[0,svec[1][1]],c=cell_color,lw=cell_lw,zorder=cell_zorder)\n",
    "            plt.plot([svec[0][0],svec[0][0]+svec[1][0]],[svec[0][1],svec[0][1]+svec[1][1]],c=cell_color,lw=cell_lw,zorder=cell_zorder)\n",
    "            plt.plot([svec[1][0],svec[1][0]+svec[0][0]],[svec[1][1],svec[1][1]+svec[0][1]],c=cell_color,lw=cell_lw,zorder=cell_zorder)\n",
    "            plt.plot([0,svec[0][0]],[0,svec[0][1]],c=cell_color,lw=cell_lw,zorder=cell_zorder)\n",
    "            plt.plot([0,svec[1][0]],[0,-svec[1][1]],c=cell_color,lw=cell_lw,zorder=cell_zorder)\n",
    "            plt.plot([svec[0][0],svec[0][0]+svec[1][0]],[svec[0][1],svec[0][1]-svec[1][1]],c=cell_color,lw=cell_lw,zorder=cell_zorder)\n",
    "            plt.plot([svec[1][0],svec[1][0]+svec[0][0]],[-svec[1][1],-svec[1][1]+svec[0][1]],c=cell_color,lw=cell_lw,zorder=cell_zorder)\n",
    "            plt.plot([svec[1][0],-svec[0][0]],[svec[1][1],-svec[0][1]],c=cell_color,lw=cell_lw,zorder=cell_zorder)\n",
    "            plt.plot([-svec[0][0],svec[1][0]],[svec[0][1],-svec[1][1]],c=cell_color,lw=cell_lw,zorder=cell_zorder)\n",
    " \n",
    "\n",
    "\n",
    "            for k in range(1,12):\n",
    "                plt.arrow(n_atom.T[0][k]+(i*svec[0][0]+j*svec[1][0]),n_atom.T[1][k]+(i*svec[0][1]+j*svec[1][1]),(u[:,0][k])*10,(u[:,1][k])*10,lw=3,zorder=2,color=\"orange\",head_width=hw)   \n",
    "    plt.xlim(-10,10)\n",
    "    plt.ylim(-10,10)\n",
    "    plt.xticks([])\n",
    "    plt.yticks([])\n",
    "#     plt.axis(\"equal\")\n",
    "    plt.legend(loc='upper right', borderpad=1,markerscale=1,labelspacing=1,fontsize=12)\n",
    "\n",
    "\n",
    "#     plt.savefig(\"3x3_lattice.png\")\n",
    "#     plt.savefig(\"2x2_phase1.png\",bbox_inches='tight')\n",
    "#     plt.axis(\"equal\")\n",
    "#     plt.show()"
   ]
  },
  {
   "cell_type": "code",
   "execution_count": 29,
   "metadata": {},
   "outputs": [],
   "source": [
    "def plot_lattice():\n",
    "    fig = plt.figure(figsize=(10,10))\n",
    "    s1, s2 = 200,300\n",
    "    hw=0.2\n",
    "    \n",
    "    cell_color=\"black\"\n",
    "    cell_lw=5\n",
    "    cell_zorder=0\n",
    "    \n",
    "    plt.scatter(n_atom[0][0],n_atom[0][1],c=\"blue\",s=s2,label=\"Nb\")\n",
    "    plt.scatter(n_atom[4][0],n_atom[4][1],c=\"green\",s=s1,label=\"Se\")\n",
    "    period = arange(-2,3,1)\n",
    "    for i in period:\n",
    "        for j in period:\n",
    "            plt.plot([0,svec[0][0]],[0,svec[0][1]],c=cell_color,lw=cell_lw,zorder=cell_zorder)\n",
    "            plt.plot([0,svec[1][0]],[0,svec[1][1]],c=cell_color,lw=cell_lw,zorder=cell_zorder)\n",
    "            plt.plot([svec[0][0],svec[0][0]+svec[1][0]],[svec[0][1],svec[0][1]+svec[1][1]],c=cell_color,lw=cell_lw,zorder=cell_zorder)\n",
    "            plt.plot([svec[1][0],svec[1][0]+svec[0][0]],[svec[1][1],svec[1][1]+svec[0][1]],c=cell_color,lw=cell_lw,zorder=cell_zorder)\n",
    "#             plt.plot([0,svec[0][0]],[0,svec[0][1]],c=cell_color,lw=cell_lw,zorder=cell_zorder)\n",
    "#             plt.plot([0,svec[1][0]],[0,-svec[1][1]],c=cell_color,lw=cell_lw,zorder=cell_zorder)\n",
    "#             plt.plot([svec[0][0],svec[0][0]+svec[1][0]],[svec[0][1],svec[0][1]-svec[1][1]],c=cell_color,lw=cell_lw,zorder=cell_zorder)\n",
    "#             plt.plot([svec[1][0],svec[1][0]+svec[0][0]],[-svec[1][1],-svec[1][1]+svec[0][1]],c=cell_color,lw=cell_lw,zorder=cell_zorder)\n",
    "#             plt.plot([svec[1][0],-svec[0][0]],[svec[1][1],-svec[0][1]],c=cell_color,lw=cell_lw,zorder=cell_zorder)\n",
    "#             plt.plot([-svec[0][0],svec[1][0]],[svec[0][1],-svec[1][1]],c=cell_color,lw=cell_lw,zorder=cell_zorder)\n",
    "            \n",
    "            plt.scatter(n_atom[:4].T[0]+(i*svec[0][0]+j*svec[1][0]),n_atom[:4].T[1]+(i*svec[0][1]+j*svec[1][1]),c=\"blue\",s=s2,zorder=2)\n",
    "            plt.scatter(n_atom[8:].T[0]+(i*svec[0][0]+j*svec[1][0]),n_atom[8:].T[1]+(i*svec[0][1]+j*svec[1][1]),c=\"green\",s=s1,zorder=2)\n",
    "    \n",
    "\n",
    "\n",
    "            for k in range(1,4):\n",
    "                plt.arrow(n_atom.T[0][k]+(i*svec[0][0]+j*svec[1][0]),n_atom.T[1][k]+(i*svec[0][1]+j*svec[1][1]),(u[:,0][k])*10,(u[:,1][k])*10,lw=3,zorder=2,color=\"orange\",head_width=hw)   \n",
    "#             for k in range(7,8):\n",
    "#                 plt.arrow(n_atom.T[0][k]+(i*svec[0][0]+j*svec[1][0]),n_atom.T[1][k]+(i*svec[0][1]+j*svec[1][1]),(u[:,0][k])*10,(u[:,1][k])*10,lw=3,zorder=2,color=\"orange\",head_width=hw)   \n",
    "#     plt.colorbar()\n",
    "    plt.xlim(-10,10)\n",
    "    plt.ylim(-5,15)\n",
    "    plt.xticks([])\n",
    "    plt.yticks([])\n",
    "#     plt.title(\"Upper Se Plane\")\n",
    "#     plt.axis(\"equal\")\n",
    "    plt.legend(loc='upper right', borderpad=1,markerscale=1,labelspacing=1,fontsize=12)\n",
    "\n",
    "\n",
    "#     plt.savefig(\"3x3_lattice.png\")\n",
    "    plt.savefig(\"../Plot/2x2_phase1.png\",bbox_inches='tight')\n",
    "#     plt.axis(\"equal\")\n",
    "#     plt.show()"
   ]
  },
  {
   "cell_type": "code",
   "execution_count": 30,
   "metadata": {},
   "outputs": [
    {
     "data": {
      "image/png": "[encoded data removed]",
      "text/plain": [
       "<Figure size 720x720 with 1 Axes>"
      ]
     },
     "metadata": {},
     "output_type": "display_data"
    }
   ],
   "source": [
    "plot_lattice()"
   ]
  },
  {
   "cell_type": "code",
   "execution_count": 31,
   "metadata": {},
   "outputs": [
    {
     "data": {
      "text/plain": [
       "array([[-0.        ,  0.        ,  0.        ],\n",
       "       [ 0.08373179,  0.04834257,  0.        ],\n",
       "       [ 0.        , -0.09668514,  0.        ],\n",
       "       [-0.08373179,  0.04834257,  0.        ],\n",
       "       [-0.        , -0.0219685 , -0.00062914],\n",
       "       [-0.01902528,  0.01098425, -0.00062914],\n",
       "       [-0.        ,  0.        ,  0.0662878 ],\n",
       "       [ 0.01902528,  0.01098425, -0.00062914],\n",
       "       [-0.        , -0.0219685 ,  0.00062914],\n",
       "       [-0.01902528,  0.01098425,  0.00062914],\n",
       "       [-0.        ,  0.        , -0.0662878 ],\n",
       "       [ 0.01902528,  0.01098425,  0.00062914]])"
      ]
     },
     "execution_count": 31,
     "metadata": {},
     "output_type": "execute_result"
    }
   ],
   "source": [
    "u"
   ]
  },
  {
   "cell_type": "code",
   "execution_count": 32,
   "metadata": {},
   "outputs": [
    {
     "name": "stdout",
     "output_type": "stream",
     "text": [
      "0.0\n",
      "0.09668514224434384\n",
      "0.09668514\n",
      "0.09668514224434384\n",
      "0.02197750689658861\n",
      "0.021977507690375174\n",
      "0.0662878\n",
      "0.021977507690375174\n",
      "0.02197750689658861\n",
      "0.021977507690375174\n",
      "0.0662878\n",
      "0.021977507690375174\n"
     ]
    }
   ],
   "source": [
    "for i in u:\n",
    "    print(norm(i))"
   ]
  },
  {
   "cell_type": "code",
   "execution_count": 141,
   "metadata": {},
   "outputs": [
    {
     "data": {
      "text/plain": [
       "1.4585661651818864"
      ]
     },
     "execution_count": 141,
     "metadata": {},
     "output_type": "execute_result"
    }
   ],
   "source": [
    "norm(u[1])/norm(u[6])"
   ]
  },
  {
   "cell_type": "code",
   "execution_count": null,
   "metadata": {},
   "outputs": [],
   "source": []
  },
  {
   "cell_type": "code",
   "execution_count": 55,
   "metadata": {},
   "outputs": [
    {
     "data": {
      "image/png": "[encoded data removed]",
      "text/plain": [
       "<Figure size 432x432 with 1 Axes>"
      ]
     },
     "metadata": {},
     "output_type": "display_data"
    }
   ],
   "source": [
    "fig = plt.figure(figsize=(6,6))\n",
    "hw=0.01\n",
    "plt.scatter(u.T[0]*1.5,u.T[1]*1.5,s=0.001)\n",
    "plt.plot(0,0,c=\"blue\",label=\"Nb\")\n",
    "plt.plot(0,0,c=\"green\",label=\"Se\")\n",
    "\n",
    "for k in range(1,4):\n",
    "    plt.arrow(0,0,u[k][0],u[k][1],lw=3,zorder=2,color=\"blue\",head_width=hw)   \n",
    "# for k in [4,5,7,8]:\n",
    "#     plt.arrow(0,0,u[k][0],u[k][1],lw=3,zorder=2,color=\"green\",head_width=hw)   \n",
    "\n",
    "plt.xticks([])\n",
    "plt.yticks([])\n",
    "plt.axis(\"equal\")\n",
    "# plt.title(\"Phase 1 In-Plane Modulation\")\n",
    "# plt.legend()\n",
    "plt.savefig(\"../Plot/2x2-p1_nb_mod.png\",bbox_inches='tight')\n",
    "plt.show()\n"
   ]
  },
  {
   "cell_type": "code",
   "execution_count": 39,
   "metadata": {},
   "outputs": [
    {
     "data": {
      "text/plain": [
       "array([ 0.00000000e+00,  0.00000000e+00, -2.16840434e-19])"
      ]
     },
     "execution_count": 39,
     "metadata": {},
     "output_type": "execute_result"
    }
   ],
   "source": [
    "sum(u,axis=0)"
   ]
  },
  {
   "cell_type": "code",
   "execution_count": null,
   "metadata": {},
   "outputs": [],
   "source": []
  },
  {
   "cell_type": "code",
   "execution_count": 88,
   "metadata": {},
   "outputs": [],
   "source": [
    "utilde = dot(exp(-1j*dot(n_atom[:4],qvec.T)).T,u[:4])"
   ]
  },
  {
   "cell_type": "code",
   "execution_count": 90,
   "metadata": {},
   "outputs": [
    {
     "data": {
      "text/plain": [
       "array([[ 0.167+0.j,  0.097-0.j,  0.   +0.j],\n",
       "       [ 0.   +0.j, -0.193-0.j,  0.   +0.j],\n",
       "       [-0.167+0.j,  0.097+0.j,  0.   +0.j]])"
      ]
     },
     "execution_count": 90,
     "metadata": {},
     "output_type": "execute_result"
    }
   ],
   "source": [
    "around(utilde,3)"
   ]
  },
  {
   "cell_type": "code",
   "execution_count": 59,
   "metadata": {},
   "outputs": [
    {
     "data": {
      "text/plain": [
       "array([0.167+0.j, 0.097-0.j, 0.   +0.j])"
      ]
     },
     "execution_count": 59,
     "metadata": {},
     "output_type": "execute_result"
    }
   ],
   "source": [
    "around(dot(exp(-1j*dot(n_atom[:4],qvec[0])).T,u[:4]),3)"
   ]
  },
  {
   "cell_type": "code",
   "execution_count": 60,
   "metadata": {},
   "outputs": [
    {
     "data": {
      "text/plain": [
       "array([ 0.   +0.j, -0.193-0.j,  0.   +0.j])"
      ]
     },
     "execution_count": 60,
     "metadata": {},
     "output_type": "execute_result"
    }
   ],
   "source": [
    "around(dot(exp(-1j*dot(n_atom[:4],qvec[1])).T,u[:4]),3)"
   ]
  },
  {
   "cell_type": "code",
   "execution_count": 62,
   "metadata": {},
   "outputs": [
    {
     "data": {
      "text/plain": [
       "array([[-0.   ,  0.   ,  0.   ],\n",
       "       [ 0.084,  0.048,  0.   ],\n",
       "       [ 0.   , -0.097,  0.   ],\n",
       "       [-0.084,  0.048,  0.   ]])"
      ]
     },
     "execution_count": 62,
     "metadata": {},
     "output_type": "execute_result"
    }
   ],
   "source": [
    "around(u[:4],3)"
   ]
  },
  {
   "cell_type": "code",
   "execution_count": 91,
   "metadata": {},
   "outputs": [
    {
     "data": {
      "text/plain": [
       "array([ 1.-0.j,  1.+0.j, -1.+0.j, -1.-0.j])"
      ]
     },
     "execution_count": 91,
     "metadata": {},
     "output_type": "execute_result"
    }
   ],
   "source": [
    "around(exp(-1j*dot(n_atom[:4],qvec[0])).T,3)"
   ]
  },
  {
   "cell_type": "code",
   "execution_count": 93,
   "metadata": {},
   "outputs": [
    {
     "data": {
      "text/plain": [
       "array([[ 0.       ,  0.       ,  0.       ],\n",
       "       [-0.5      ,  0.8660254,  0.       ],\n",
       "       [ 1.       ,  0.       ,  0.       ],\n",
       "       [ 0.5      ,  0.8660254,  0.       ]])"
      ]
     },
     "execution_count": 93,
     "metadata": {},
     "output_type": "execute_result"
    }
   ],
   "source": [
    "n_atom[:4]/norm(rvec[0])"
   ]
  },
  {
   "cell_type": "code",
   "execution_count": 97,
   "metadata": {},
   "outputs": [
    {
     "data": {
      "text/plain": [
       "array([[-0.        ,  0.        ,  0.        ],\n",
       "       [ 0.08373179,  0.04834257,  0.        ],\n",
       "       [ 0.        , -0.09668514,  0.        ],\n",
       "       [-0.08373179,  0.04834257,  0.        ]])"
      ]
     },
     "execution_count": 97,
     "metadata": {},
     "output_type": "execute_result"
    }
   ],
   "source": [
    "u[:4]"
   ]
  },
  {
   "cell_type": "code",
   "execution_count": null,
   "metadata": {},
   "outputs": [],
   "source": []
  },
  {
   "cell_type": "code",
   "execution_count": 99,
   "metadata": {},
   "outputs": [
    {
     "data": {
      "text/plain": [
       "array([[ 0.167+0.j,  0.097-0.j,  0.   +0.j],\n",
       "       [ 0.   +0.j, -0.193-0.j,  0.   +0.j],\n",
       "       [-0.167+0.j,  0.097+0.j,  0.   +0.j]])"
      ]
     },
     "execution_count": 99,
     "metadata": {},
     "output_type": "execute_result"
    }
   ],
   "source": [
    "around(utilde,3)"
   ]
  },
  {
   "cell_type": "code",
   "execution_count": null,
   "metadata": {},
   "outputs": [],
   "source": []
  },
  {
   "cell_type": "code",
   "execution_count": null,
   "metadata": {},
   "outputs": [],
   "source": []
  },
  {
   "cell_type": "code",
   "execution_count": null,
   "metadata": {},
   "outputs": [],
   "source": []
  },
  {
   "cell_type": "code",
   "execution_count": 85,
   "metadata": {},
   "outputs": [
    {
     "data": {
      "text/plain": [
       "array([ 0.   , -0.   , -3.142, -3.142])"
      ]
     },
     "execution_count": 85,
     "metadata": {},
     "output_type": "execute_result"
    }
   ],
   "source": [
    "around(dot(n_atom[:4],qvec[0]).T,3)"
   ]
  },
  {
   "cell_type": "code",
   "execution_count": 86,
   "metadata": {},
   "outputs": [
    {
     "data": {
      "text/plain": [
       "array([ 1.-0.j, -1.-0.j,  1.-0.j, -1.-0.j])"
      ]
     },
     "execution_count": 86,
     "metadata": {},
     "output_type": "execute_result"
    }
   ],
   "source": [
    "around(exp(-1j*dot(n_atom[:4],qvec[1])).T,3)"
   ]
  },
  {
   "cell_type": "code",
   "execution_count": 105,
   "metadata": {},
   "outputs": [
    {
     "data": {
      "text/plain": [
       "(-1-0j)"
      ]
     },
     "execution_count": 105,
     "metadata": {},
     "output_type": "execute_result"
    }
   ],
   "source": [
    "around(exp(-1j*dot(n_atom[2],qvec[2])).T,3)"
   ]
  },
  {
   "cell_type": "code",
   "execution_count": 106,
   "metadata": {},
   "outputs": [
    {
     "data": {
      "text/plain": [
       "array([3.69462483, 0.        , 0.        ])"
      ]
     },
     "execution_count": 106,
     "metadata": {},
     "output_type": "execute_result"
    }
   ],
   "source": [
    "n_atom[2]"
   ]
  },
  {
   "cell_type": "code",
   "execution_count": 104,
   "metadata": {},
   "outputs": [
    {
     "data": {
      "text/plain": [
       "array([ 1.-0.j, -1.+0.j, -1.-0.j,  1.-0.j])"
      ]
     },
     "execution_count": 104,
     "metadata": {},
     "output_type": "execute_result"
    }
   ],
   "source": [
    "around(exp(-1j*dot(n_atom[:4],qvec[2])).T,3)"
   ]
  },
  {
   "cell_type": "code",
   "execution_count": null,
   "metadata": {},
   "outputs": [],
   "source": []
  },
  {
   "cell_type": "code",
   "execution_count": 87,
   "metadata": {},
   "outputs": [
    {
     "data": {
      "text/plain": [
       "array([0.   , 3.142, 0.   , 3.142])"
      ]
     },
     "execution_count": 87,
     "metadata": {},
     "output_type": "execute_result"
    }
   ],
   "source": [
    "around(dot(n_atom[:4],qvec[1]),3)"
   ]
  },
  {
   "cell_type": "code",
   "execution_count": 83,
   "metadata": {},
   "outputs": [
    {
     "data": {
      "text/plain": [
       "array([[ 0.        , -0.        , -0.        ],\n",
       "       [-0.08373179, -0.04834257, -0.        ],\n",
       "       [-0.        ,  0.09668514, -0.        ],\n",
       "       [ 0.08373179, -0.04834257, -0.        ]])"
      ]
     },
     "execution_count": 83,
     "metadata": {},
     "output_type": "execute_result"
    }
   ],
   "source": [
    "-u[:4]"
   ]
  },
  {
   "cell_type": "code",
   "execution_count": 77,
   "metadata": {},
   "outputs": [
    {
     "data": {
      "text/plain": [
       "array([ 1.-0.j,  1.+0.j, -1.+0.j, -1.-0.j])"
      ]
     },
     "execution_count": 77,
     "metadata": {},
     "output_type": "execute_result"
    }
   ],
   "source": []
  },
  {
   "cell_type": "code",
   "execution_count": 75,
   "metadata": {},
   "outputs": [
    {
     "data": {
      "text/plain": [
       "(-1-1.2246467991473532e-16j)"
      ]
     },
     "execution_count": 75,
     "metadata": {},
     "output_type": "execute_result"
    }
   ],
   "source": [
    "exp(-1j*pi)"
   ]
  },
  {
   "cell_type": "code",
   "execution_count": 76,
   "metadata": {},
   "outputs": [
    {
     "data": {
      "text/plain": [
       "(-1+1.2246467991473532e-16j)"
      ]
     },
     "execution_count": 76,
     "metadata": {},
     "output_type": "execute_result"
    }
   ],
   "source": [
    "exp(1j*pi)"
   ]
  },
  {
   "cell_type": "code",
   "execution_count": null,
   "metadata": {},
   "outputs": [],
   "source": []
  },
  {
   "cell_type": "code",
   "execution_count": 40,
   "metadata": {},
   "outputs": [
    {
     "data": {
      "text/plain": [
       "array([[ 0.167+0.j,  0.097-0.j,  0.   +0.j],\n",
       "       [ 0.   +0.j, -0.193-0.j,  0.   +0.j],\n",
       "       [-0.167+0.j,  0.097+0.j,  0.   +0.j]])"
      ]
     },
     "execution_count": 40,
     "metadata": {},
     "output_type": "execute_result"
    }
   ],
   "source": [
    "around(utilde,3)"
   ]
  },
  {
   "cell_type": "code",
   "execution_count": 43,
   "metadata": {},
   "outputs": [
    {
     "data": {
      "text/plain": [
       "array([0.        , 0.98185848, 0.        ])"
      ]
     },
     "execution_count": 43,
     "metadata": {},
     "output_type": "execute_result"
    }
   ],
   "source": [
    "qvec[1]"
   ]
  },
  {
   "cell_type": "code",
   "execution_count": 56,
   "metadata": {},
   "outputs": [
    {
     "data": {
      "text/plain": [
       "-4.5707995234595646e-10j"
      ]
     },
     "execution_count": 56,
     "metadata": {},
     "output_type": "execute_result"
    }
   ],
   "source": [
    "sum(exp(-1j*dot(n_atom[:4],qvec[1])))"
   ]
  },
  {
   "cell_type": "code",
   "execution_count": 49,
   "metadata": {},
   "outputs": [
    {
     "data": {
      "text/plain": [
       "(array([ 0.00000000e+00, -4.13730206e-09, -3.14159265e+00, -3.14159266e+00]),\n",
       " 3)"
      ]
     },
     "execution_count": 49,
     "metadata": {},
     "output_type": "execute_result"
    }
   ],
   "source": [
    "dot(n_atom[:4],qvec[0]),3"
   ]
  },
  {
   "cell_type": "code",
   "execution_count": null,
   "metadata": {},
   "outputs": [],
   "source": []
  },
  {
   "cell_type": "code",
   "execution_count": null,
   "metadata": {},
   "outputs": [],
   "source": []
  },
  {
   "cell_type": "code",
   "execution_count": 34,
   "metadata": {},
   "outputs": [
    {
     "data": {
      "image/png": "[encoded data removed]",
      "text/plain": [
       "<Figure size 432x432 with 1 Axes>"
      ]
     },
     "metadata": {},
     "output_type": "display_data"
    }
   ],
   "source": [
    "fig = plt.figure(figsize=(6,6))\n",
    "hw=0.01\n",
    "plt.scatter(u.T[0]*1.5,u.T[1]*1.5,s=0.001)\n",
    "plt.scatter(-u.T[0]*1.5,-u.T[1]*1.5,s=0.001)\n",
    "plt.plot(0,0,c=\"blue\",label=\"Nb\")\n",
    "plt.plot(0,0,c=\"green\",label=\"Se\")\n",
    "\n",
    "for k in range(1,4):\n",
    "    plt.arrow(0,0,u[k][0],u[k][1],lw=3,zorder=2,color=\"black\",head_width=hw)   \n",
    "    plt.arrow(0,0,-u[k][0],-u[k][1],lw=3,zorder=2,color=\"black\",head_width=hw)   \n",
    "# for k in [4,5,7,8]:\n",
    "#     plt.arrow(0,0,u[k][0],u[k][1],lw=3,zorder=2,color=\"green\",head_width=hw)   \n",
    "\n",
    "plt.xticks([])\n",
    "plt.yticks([])\n",
    "plt.axis(\"equal\")\n",
    "# plt.title(\"Phase 1 In-Plane Modulation\")\n",
    "# plt.legend()\n",
    "plt.savefig(\"../Plot/D6.png\",bbox_inches='tight')\n",
    "plt.show()\n"
   ]
  },
  {
   "cell_type": "code",
   "execution_count": 60,
   "metadata": {},
   "outputs": [
    {
     "data": {
      "image/png": "[encoded data removed]",
      "text/plain": [
       "<Figure size 432x432 with 1 Axes>"
      ]
     },
     "metadata": {},
     "output_type": "display_data"
    }
   ],
   "source": [
    "fig = plt.figure(figsize=(6,6))\n",
    "hw=0.01\n",
    "plt.scatter(u.T[0]*0*1.5,u.T[1]*1.5,s=0.001)\n",
    "plt.scatter(-u.T[0]*1.5,-u.T[1]*1.5,s=0.001)\n",
    "plt.plot(0,0,c=\"blue\",label=\"Nb\")\n",
    "plt.plot(0,0,c=\"green\",label=\"Se\")\n",
    "\n",
    "for k in range(1,4):\n",
    "    plt.arrow(0,0,u[k][0]*0.5,u[k][1]*0.5,lw=3,zorder=2,color=\"red\",head_width=hw)   \n",
    "    plt.arrow(0,0,-u[k][0],-u[k][1],lw=3,zorder=2,color=\"blue\",head_width=hw)   \n",
    "# for k in [4,5,7,8]:\n",
    "#     plt.arrow(0,0,u[k][0],u[k][1],lw=3,zorder=2,color=\"green\",head_width=hw)   \n",
    "\n",
    "plt.xticks([])\n",
    "plt.yticks([])\n",
    "plt.axis(\"equal\")\n",
    "# plt.title(\"Phase 1 In-Plane Modulation\")\n",
    "# plt.legend()\n",
    "plt.savefig(\"../Plot/D33.png\",bbox_inches='tight')\n",
    "plt.show()\n"
   ]
  },
  {
   "cell_type": "code",
   "execution_count": null,
   "metadata": {},
   "outputs": [],
   "source": []
  },
  {
   "cell_type": "code",
   "execution_count": null,
   "metadata": {},
   "outputs": [],
   "source": []
  },
  {
   "cell_type": "code",
   "execution_count": 35,
   "metadata": {},
   "outputs": [
    {
     "data": {
      "text/plain": [
       "array([[ 0.16746358+6.92847400e-10j,  0.09668514-8.24928549e-18j,\n",
       "         0.        +0.00000000e+00j],\n",
       "       [ 0.        +8.57189395e-28j, -0.19337028-2.20964196e-11j,\n",
       "         0.        +0.00000000e+00j],\n",
       "       [-0.16746358+7.31119530e-10j,  0.09668514+1.54317440e-17j,\n",
       "         0.        +0.00000000e+00j],\n",
       "       [ 0.16746358-6.92847400e-10j,  0.09668514+8.24928549e-18j,\n",
       "         0.        +0.00000000e+00j],\n",
       "       [ 0.        -8.57189395e-28j, -0.19337028+2.20964196e-11j,\n",
       "         0.        +0.00000000e+00j],\n",
       "       [-0.16746358-7.31119530e-10j,  0.09668514-1.54317440e-17j,\n",
       "         0.        +0.00000000e+00j]])"
      ]
     },
     "execution_count": 35,
     "metadata": {},
     "output_type": "execute_result"
    }
   ],
   "source": [
    "utilde"
   ]
  },
  {
   "cell_type": "code",
   "execution_count": null,
   "metadata": {},
   "outputs": [],
   "source": []
  },
  {
   "cell_type": "code",
   "execution_count": 68,
   "metadata": {},
   "outputs": [
    {
     "data": {
      "text/plain": [
       "array([[ 0.16746358,  0.09668514,  0.        ],\n",
       "       [ 0.        , -0.19337028,  0.        ],\n",
       "       [-0.16746358,  0.09668514,  0.        ],\n",
       "       [ 0.16746358,  0.09668514,  0.        ],\n",
       "       [ 0.        , -0.19337028,  0.        ],\n",
       "       [-0.16746358,  0.09668514,  0.        ]])"
      ]
     },
     "execution_count": 68,
     "metadata": {},
     "output_type": "execute_result"
    }
   ],
   "source": [
    "real(utilde)"
   ]
  },
  {
   "cell_type": "code",
   "execution_count": 63,
   "metadata": {},
   "outputs": [
    {
     "name": "stdout",
     "output_type": "stream",
     "text": [
      "0.19337028448868768\n",
      "0.19337028\n",
      "0.19337028448868768\n"
     ]
    }
   ],
   "source": [
    "for i in utilde:\n",
    "    print(norm(i))"
   ]
  },
  {
   "cell_type": "code",
   "execution_count": 64,
   "metadata": {},
   "outputs": [
    {
     "name": "stdout",
     "output_type": "stream",
     "text": [
      "0.19337028448868768\n",
      "0.19337028\n",
      "0.19337028448868768\n"
     ]
    }
   ],
   "source": [
    "for i in utilde:\n",
    "    print(norm(real(i)))"
   ]
  },
  {
   "cell_type": "code",
   "execution_count": 65,
   "metadata": {},
   "outputs": [
    {
     "name": "stdout",
     "output_type": "stream",
     "text": [
      "6.928474036696848e-10\n",
      "2.2096419591881065e-11\n",
      "7.311195262527267e-10\n"
     ]
    }
   ],
   "source": [
    "for i in utilde:\n",
    "    print(norm(imag(i)))"
   ]
  },
  {
   "cell_type": "code",
   "execution_count": 133,
   "metadata": {},
   "outputs": [
    {
     "data": {
      "image/png": "[encoded data removed]",
      "text/plain": [
       "<Figure size 1008x720 with 1 Axes>"
      ]
     },
     "metadata": {},
     "output_type": "display_data"
    }
   ],
   "source": [
    "fig = plt.figure(figsize=(14,10))\n",
    "# for i in qvec:\n",
    "# #     print(linalg.norm(utilde[i]))\n",
    "#     plt.arrow(0,0,i[0],i[1],head_width=0.03,color=\"blue\")\n",
    "#     plt.scatter(i[0]*13/10,i[1]*13/10,s=0.0001)\n",
    "    \n",
    "colors=[\"red\",\"black\",\"green\"]\n",
    "    \n",
    "for i in range(3):\n",
    "    plt.arrow(0,0,real(utilde)[i][0],real(utilde)[i][1],head_width=0.015,color=colors[i],ls=\"-\",lw=3)\n",
    "#     plt.arrow(0,0,imag(utilde)[i][0],imag(utilde)[i][1],head_width=0.015,color=colors[i],ls=\"--\",lw=3)\n",
    "    plt.scatter(real(utilde)[i][0]*15/10,real(utilde)[i][1]*15/10,s=0.0001)\n",
    "#     plt.scatter(imag(utilde)[i][0]*15/10,imag(utilde)[i][1]*15/10,s=0.0001)\n",
    "    plt.plot(0,c=colors[i],label=r\"$U_{}$\".format(i+1))\n",
    "    \n",
    "# for i in real(utilde):\n",
    "# #     print(linalg.norm(utilde[i]))\n",
    "#     plt.arrow(0,0,i[0],i[1],head_width=0.03,color=\"black\")\n",
    "#     plt.scatter(i[0]*15/10,i[1]*15/10,s=0.0001)\n",
    "    \n",
    "# for i in imag(utilde):\n",
    "# #     print(linalg.norm(utilde[i]))\n",
    "#     plt.arrow(0,0,i[0],i[1],head_width=0.03,color=\"red\")\n",
    "#     plt.scatter(i[0]*15/10,i[1]*15/10,s=0.0001)\n",
    "\n",
    "\n",
    "# plt.plot(0,c=\"black\",label=\"Re(CDW)\")\n",
    "# plt.plot(0,c=\"red\",label=\"Im(CDW)\")\n",
    "# plt.plot(0,c=\"blue\",label=\"Q-vec\")\n",
    "plt.xticks([])\n",
    "plt.yticks([])\n",
    "plt.legend()\n",
    "plt.title(\"CDW Order Parameter Nb\")\n",
    "plt.axis(\"equal\")    \n",
    "plt.savefig(\"2x2_phase1_nb.png\",bbox_inches='tight')\n",
    "plt.show()"
   ]
  },
  {
   "cell_type": "code",
   "execution_count": null,
   "metadata": {},
   "outputs": [],
   "source": []
  },
  {
   "cell_type": "code",
   "execution_count": null,
   "metadata": {},
   "outputs": [],
   "source": []
  },
  {
   "cell_type": "code",
   "execution_count": 95,
   "metadata": {},
   "outputs": [
    {
     "data": {
      "text/plain": [
       "array([[-0.        ,  0.        ,  0.        ],\n",
       "       [ 0.08373179,  0.04834257,  0.        ],\n",
       "       [ 0.        , -0.09668514,  0.        ],\n",
       "       [-0.08373179,  0.04834257,  0.        ],\n",
       "       [-0.        , -0.0219685 , -0.00062914],\n",
       "       [-0.01902528,  0.01098425, -0.00062914],\n",
       "       [-0.        ,  0.        ,  0.0662878 ],\n",
       "       [ 0.01902528,  0.01098425, -0.00062914],\n",
       "       [-0.        , -0.0219685 ,  0.00062914],\n",
       "       [-0.01902528,  0.01098425,  0.00062914],\n",
       "       [-0.        ,  0.        , -0.0662878 ],\n",
       "       [ 0.01902528,  0.01098425,  0.00062914]])"
      ]
     },
     "execution_count": 95,
     "metadata": {},
     "output_type": "execute_result"
    }
   ],
   "source": [
    "u"
   ]
  },
  {
   "cell_type": "code",
   "execution_count": 56,
   "metadata": {},
   "outputs": [
    {
     "data": {
      "image/png": "[encoded data removed]",
      "text/plain": [
       "<Figure size 432x432 with 1 Axes>"
      ]
     },
     "metadata": {},
     "output_type": "display_data"
    }
   ],
   "source": [
    "fig = plt.figure(figsize=(6,6))\n",
    "hw=0.02\n",
    "plt.scatter(u.T[0]*1.5,u.T[1]*1.5,s=0.001)\n",
    "plt.plot(0,0,c=\"blue\",label=\"Nb\")\n",
    "plt.plot(0,0,c=\"green\",label=\"Se\")\n",
    "\n",
    "# for k in range(1,4):\n",
    "#     plt.arrow(0,0,u[k][0],u[k][2],lw=3,zorder=2,color=\"blue\",head_width=hw)   \n",
    "for k in range(4,8):\n",
    "    plt.arrow(0,0,u[k][1],u[k][2],lw=3,zorder=2,color=\"green\",head_width=hw)   \n",
    "\n",
    "plt.xticks([])\n",
    "plt.yticks([])\n",
    "plt.axis(\"equal\")\n",
    "plt.title(\"Phase 1 In-Plane Modulation\")\n",
    "plt.legend()\n",
    "# plt.savefig(\"../Plot/2x2-p2_mod.png\",bbox_inches='tight')\n",
    "plt.show()\n"
   ]
  },
  {
   "cell_type": "code",
   "execution_count": 54,
   "metadata": {},
   "outputs": [
    {
     "data": {
      "text/plain": [
       "array([[-0.        ,  0.        ,  0.        ],\n",
       "       [ 0.08373179,  0.04834257,  0.        ],\n",
       "       [ 0.        , -0.09668514,  0.        ],\n",
       "       [-0.08373179,  0.04834257,  0.        ],\n",
       "       [-0.        , -0.0219685 , -0.00062914],\n",
       "       [-0.01902528,  0.01098425, -0.00062914],\n",
       "       [-0.        ,  0.        ,  0.0662878 ],\n",
       "       [ 0.01902528,  0.01098425, -0.00062914],\n",
       "       [-0.        , -0.0219685 ,  0.00062914],\n",
       "       [-0.01902528,  0.01098425,  0.00062914],\n",
       "       [-0.        ,  0.        , -0.0662878 ],\n",
       "       [ 0.01902528,  0.01098425,  0.00062914]])"
      ]
     },
     "execution_count": 54,
     "metadata": {},
     "output_type": "execute_result"
    }
   ],
   "source": [
    "u"
   ]
  },
  {
   "cell_type": "code",
   "execution_count": null,
   "metadata": {},
   "outputs": [],
   "source": []
  },
  {
   "cell_type": "code",
   "execution_count": null,
   "metadata": {},
   "outputs": [],
   "source": []
  },
  {
   "cell_type": "code",
   "execution_count": 11,
   "metadata": {},
   "outputs": [
    {
     "name": "stdout",
     "output_type": "stream",
     "text": [
      "0.0\n",
      "0.09668514224434384\n",
      "0.09668514\n",
      "0.09668514224434384\n",
      "0.0219685\n",
      "0.021968500794112007\n",
      "0.0\n",
      "0.021968500794112007\n",
      "0.0219685\n",
      "0.021968500794112007\n",
      "0.0\n",
      "0.021968500794112007\n"
     ]
    }
   ],
   "source": [
    "for i in u:\n",
    "    print(norm(i[:2]))"
   ]
  },
  {
   "cell_type": "markdown",
   "metadata": {},
   "source": [
    "###### u"
   ]
  },
  {
   "cell_type": "code",
   "execution_count": 64,
   "metadata": {},
   "outputs": [
    {
     "ename": "IndexError",
     "evalue": "index 12 is out of bounds for axis 0 with size 12",
     "output_type": "error",
     "traceback": [
      "\u001b[0;31m---------------------------------------------------------------------------\u001b[0m",
      "\u001b[0;31mIndexError\u001b[0m                                Traceback (most recent call last)",
      "\u001b[0;32m<ipython-input-64-0360fadc7636>\u001b[0m in \u001b[0;36m<module>\u001b[0;34m\u001b[0m\n\u001b[0;32m----> 1\u001b[0;31m \u001b[0mu\u001b[0m\u001b[0;34m[\u001b[0m\u001b[0;36m12\u001b[0m\u001b[0;34m]\u001b[0m\u001b[0;34m\u001b[0m\u001b[0;34m\u001b[0m\u001b[0m\n\u001b[0m",
      "\u001b[0;31mIndexError\u001b[0m: index 12 is out of bounds for axis 0 with size 12"
     ]
    }
   ],
   "source": [
    "u[12]"
   ]
  },
  {
   "cell_type": "code",
   "execution_count": 66,
   "metadata": {},
   "outputs": [
    {
     "data": {
      "image/png": "[encoded data removed]",
      "text/plain": [
       "<Figure size 720x720 with 1 Axes>"
      ]
     },
     "metadata": {},
     "output_type": "display_data"
    }
   ],
   "source": [
    "fig = plt.figure(figsize=(10,10))\n",
    "hw=0.01\n",
    "\n",
    "for k in range(4,12):\n",
    "    plt.arrow(0,0,u[k][0],u[k][1],zorder=2,color=\"blue\",head_width=hw,lw=1)   \n",
    "    plt.scatter([0,u[k][0]*1.1],[0,u[k][1]*1.1],s=0.0001)   \n",
    "\n",
    "# for k in [2,4]:\n",
    "#     plt.arrow(0,0,uar[k][0],uar[k][2],lw=3,zorder=2,color=\"red\",head_width=hw)   \n",
    "# for k in [1,8]:\n",
    "#     plt.arrow(0,0,uar[k][0],uar[k][2],lw=3,zorder=2,color=\"black\",head_width=hw)   \n",
    "plt.xticks([])\n",
    "plt.yticks([])\n",
    "plt.axis(\"equal\")\n",
    "# plt.title(\"Phase 1 Nb Modulation \\n XZ Plane\")\n",
    "# plt.savefig(\"p1_nb_xz.pdf\",bbox_inches='tight')\n",
    "plt.show()\n"
   ]
  },
  {
   "cell_type": "code",
   "execution_count": null,
   "metadata": {},
   "outputs": [],
   "source": []
  }
 ],
 "metadata": {
  "kernelspec": {
   "display_name": "Python 3",
   "language": "python",
   "name": "python3"
  },
  "language_info": {
   "codemirror_mode": {
    "name": "ipython",
    "version": 3
   },
   "file_extension": ".py",
   "mimetype": "text/x-python",
   "name": "python",
   "nbconvert_exporter": "python",
   "pygments_lexer": "ipython3",
   "version": "3.8.3"
  }
 },
 "nbformat": 4,
 "nbformat_minor": 4
}
