{
 "cells": [
  {
   "cell_type": "code",
   "execution_count": 3,
   "metadata": {},
   "outputs": [],
   "source": [
    "import matplotlib.pyplot as plt\n",
    "from numpy import *\n",
    "from numpy.linalg import *\n",
    "from mpl_toolkits.mplot3d import Axes3D\n",
    "\n",
    "# %matplotlib widget\n",
    "%matplotlib inline"
   ]
  },
  {
   "cell_type": "code",
   "execution_count": 6,
   "metadata": {},
   "outputs": [],
   "source": [
    "svec = loadtxt(\"../Data/3x3-0p/normal.cell\")\n",
    "rvec = svec/3\n",
    "b = 4*pi/(linalg.norm(rvec[0])*sqrt(3))\n",
    "qvec = b*array([[-sqrt(3)/2,-1/2,0],[0,1,0],[sqrt(3)/2,-1/2,0]])/3\n",
    "qdif = array([[qvec[0]-qvec[1],qvec[1]-qvec[2],qvec[2]-qvec[0]]])\n",
    "qdif= qdif[0]\n",
    "qunit = qvec/abs(linalg.norm(qvec[0]))\n"
   ]
  },
  {
   "cell_type": "code",
   "execution_count": 7,
   "metadata": {},
   "outputs": [],
   "source": [
    "n_data = loadtxt(\"../Data/3x3-0p-p2/n.pos\")\n",
    "m_data = loadtxt(\"../Data/3x3-0p-p2/m.pos\")\n",
    "\n",
    "\n",
    "n_atom = dot(n_data,svec)\n",
    "n_atom = n_atom-n_atom[0]\n",
    "m_atom = dot(m_data,svec)\n",
    "m_atom += average(n_atom[:9]-m_atom[:9],axis=0)\n",
    "u = around(m_atom - n_atom,8)"
   ]
  },
  {
   "cell_type": "code",
   "execution_count": 25,
   "metadata": {},
   "outputs": [
    {
     "data": {
      "text/plain": [
       "array([-1.90222222e-06,  7.09955556e-05, -4.62222222e-07])"
      ]
     },
     "execution_count": 25,
     "metadata": {},
     "output_type": "execute_result"
    }
   ],
   "source": [
    "average(u[9:],axis=0)"
   ]
  },
  {
   "cell_type": "code",
   "execution_count": null,
   "metadata": {},
   "outputs": [],
   "source": []
  },
  {
   "cell_type": "code",
   "execution_count": null,
   "metadata": {},
   "outputs": [],
   "source": []
  },
  {
   "cell_type": "code",
   "execution_count": 18,
   "metadata": {},
   "outputs": [],
   "source": [
    "def plot_lattice():\n",
    "    fig = plt.figure(figsize=(10,10))\n",
    "    s1, s2 = 200,300\n",
    "    hw=0.2\n",
    "    cell_color=\"black\"\n",
    "    cell_lw=4\n",
    "    cell_zorder=0\n",
    "    plt.scatter(0,0,c=\"blue\",s=s2,label=\"Nb\")\n",
    "    plt.scatter(0,0,c=\"green\",s=s1,label=\"Se\")    \n",
    "    period = arange(-2,3,1)\n",
    "    for i in period:\n",
    "        for j in period:\n",
    "            plt.scatter(n_atom[:9].T[0]+(i*svec[0][0]+j*svec[1][0]),n_atom[:9].T[1]+(i*svec[0][1]+j*svec[1][1]),c=\"blue\",s=s2,zorder=2)\n",
    "            plt.scatter(n_atom[9:18].T[0]+(i*svec[0][0]+j*svec[1][0]),n_atom[9:18].T[1]+(i*svec[0][1]+j*svec[1][1]),c=\"green\",s=s1,zorder=2)\n",
    "            plt.plot([0,svec[0][0]],[0,svec[0][1]],c=cell_color,lw=cell_lw,zorder=cell_zorder)\n",
    "            plt.plot([0,svec[1][0]],[0,svec[1][1]],c=cell_color,lw=cell_lw,zorder=cell_zorder)\n",
    "            plt.plot([svec[0][0],svec[0][0]+svec[1][0]],[svec[0][1],svec[0][1]+svec[1][1]],c=cell_color,lw=cell_lw,zorder=cell_zorder)\n",
    "            plt.plot([svec[1][0],svec[1][0]+svec[0][0]],[svec[1][1],svec[1][1]+svec[0][1]],c=cell_color,lw=cell_lw,zorder=cell_zorder)\n",
    "            plt.plot([0,svec[0][0]],[0,svec[0][1]],c=cell_color,lw=cell_lw,zorder=cell_zorder)\n",
    "            plt.plot([0,svec[1][0]],[0,-svec[1][1]],c=cell_color,lw=cell_lw,zorder=cell_zorder)\n",
    "            plt.plot([svec[0][0],svec[0][0]+svec[1][0]],[svec[0][1],svec[0][1]-svec[1][1]],c=cell_color,lw=cell_lw,zorder=cell_zorder)\n",
    "            plt.plot([svec[1][0],svec[1][0]+svec[0][0]],[-svec[1][1],-svec[1][1]+svec[0][1]],c=cell_color,lw=cell_lw,zorder=cell_zorder)\n",
    "            plt.plot([svec[1][0],-svec[0][0]],[svec[1][1],-svec[0][1]],c=cell_color,lw=cell_lw,zorder=cell_zorder)\n",
    "            plt.plot([-svec[0][0],svec[1][0]],[svec[0][1],-svec[1][1]],c=cell_color,lw=cell_lw,zorder=cell_zorder)\n",
    "            for k in [0,6,8]:\n",
    "                plt.arrow(n_atom[k][0]+(i*svec[0][0]+j*svec[1][0]),n_atom[k][1]+(i*svec[0][1]+j*svec[1][1]),(u[:,0][k])*10,(u[:,1][k])*10,lw=3,zorder=2,color=\"black\",head_width=hw)   \n",
    "            for k in [3,4,7]:\n",
    "                plt.arrow(n_atom[k][0]+(i*svec[0][0]+j*svec[1][0]),n_atom[k][1]+(i*svec[0][1]+j*svec[1][1]),(u[:,0][k])*10,(u[:,1][k])*10,lw=3,zorder=2,color=\"red\",head_width=hw)   \n",
    "            for k in [1,2,5]:\n",
    "                plt.arrow(n_atom[k][0]+(i*svec[0][0]+j*svec[1][0]),n_atom[k][1]+(i*svec[0][1]+j*svec[1][1]),(u[:,0][k])*10,(u[:,1][k])*10,lw=3,zorder=2,color=\"orange\",head_width=hw)   \n",
    "        \n",
    "            for k in range(9,18):\n",
    "                plt.arrow(n_atom[k][0]+(i*svec[0][0]+j*svec[1][0]),n_atom[k][1]+(i*svec[0][1]+j*svec[1][1]),(u[:,0][k])*10,(u[:,1][k])*10,lw=3,zorder=2,color=\"orange\",head_width=hw)   \n",
    "    plt.xlim(-12,12)\n",
    "    plt.ylim(-12,12)\n",
    "    plt.xticks([])\n",
    "    plt.yticks([])\n",
    "    plt.title(\"NB Displacement\")\n",
    "#     plt.axis(\"equal\")\n",
    "    plt.legend(loc='upper right', borderpad=1,markerscale=1,labelspacing=1,fontsize=12)\n",
    "#     plt.savefig(\"../Plot/3x3_p2_nb_mod.png\",bbox_inches='tight')\n",
    "    # plt.axis(\"equal\")\n",
    "#     plt.show()"
   ]
  },
  {
   "cell_type": "code",
   "execution_count": null,
   "metadata": {},
   "outputs": [],
   "source": []
  },
  {
   "cell_type": "code",
   "execution_count": null,
   "metadata": {},
   "outputs": [],
   "source": []
  },
  {
   "cell_type": "code",
   "execution_count": null,
   "metadata": {},
   "outputs": [],
   "source": []
  },
  {
   "cell_type": "code",
   "execution_count": 19,
   "metadata": {},
   "outputs": [
    {
     "data": {
      "image/png": "[encoded data removed]",
      "text/plain": [
       "<Figure size 720x720 with 1 Axes>"
      ]
     },
     "metadata": {},
     "output_type": "display_data"
    }
   ],
   "source": [
    "plot_lattice()"
   ]
  },
  {
   "cell_type": "code",
   "execution_count": 15,
   "metadata": {},
   "outputs": [
    {
     "name": "stdout",
     "output_type": "stream",
     "text": [
      "0.00021360243561345456\n",
      "0.024979826832530284\n",
      "0.02526370561476087\n",
      "0.025053504091837136\n",
      "6.895620711727118e-05\n",
      "0.025280954906618934\n",
      "0.02504491833427492\n",
      "0.024984898569682047\n",
      "0.0003940203002384522\n"
     ]
    }
   ],
   "source": [
    "for i in u[9:18]:\n",
    "    print(norm(i[:2]))"
   ]
  },
  {
   "cell_type": "code",
   "execution_count": null,
   "metadata": {},
   "outputs": [],
   "source": []
  },
  {
   "cell_type": "code",
   "execution_count": null,
   "metadata": {},
   "outputs": [],
   "source": [
    "fig = plt.figure(figsize=(6,6))\n",
    "hw=0.02\n",
    "plt.scatter(u.T[0]*1.5,u.T[1]*1.5,s=0.001)\n",
    "\n",
    "for k in [0,6,8]:\n",
    "    plt.arrow(0,0,u[k][0],u[k][1],lw=3,zorder=2,color=\"blue\",head_width=hw)   \n",
    "for k in [1,2,5]:\n",
    "    plt.arrow(0,0,u[k][0],u[k][1],lw=3,zorder=2,color=\"black\",head_width=hw)   \n",
    "for k in [3,4,7]:\n",
    "    plt.arrow(0,0,u[k][0],u[k][1],lw=3,zorder=2,color=\"red\",head_width=hw)   \n",
    "\n",
    "plt.xticks([])\n",
    "plt.yticks([])\n",
    "plt.axis(\"equal\")\n",
    "plt.title(\"Phase 2 Nb Modulation Vectors\")\n",
    "plt.savefig(\"p2_nb_mod.pdf\",bbox_inches='tight')\n",
    "plt.show()"
   ]
  },
  {
   "cell_type": "code",
   "execution_count": null,
   "metadata": {},
   "outputs": [],
   "source": []
  },
  {
   "cell_type": "code",
   "execution_count": 291,
   "metadata": {},
   "outputs": [],
   "source": [
    "uar = around(u,3)"
   ]
  },
  {
   "cell_type": "code",
   "execution_count": 292,
   "metadata": {},
   "outputs": [],
   "source": [
    "nbar = around(n_atom[:9],3)"
   ]
  },
  {
   "cell_type": "code",
   "execution_count": 293,
   "metadata": {
    "jupyter": {
     "source_hidden": true
    }
   },
   "outputs": [
    {
     "data": {
      "image/png": "[encoded data removed]",
      "text/plain": [
       "<Figure size 432x432 with 1 Axes>"
      ]
     },
     "metadata": {},
     "output_type": "display_data"
    }
   ],
   "source": [
    "fig = plt.figure(figsize=(6,6))\n",
    "hw=0.02\n",
    "plt.scatter(u.T[0]*1.5,u.T[1]*1.5,s=0.001)\n",
    "\n",
    "for k in [0,6]:\n",
    "    plt.arrow(0,0,uar[k][0],uar[k][2],lw=3,zorder=2,color=\"blue\",head_width=hw)   \n",
    "for k in [1,5]:\n",
    "    plt.arrow(0,0,uar[k][0],uar[k][2],lw=3,zorder=2,color=\"black\",head_width=hw)   \n",
    "for k in [4,7]:\n",
    "    plt.arrow(0,0,uar[k][0],uar[k][2],lw=3,zorder=2,color=\"red\",head_width=hw)   \n",
    "\n",
    "plt.xticks([])\n",
    "plt.yticks([])\n",
    "plt.axis(\"equal\")\n",
    "plt.title(\"Phase 2 Nb Modulation \\n XZ Plane\")\n",
    "plt.savefig(\"p2_nb_xz.pdf\",bbox_inches='tight')\n",
    "plt.show()"
   ]
  },
  {
   "cell_type": "code",
   "execution_count": 294,
   "metadata": {},
   "outputs": [
    {
     "data": {
      "text/plain": [
       "array([[-0.096, -0.055,  0.   ],\n",
       "       [-0.086,  0.049,  0.   ],\n",
       "       [ 0.   , -0.1  ,  0.   ],\n",
       "       [-0.   , -0.013,  0.   ],\n",
       "       [-0.012,  0.007,  0.   ],\n",
       "       [ 0.086,  0.049,  0.   ],\n",
       "       [ 0.096, -0.055,  0.   ],\n",
       "       [ 0.011,  0.007,  0.   ],\n",
       "       [-0.   ,  0.111,  0.   ],\n",
       "       [ 0.   , -0.   , -0.136],\n",
       "       [ 0.018, -0.018, -0.216],\n",
       "       [-0.006,  0.024, -0.216],\n",
       "       [ 0.024, -0.007, -0.216],\n",
       "       [-0.   , -0.   , -0.21 ],\n",
       "       [ 0.006,  0.024, -0.216],\n",
       "       [-0.024, -0.007, -0.216],\n",
       "       [-0.018, -0.018, -0.216],\n",
       "       [-0.   ,  0.   , -0.319],\n",
       "       [ 0.   , -0.   ,  0.136],\n",
       "       [ 0.018, -0.018,  0.216],\n",
       "       [-0.006,  0.024,  0.216],\n",
       "       [ 0.024, -0.007,  0.216],\n",
       "       [-0.   , -0.   ,  0.21 ],\n",
       "       [ 0.006,  0.024,  0.216],\n",
       "       [-0.024, -0.007,  0.216],\n",
       "       [-0.018, -0.018,  0.216],\n",
       "       [-0.   ,  0.   ,  0.319]])"
      ]
     },
     "execution_count": 294,
     "metadata": {},
     "output_type": "execute_result"
    }
   ],
   "source": [
    "uar"
   ]
  },
  {
   "cell_type": "code",
   "execution_count": 310,
   "metadata": {},
   "outputs": [
    {
     "data": {
      "image/png": "[encoded data removed]",
      "text/plain": [
       "<Figure size 720x720 with 1 Axes>"
      ]
     },
     "metadata": {},
     "output_type": "display_data"
    }
   ],
   "source": [
    "fig = plt.figure(figsize=(10,10))\n",
    "hw=0.01\n",
    "\n",
    "for k in range(9,27):\n",
    "    plt.arrow(0,0,uar[k][0],uar[k][2],zorder=2,color=\"blue\",head_width=hw,lw=1)   \n",
    "    plt.scatter([0,uar[k][0]*1.1],[0,uar[k][2]*1.1],s=0.0001)   \n",
    "\n",
    "# for k in [2,4]:\n",
    "#     plt.arrow(0,0,uar[k][0],uar[k][2],lw=3,zorder=2,color=\"red\",head_width=hw)   \n",
    "# for k in [1,8]:\n",
    "#     plt.arrow(0,0,uar[k][0],uar[k][2],lw=3,zorder=2,color=\"black\",head_width=hw)   \n",
    "plt.xticks([])\n",
    "plt.yticks([])\n",
    "plt.axis(\"equal\")\n",
    "# plt.title(\"Phase 1 Nb Modulation \\n XZ Plane\")\n",
    "# plt.savefig(\"p1_nb_xz.pdf\",bbox_inches='tight')\n",
    "plt.show()\n"
   ]
  },
  {
   "cell_type": "code",
   "execution_count": 283,
   "metadata": {},
   "outputs": [
    {
     "data": {
      "text/plain": [
       "array([ 1.7110e-05, -6.3896e-04,  4.1400e-06])"
      ]
     },
     "execution_count": 283,
     "metadata": {},
     "output_type": "execute_result"
    }
   ],
   "source": [
    "sum(uar[0:9],axis=0)"
   ]
  },
  {
   "cell_type": "code",
   "execution_count": 284,
   "metadata": {},
   "outputs": [
    {
     "data": {
      "text/plain": [
       "array([-8.86335276e-18, -1.00000000e-08, -1.99999999e-08])"
      ]
     },
     "execution_count": 284,
     "metadata": {},
     "output_type": "execute_result"
    }
   ],
   "source": [
    "sum(uar[9:],axis=0)"
   ]
  },
  {
   "cell_type": "code",
   "execution_count": 286,
   "metadata": {},
   "outputs": [
    {
     "data": {
      "text/plain": [
       "array([[-0.1, -0.1,  0. ],\n",
       "       [-0.1,  0. ,  0. ],\n",
       "       [ 0. , -0.1,  0. ],\n",
       "       [-0. , -0. ,  0. ],\n",
       "       [-0. ,  0. ,  0. ],\n",
       "       [ 0.1,  0. ,  0. ],\n",
       "       [ 0.1, -0.1,  0. ],\n",
       "       [ 0. ,  0. ,  0. ],\n",
       "       [-0. ,  0.1,  0. ],\n",
       "       [ 0. , -0. , -0.1],\n",
       "       [ 0. , -0. , -0.2],\n",
       "       [-0. ,  0. , -0.2],\n",
       "       [ 0. , -0. , -0.2],\n",
       "       [-0. , -0. , -0.2],\n",
       "       [ 0. ,  0. , -0.2],\n",
       "       [-0. , -0. , -0.2],\n",
       "       [-0. , -0. , -0.2],\n",
       "       [-0. ,  0. , -0.3],\n",
       "       [ 0. , -0. ,  0.1],\n",
       "       [ 0. , -0. ,  0.2],\n",
       "       [-0. ,  0. ,  0.2],\n",
       "       [ 0. , -0. ,  0.2],\n",
       "       [-0. , -0. ,  0.2],\n",
       "       [ 0. ,  0. ,  0.2],\n",
       "       [-0. , -0. ,  0.2],\n",
       "       [-0. , -0. ,  0.2],\n",
       "       [-0. ,  0. ,  0.3]])"
      ]
     },
     "execution_count": 286,
     "metadata": {},
     "output_type": "execute_result"
    }
   ],
   "source": [
    "around(uar,1)"
   ]
  },
  {
   "cell_type": "code",
   "execution_count": 289,
   "metadata": {},
   "outputs": [
    {
     "data": {
      "text/plain": [
       "(-0.11000000000000001,\n",
       " 0.11000000000000001,\n",
       " -0.11000000000000001,\n",
       " 0.11000000000000001)"
      ]
     },
     "execution_count": 289,
     "metadata": {},
     "output_type": "execute_result"
    },
    {
     "data": {
      "image/png": "[encoded data removed]",
      "text/plain": [
       "<Figure size 432x288 with 1 Axes>"
      ]
     },
     "metadata": {
      "needs_background": "light"
     },
     "output_type": "display_data"
    }
   ],
   "source": [
    "plt.scatter(around(uar,1)[:9].T[0],around(uar,1)[:9].T[1])\n",
    "plt.axis(\"equal\")"
   ]
  },
  {
   "cell_type": "code",
   "execution_count": null,
   "metadata": {},
   "outputs": [],
   "source": []
  },
  {
   "cell_type": "code",
   "execution_count": null,
   "metadata": {},
   "outputs": [],
   "source": []
  },
  {
   "cell_type": "code",
   "execution_count": 202,
   "metadata": {},
   "outputs": [
    {
     "data": {
      "text/plain": [
       "array([[ 0.059-0.271j,  0.034-0.157j,  0.   +0.j   ],\n",
       "       [ 0.   +0.j   , -0.237-0.217j,  0.   +0.j   ],\n",
       "       [-0.059+0.271j,  0.034-0.157j,  0.   +0.j   ]])"
      ]
     },
     "execution_count": 202,
     "metadata": {},
     "output_type": "execute_result"
    }
   ],
   "source": [
    "around(utilde,3)"
   ]
  },
  {
   "cell_type": "code",
   "execution_count": null,
   "metadata": {},
   "outputs": [],
   "source": []
  },
  {
   "cell_type": "code",
   "execution_count": 296,
   "metadata": {},
   "outputs": [],
   "source": [
    "utilde = dot(exp(-1j*dot(n_atom[:9],qvec.T)).T,u[:9])"
   ]
  },
  {
   "cell_type": "code",
   "execution_count": 304,
   "metadata": {},
   "outputs": [],
   "source": [
    "utilde = dot(exp(-1j*dot(n_atom,qvec.T)).T,u)"
   ]
  },
  {
   "cell_type": "code",
   "execution_count": null,
   "metadata": {},
   "outputs": [],
   "source": []
  },
  {
   "cell_type": "code",
   "execution_count": 305,
   "metadata": {},
   "outputs": [
    {
     "name": "stdout",
     "output_type": "stream",
     "text": [
      "0.3919241130653093\n",
      "0.3911577384264631\n",
      "0.39215793945211924\n"
     ]
    }
   ],
   "source": [
    "for i in utilde:\n",
    "    print(norm(i))"
   ]
  },
  {
   "cell_type": "code",
   "execution_count": 306,
   "metadata": {},
   "outputs": [
    {
     "name": "stdout",
     "output_type": "stream",
     "text": [
      "0.3778281112856726\n",
      "0.09593183438267333\n",
      "0.09996918349770949\n"
     ]
    }
   ],
   "source": [
    "for i in real(utilde):\n",
    "    print(norm(i))"
   ]
  },
  {
   "cell_type": "code",
   "execution_count": 307,
   "metadata": {},
   "outputs": [
    {
     "name": "stdout",
     "output_type": "stream",
     "text": [
      "0.1041653912023122\n",
      "0.37921162888666893\n",
      "0.3792018088381612\n"
     ]
    }
   ],
   "source": [
    "for i in imag(utilde):\n",
    "    print(norm(i))"
   ]
  },
  {
   "cell_type": "code",
   "execution_count": 161,
   "metadata": {},
   "outputs": [
    {
     "data": {
      "text/plain": [
       "4.389418235793516"
      ]
     },
     "execution_count": 161,
     "metadata": {},
     "output_type": "execute_result"
    }
   ],
   "source": [
    "linalg.norm(qvec[0])/linalg.norm(utilde[2])"
   ]
  },
  {
   "cell_type": "code",
   "execution_count": 308,
   "metadata": {},
   "outputs": [
    {
     "data": {
      "image/png": "[encoded data removed]",
      "text/plain": [
       "<Figure size 576x432 with 1 Axes>"
      ]
     },
     "metadata": {},
     "output_type": "display_data"
    }
   ],
   "source": [
    "fig = plt.figure(figsize=(8,6))\n",
    "# for i in qvec:\n",
    "# #     print(linalg.norm(utilde[i]))\n",
    "#     plt.arrow(0,0,i[0],i[1],head_width=0.03,color=\"blue\")\n",
    "#     plt.scatter(i[0]*13/10,i[1]*13/10,s=0.0001)\n",
    "    \n",
    "colors=[\"red\",\"black\",\"green\"]\n",
    "    \n",
    "for i in range(3):\n",
    "    plt.arrow(0,0,real(utilde)[i][0],real(utilde)[i][1],head_width=0.03,color=colors[i],ls=\"-\",lw=1)\n",
    "    plt.arrow(0,0,imag(utilde)[i][0],imag(utilde)[i][1],head_width=0.03,color=colors[i],ls=\"--\",lw=1)\n",
    "    plt.scatter(real(utilde)[i][0]*15/10,real(utilde)[i][1]*15/10,s=0.0001)\n",
    "    plt.scatter(imag(utilde)[i][0]*15/10,imag(utilde)[i][1]*15/10,s=0.0001)\n",
    "    plt.plot(0,c=colors[i],label=r\"$U_{}$\".format(i+1))\n",
    "    \n",
    "# for i in real(utilde):\n",
    "# #     print(linalg.norm(utilde[i]))\n",
    "#     plt.arrow(0,0,i[0],i[1],head_width=0.03,color=\"black\")\n",
    "#     plt.scatter(i[0]*15/10,i[1]*15/10,s=0.0001)\n",
    "    \n",
    "# for i in imag(utilde):\n",
    "# #     print(linalg.norm(utilde[i]))\n",
    "#     plt.arrow(0,0,i[0],i[1],head_width=0.03,color=\"red\")\n",
    "#     plt.scatter(i[0]*15/10,i[1]*15/10,s=0.0001)\n",
    "\n",
    "\n",
    "# plt.plot(0,c=\"black\",label=\"Re(CDW)\")\n",
    "# plt.plot(0,c=\"red\",label=\"Im(CDW)\")\n",
    "# plt.plot(0,c=\"blue\",label=\"Q-vec\")\n",
    "plt.xticks([])\n",
    "plt.yticks([])\n",
    "plt.legend()\n",
    "plt.axis(\"equal\")    \n",
    "plt.show()"
   ]
  },
  {
   "cell_type": "code",
   "execution_count": 309,
   "metadata": {},
   "outputs": [
    {
     "name": "stdout",
     "output_type": "stream",
     "text": [
      "-15.276141882940877\n",
      "-75.80356100180664\n",
      "-75.23204481337243\n"
     ]
    }
   ],
   "source": [
    "for i in utilde:\n",
    "    print(arctan(imag(i)[1]/real(i)[1])/pi*180)"
   ]
  },
  {
   "cell_type": "code",
   "execution_count": null,
   "metadata": {},
   "outputs": [],
   "source": []
  }
 ],
 "metadata": {
  "kernelspec": {
   "display_name": "Python 3",
   "language": "python",
   "name": "python3"
  },
  "language_info": {
   "codemirror_mode": {
    "name": "ipython",
    "version": 3
   },
   "file_extension": ".py",
   "mimetype": "text/x-python",
   "name": "python",
   "nbconvert_exporter": "python",
   "pygments_lexer": "ipython3",
   "version": "3.8.3"
  }
 },
 "nbformat": 4,
 "nbformat_minor": 4
}
