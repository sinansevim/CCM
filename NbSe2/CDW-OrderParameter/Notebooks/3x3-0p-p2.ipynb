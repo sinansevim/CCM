{
 "cells": [
  {
   "cell_type": "code",
   "execution_count": 12,
   "metadata": {},
   "outputs": [],
   "source": [
    "import matplotlib.pyplot as plt\n",
    "from numpy import *\n",
    "from numpy.linalg import *\n",
    "from mpl_toolkits.mplot3d import Axes3D\n",
    "import ipywidgets as widgets\n",
    "from ipywidgets import interact, interactive, fixed, interact_manual\n",
    "\n",
    "# %matplotlib widget\n",
    "%matplotlib inline"
   ]
  },
  {
   "cell_type": "code",
   "execution_count": 59,
   "metadata": {},
   "outputs": [
    {
     "data": {
      "text/plain": [
       "array([[ 0.00000000e+00,  0.00000000e+00,  0.00000000e+00],\n",
       "       [-3.48939715e+00,  6.04381680e+00,  0.00000000e+00],\n",
       "       [-1.74469805e+00,  3.02191302e+00,  0.00000000e+00],\n",
       "       [ 3.48940432e+00, -4.53250000e-07,  0.00000000e+00],\n",
       "       [ 1.74470334e+00,  3.02191547e+00,  0.00000000e+00],\n",
       "       [ 3.66380000e-06,  6.04381807e+00,  0.00000000e+00],\n",
       "       [ 6.97880462e+00, -6.34550000e-07,  0.00000000e+00],\n",
       "       [ 5.23410793e+00,  3.02191420e+00,  0.00000000e+00],\n",
       "       [ 3.48940474e+00,  6.04381870e+00,  0.00000000e+00],\n",
       "       [-1.74472998e+00,  5.03652696e+00, -1.66176817e+00],\n",
       "       [-3.35499400e-05,  2.01462038e+00, -1.66176838e+00],\n",
       "       [ 1.74466759e+00, -1.00729564e+00, -1.66177191e+00],\n",
       "       [ 1.74467455e+00,  5.03653340e+00, -1.66177295e+00],\n",
       "       [ 3.48937423e+00,  2.01462228e+00, -1.66177066e+00],\n",
       "       [ 5.23407621e+00, -1.00729464e+00, -1.66177274e+00],\n",
       "       [ 5.23406951e+00,  5.03653086e+00, -1.66177233e+00],\n",
       "       [ 6.97877552e+00,  2.01461512e+00, -1.66177004e+00],\n",
       "       [ 8.72346614e+00, -1.00729537e+00, -1.66177254e+00],\n",
       "       [-1.74472998e+00,  5.03652696e+00,  1.66176921e+00],\n",
       "       [-3.35499400e-05,  2.01462038e+00,  1.66176921e+00],\n",
       "       [ 1.74466759e+00, -1.00729564e+00,  1.66177274e+00],\n",
       "       [ 1.74467455e+00,  5.03653340e+00,  1.66177378e+00],\n",
       "       [ 3.48937423e+00,  2.01462228e+00,  1.66177170e+00],\n",
       "       [ 5.23407621e+00, -1.00729464e+00,  1.66177358e+00],\n",
       "       [ 5.23406951e+00,  5.03653086e+00,  1.66177316e+00],\n",
       "       [ 6.97877552e+00,  2.01461512e+00,  1.66177087e+00],\n",
       "       [ 8.72346614e+00, -1.00729537e+00,  1.66177337e+00]])"
      ]
     },
     "execution_count": 59,
     "metadata": {},
     "output_type": "execute_result"
    }
   ],
   "source": [
    "n_atom"
   ]
  },
  {
   "cell_type": "code",
   "execution_count": 100,
   "metadata": {},
   "outputs": [],
   "source": [
    "svec = loadtxt(\"../Data/3x3-0p/cell\")\n",
    "rvec = svec/3\n",
    "\n",
    "n_nb=loadtxt(\"../Data/3x3-0p/nb\")\n",
    "n_se=loadtxt(\"../Data/3x3-0p/se\")\n",
    "m_nb=loadtxt(\"../Data/3x3-0p-p2/nb\")\n",
    "m_se=loadtxt(\"../Data/3x3-0p-p2/se\")\n",
    "\n",
    "n_atom = dot(concatenate([n_nb,n_se]),svec)\n",
    "n_atom = n_atom-n_atom[0]\n",
    "m_atom = dot(concatenate([m_nb,m_se]),svec)\n",
    "m_atom = m_atom-(m_atom[0]-n_atom[0])\n",
    "m_atom = m_atom -average(m_atom[:9]-n_atom[:9],axis=0)\n",
    "\n",
    "nb=array([n_nb,m_nb])\n",
    "nb[0] = dot(nb[0],svec)\n",
    "nb[1] = dot(nb[1],svec)\n",
    "\n",
    "se=array([n_se,m_se])\n",
    "se[0] = dot(se[0],svec)\n",
    "se[1] = dot(se[1],svec)\n",
    "\n",
    "# se[0] = se[0]-(nb[0][0]-nb[1][0])\n",
    "# nb[0] = nb[0]-(nb[0][0]-nb[1][0])\n",
    "\n",
    "nb_x, nb_y, nb_z = nb.T[0].T, nb.T[1].T, nb.T[2].T\n",
    "se_x, se_y, se_z = se.T[0].T, se.T[1].T, se.T[2].T\n",
    "\n",
    "\n",
    "b = 4*pi/(linalg.norm(rvec[0])*sqrt(3))\n",
    "qvec = b*array([[-sqrt(3)/2,-1/2,0],[0,1,0],[sqrt(3)/2,-1/2,0]])/3\n",
    "qdif = array([[qvec[0]-qvec[1],qvec[1]-qvec[2],qvec[2]-qvec[0]]])\n",
    "qdif= qdif[0]\n",
    "qunit = qvec/abs(linalg.norm(qvec[0]))\n",
    "\n",
    "\n",
    "\n",
    "u = m_atom - n_atom\n",
    "\n",
    "# u = u- average(u,axis=0)\n",
    "\n",
    "\n"
   ]
  },
  {
   "cell_type": "code",
   "execution_count": 101,
   "metadata": {},
   "outputs": [],
   "source": [
    "def plot_lattice():\n",
    "    fig = plt.figure(figsize=(10,10))\n",
    "    s1, s2 = 200,300\n",
    "    hw=0.2\n",
    "    cell_color=\"black\"\n",
    "    cell_lw=4\n",
    "    cell_zorder=0\n",
    "    plt.scatter(0,0,c=\"blue\",s=s2,label=\"Nb\")\n",
    "    plt.scatter(0,0,c=\"green\",s=s1,label=\"Se\")    \n",
    "    period = arange(-2,3,1)\n",
    "    for i in period:\n",
    "        for j in period:\n",
    "            plt.scatter(n_atom[:9].T[0]+(i*svec[0][0]+j*svec[1][0]),n_atom[:9].T[1]+(i*svec[0][1]+j*svec[1][1]),c=\"blue\",s=s2,zorder=2)\n",
    "            plt.scatter(n_atom[9:17].T[0]+(i*svec[0][0]+j*svec[1][0]),n_atom[9:17].T[1]+(i*svec[0][1]+j*svec[1][1]),c=\"green\",s=s1,zorder=2)\n",
    "            plt.plot([0,svec[0][0]],[0,svec[0][1]],c=cell_color,lw=cell_lw,zorder=cell_zorder)\n",
    "            plt.plot([0,svec[1][0]],[0,svec[1][1]],c=cell_color,lw=cell_lw,zorder=cell_zorder)\n",
    "            plt.plot([svec[0][0],svec[0][0]+svec[1][0]],[svec[0][1],svec[0][1]+svec[1][1]],c=cell_color,lw=cell_lw,zorder=cell_zorder)\n",
    "            plt.plot([svec[1][0],svec[1][0]+svec[0][0]],[svec[1][1],svec[1][1]+svec[0][1]],c=cell_color,lw=cell_lw,zorder=cell_zorder)\n",
    "            plt.plot([0,svec[0][0]],[0,svec[0][1]],c=cell_color,lw=cell_lw,zorder=cell_zorder)\n",
    "            plt.plot([0,svec[1][0]],[0,-svec[1][1]],c=cell_color,lw=cell_lw,zorder=cell_zorder)\n",
    "            plt.plot([svec[0][0],svec[0][0]+svec[1][0]],[svec[0][1],svec[0][1]-svec[1][1]],c=cell_color,lw=cell_lw,zorder=cell_zorder)\n",
    "            plt.plot([svec[1][0],svec[1][0]+svec[0][0]],[-svec[1][1],-svec[1][1]+svec[0][1]],c=cell_color,lw=cell_lw,zorder=cell_zorder)\n",
    "            plt.plot([svec[1][0],-svec[0][0]],[svec[1][1],-svec[0][1]],c=cell_color,lw=cell_lw,zorder=cell_zorder)\n",
    "            plt.plot([-svec[0][0],svec[1][0]],[svec[0][1],-svec[1][1]],c=cell_color,lw=cell_lw,zorder=cell_zorder)\n",
    "            for k in [0,6,8]:\n",
    "                plt.arrow(n_atom[k][0]+(i*svec[0][0]+j*svec[1][0]),n_atom[k][1]+(i*svec[0][1]+j*svec[1][1]),(u[:,0][k])*10,(u[:,1][k])*10,lw=3,zorder=2,color=\"black\",head_width=hw)   \n",
    "            for k in [3,4,7]:\n",
    "                plt.arrow(n_atom[k][0]+(i*svec[0][0]+j*svec[1][0]),n_atom[k][1]+(i*svec[0][1]+j*svec[1][1]),(u[:,0][k])*10,(u[:,1][k])*10,lw=3,zorder=2,color=\"red\",head_width=hw)   \n",
    "            for k in [1,2,5]:\n",
    "                plt.arrow(n_atom[k][0]+(i*svec[0][0]+j*svec[1][0]),n_atom[k][1]+(i*svec[0][1]+j*svec[1][1]),(u[:,0][k])*10,(u[:,1][k])*10,lw=3,zorder=2,color=\"orange\",head_width=hw)   \n",
    "    plt.xlim(-12,12)\n",
    "    plt.ylim(-12,12)\n",
    "    plt.xticks([])\n",
    "    plt.yticks([])\n",
    "#     plt.axis(\"equal\")\n",
    "    plt.legend(loc='upper right', borderpad=1,markerscale=1,labelspacing=1,fontsize=12)\n",
    "#     plt.savefig(\"3x3_lattice_c3.pdf\",bbox_inches='tight')\n",
    "    # plt.axis(\"equal\")\n",
    "#     plt.show()"
   ]
  },
  {
   "cell_type": "code",
   "execution_count": 102,
   "metadata": {},
   "outputs": [
    {
     "data": {
      "image/png": "[encoded data removed]",
      "text/plain": [
       "<Figure size 720x720 with 1 Axes>"
      ]
     },
     "metadata": {},
     "output_type": "display_data"
    }
   ],
   "source": [
    "plot_lattice()"
   ]
  },
  {
   "cell_type": "code",
   "execution_count": 103,
   "metadata": {},
   "outputs": [
    {
     "name": "stdout",
     "output_type": "stream",
     "text": [
      "0.11087205015755418\n",
      "0.09930445863513357\n",
      "0.09955504038423156\n",
      "0.012982618277827922\n",
      "0.013287486790753656\n",
      "0.09946634655662798\n",
      "0.1108562507185954\n",
      "0.01316451599835771\n",
      "0.11077921214502778\n",
      "0.13613202519294892\n",
      "0.2179129644995523\n",
      "0.2179240995838418\n",
      "0.21791723565402535\n",
      "0.21022666198569148\n",
      "0.2179265670954406\n",
      "0.21789806330450326\n",
      "0.21789519898813337\n",
      "0.31857596683686784\n",
      "0.13613096149716072\n",
      "0.21791213026863623\n",
      "0.2179233710167784\n",
      "0.2179161499533206\n",
      "0.21022553135063526\n",
      "0.2179257495184447\n",
      "0.21789720669650187\n",
      "0.2178942269049009\n",
      "0.31857515919823837\n"
     ]
    }
   ],
   "source": [
    "for i in u:\n",
    "    print(norm(i))"
   ]
  },
  {
   "cell_type": "code",
   "execution_count": 104,
   "metadata": {},
   "outputs": [
    {
     "data": {
      "text/plain": [
       "array([[-9.61288715e-02, -5.52435659e-02, -1.20644547e-07],\n",
       "       [-8.60799157e-02,  4.95138729e-02, -2.79121990e-08],\n",
       "       [ 7.41190885e-05, -9.95550128e-02, -9.13836813e-08],\n",
       "       [-2.66675595e-05, -1.29825909e-02,  5.00863864e-08],\n",
       "       [-1.15095513e-02,  6.63984433e-03,  5.00764845e-07],\n",
       "       [ 8.62568775e-02,  4.95308508e-02, -5.47632182e-09],\n",
       "       [ 9.60861568e-02, -5.52861537e-02, -8.23699884e-09],\n",
       "       [ 1.13884802e-02,  6.60355958e-03, -1.08773753e-07],\n",
       "       [-6.06275375e-05,  1.10779196e-01, -1.88423730e-07],\n",
       "       [ 1.15015348e-04, -1.79991603e-04, -1.36131858e-01],\n",
       "       [ 1.78373384e-02, -1.74877428e-02, -2.16476484e-01],\n",
       "       [-6.25776704e-03,  2.44764200e-02, -2.16454749e-01],\n",
       "       [ 2.41170132e-02, -6.78586142e-03, -2.16472269e-01],\n",
       "       [-8.09028268e-06,  6.84765919e-05, -2.10226651e-01],\n",
       "       [ 6.28846878e-03,  2.44863594e-02, -2.16455219e-01],\n",
       "       [-2.41027610e-02, -6.80477023e-03, -2.16453963e-01],\n",
       "       [-1.78410737e-02, -1.74911753e-02, -2.16458016e-01],\n",
       "       [-1.65427517e-04,  3.57611600e-04, -3.18575723e-01],\n",
       "       [ 1.15018360e-04, -1.80122509e-04,  1.36130794e-01],\n",
       "       [ 1.78374539e-02, -1.74876659e-02,  2.16475641e-01],\n",
       "       [-6.25779299e-03,  2.44763056e-02,  2.16454028e-01],\n",
       "       [ 2.41171297e-02, -6.78590896e-03,  2.16471162e-01],\n",
       "       [-7.96867389e-06,  6.83807813e-05,  2.10225520e-01],\n",
       "       [ 6.28850887e-03,  2.44861553e-02,  2.16454418e-01],\n",
       "       [-2.41029198e-02, -6.80497584e-03,  2.16453076e-01],\n",
       "       [-1.78408769e-02, -1.74911916e-02,  2.16457052e-01],\n",
       "       [-1.65511261e-04,  3.57611600e-04,  3.18574915e-01]])"
      ]
     },
     "execution_count": 104,
     "metadata": {},
     "output_type": "execute_result"
    }
   ],
   "source": [
    "u"
   ]
  },
  {
   "cell_type": "code",
   "execution_count": 90,
   "metadata": {},
   "outputs": [],
   "source": [
    "def uToQ(supercell,q,disp):\n",
    "    return dot(exp(-1j*dot(supercell,q.T)).T,u)"
   ]
  },
  {
   "cell_type": "code",
   "execution_count": 91,
   "metadata": {},
   "outputs": [],
   "source": [
    "utilde = uToQ(n_atom,qvec,u)"
   ]
  },
  {
   "cell_type": "code",
   "execution_count": 98,
   "metadata": {},
   "outputs": [
    {
     "data": {
      "text/plain": [
       "array([[ 0.00000000e+00,  0.00000000e+00,  0.00000000e+00],\n",
       "       [-3.48939715e+00,  6.04381680e+00,  0.00000000e+00],\n",
       "       [-1.74469805e+00,  3.02191302e+00,  0.00000000e+00],\n",
       "       [ 3.48940432e+00, -4.53250000e-07,  0.00000000e+00],\n",
       "       [ 1.74470334e+00,  3.02191547e+00,  0.00000000e+00],\n",
       "       [ 3.66380000e-06,  6.04381807e+00,  0.00000000e+00],\n",
       "       [ 6.97880462e+00, -6.34550000e-07,  0.00000000e+00],\n",
       "       [ 5.23410793e+00,  3.02191420e+00,  0.00000000e+00],\n",
       "       [ 3.48940474e+00,  6.04381870e+00,  0.00000000e+00],\n",
       "       [-1.74472998e+00,  5.03652696e+00, -1.66176817e+00],\n",
       "       [-3.35499400e-05,  2.01462038e+00, -1.66176838e+00],\n",
       "       [ 1.74466759e+00, -1.00729564e+00, -1.66177191e+00],\n",
       "       [ 1.74467455e+00,  5.03653340e+00, -1.66177295e+00],\n",
       "       [ 3.48937423e+00,  2.01462228e+00, -1.66177066e+00],\n",
       "       [ 5.23407621e+00, -1.00729464e+00, -1.66177274e+00],\n",
       "       [ 5.23406951e+00,  5.03653086e+00, -1.66177233e+00],\n",
       "       [ 6.97877552e+00,  2.01461512e+00, -1.66177004e+00],\n",
       "       [ 8.72346614e+00, -1.00729537e+00, -1.66177254e+00],\n",
       "       [-1.74472998e+00,  5.03652696e+00,  1.66176921e+00],\n",
       "       [-3.35499400e-05,  2.01462038e+00,  1.66176921e+00],\n",
       "       [ 1.74466759e+00, -1.00729564e+00,  1.66177274e+00],\n",
       "       [ 1.74467455e+00,  5.03653340e+00,  1.66177378e+00],\n",
       "       [ 3.48937423e+00,  2.01462228e+00,  1.66177170e+00],\n",
       "       [ 5.23407621e+00, -1.00729464e+00,  1.66177358e+00],\n",
       "       [ 5.23406951e+00,  5.03653086e+00,  1.66177316e+00],\n",
       "       [ 6.97877552e+00,  2.01461512e+00,  1.66177087e+00],\n",
       "       [ 8.72346614e+00, -1.00729537e+00,  1.66177337e+00]])"
      ]
     },
     "execution_count": 98,
     "metadata": {},
     "output_type": "execute_result"
    }
   ],
   "source": [
    "n_atom"
   ]
  },
  {
   "cell_type": "code",
   "execution_count": 92,
   "metadata": {},
   "outputs": [
    {
     "name": "stdout",
     "output_type": "stream",
     "text": [
      "0.3919240937160101\n",
      "0.3911577809868075\n",
      "0.3921579385001484\n"
     ]
    }
   ],
   "source": [
    "for i in utilde:\n",
    "    print(norm(i))"
   ]
  },
  {
   "cell_type": "code",
   "execution_count": 93,
   "metadata": {},
   "outputs": [
    {
     "data": {
      "text/plain": [
       "1.7673579255365606"
      ]
     },
     "execution_count": 93,
     "metadata": {},
     "output_type": "execute_result"
    }
   ],
   "source": [
    "linalg.norm(qvec[0])/linalg.norm(utilde[2])"
   ]
  },
  {
   "cell_type": "code",
   "execution_count": 94,
   "metadata": {},
   "outputs": [
    {
     "name": "stdout",
     "output_type": "stream",
     "text": [
      "0.37782809452131444\n",
      "0.09593183363747455\n",
      "0.09996918351743767\n"
     ]
    }
   ],
   "source": [
    "for i in real(utilde):\n",
    "    print(norm(i))"
   ]
  },
  {
   "cell_type": "code",
   "execution_count": 95,
   "metadata": {},
   "outputs": [
    {
     "name": "stdout",
     "output_type": "stream",
     "text": [
      "0.10416537920781822\n",
      "0.379211672976288\n",
      "0.3792018078484635\n"
     ]
    }
   ],
   "source": [
    "for i in imag(utilde):\n",
    "    print(norm(i))"
   ]
  },
  {
   "cell_type": "code",
   "execution_count": 97,
   "metadata": {},
   "outputs": [
    {
     "data": {
      "image/png": "[encoded data removed]",
      "text/plain": [
       "<Figure size 576x432 with 1 Axes>"
      ]
     },
     "metadata": {},
     "output_type": "display_data"
    }
   ],
   "source": [
    "fig = plt.figure(figsize=(8,6))\n",
    "# for i in qvec:\n",
    "# #     print(linalg.norm(utilde[i]))\n",
    "#     plt.arrow(0,0,i[0],i[1],head_width=0.03,color=\"blue\")\n",
    "#     plt.scatter(i[0]*13/10,i[1]*13/10,s=0.0001)\n",
    "    \n",
    "colors=[\"red\",\"black\",\"green\"]\n",
    "    \n",
    "for i in range(3):\n",
    "    plt.arrow(0,0,real(utilde)[i][0],real(utilde)[i][1],head_width=0.03,color=colors[i],ls=\"-\",lw=1)\n",
    "    plt.arrow(0,0,imag(utilde)[i][0],imag(utilde)[i][1],head_width=0.03,color=colors[i],ls=\"--\",lw=1)\n",
    "    plt.scatter(real(utilde)[i][0]*15/10,real(utilde)[i][1]*15/10,s=0.0001)\n",
    "    plt.scatter(imag(utilde)[i][0]*15/10,imag(utilde)[i][1]*15/10,s=0.0001)\n",
    "    plt.plot(0,c=colors[i],label=r\"$U_{}$\".format(i+1))\n",
    "    \n",
    "# for i in real(utilde):\n",
    "# #     print(linalg.norm(utilde[i]))\n",
    "#     plt.arrow(0,0,i[0],i[1],head_width=0.03,color=\"black\")\n",
    "#     plt.scatter(i[0]*15/10,i[1]*15/10,s=0.0001)\n",
    "    \n",
    "# for i in imag(utilde):\n",
    "# #     print(linalg.norm(utilde[i]))\n",
    "#     plt.arrow(0,0,i[0],i[1],head_width=0.03,color=\"red\")\n",
    "#     plt.scatter(i[0]*15/10,i[1]*15/10,s=0.0001)\n",
    "\n",
    "\n",
    "# plt.plot(0,c=\"black\",label=\"Re(CDW)\")\n",
    "# plt.plot(0,c=\"red\",label=\"Im(CDW)\")\n",
    "# plt.plot(0,c=\"blue\",label=\"Q-vec\")\n",
    "plt.xticks([])\n",
    "plt.yticks([])\n",
    "plt.legend()\n",
    "plt.axis(\"equal\")    \n",
    "plt.show()"
   ]
  },
  {
   "cell_type": "code",
   "execution_count": null,
   "metadata": {},
   "outputs": [],
   "source": [
    "sum(se[1]-se[0],axis=0)"
   ]
  },
  {
   "cell_type": "code",
   "execution_count": null,
   "metadata": {},
   "outputs": [],
   "source": []
  },
  {
   "cell_type": "code",
   "execution_count": null,
   "metadata": {},
   "outputs": [],
   "source": []
  },
  {
   "cell_type": "code",
   "execution_count": null,
   "metadata": {},
   "outputs": [],
   "source": []
  },
  {
   "cell_type": "code",
   "execution_count": null,
   "metadata": {},
   "outputs": [],
   "source": []
  },
  {
   "cell_type": "code",
   "execution_count": null,
   "metadata": {},
   "outputs": [],
   "source": []
  },
  {
   "cell_type": "code",
   "execution_count": null,
   "metadata": {},
   "outputs": [],
   "source": []
  },
  {
   "cell_type": "code",
   "execution_count": null,
   "metadata": {},
   "outputs": [],
   "source": []
  },
  {
   "cell_type": "code",
   "execution_count": null,
   "metadata": {},
   "outputs": [],
   "source": []
  },
  {
   "cell_type": "code",
   "execution_count": null,
   "metadata": {},
   "outputs": [],
   "source": []
  },
  {
   "cell_type": "code",
   "execution_count": null,
   "metadata": {},
   "outputs": [],
   "source": []
  },
  {
   "cell_type": "code",
   "execution_count": null,
   "metadata": {},
   "outputs": [],
   "source": []
  },
  {
   "cell_type": "code",
   "execution_count": null,
   "metadata": {},
   "outputs": [],
   "source": []
  },
  {
   "cell_type": "code",
   "execution_count": null,
   "metadata": {},
   "outputs": [],
   "source": []
  },
  {
   "cell_type": "code",
   "execution_count": null,
   "metadata": {},
   "outputs": [],
   "source": []
  },
  {
   "cell_type": "code",
   "execution_count": null,
   "metadata": {},
   "outputs": [],
   "source": []
  },
  {
   "cell_type": "code",
   "execution_count": null,
   "metadata": {},
   "outputs": [],
   "source": []
  },
  {
   "cell_type": "code",
   "execution_count": null,
   "metadata": {},
   "outputs": [],
   "source": []
  },
  {
   "cell_type": "code",
   "execution_count": null,
   "metadata": {},
   "outputs": [],
   "source": []
  },
  {
   "cell_type": "code",
   "execution_count": null,
   "metadata": {},
   "outputs": [],
   "source": []
  }
 ],
 "metadata": {
  "kernelspec": {
   "display_name": "Python 3",
   "language": "python",
   "name": "python3"
  },
  "language_info": {
   "codemirror_mode": {
    "name": "ipython",
    "version": 3
   },
   "file_extension": ".py",
   "mimetype": "text/x-python",
   "name": "python",
   "nbconvert_exporter": "python",
   "pygments_lexer": "ipython3",
   "version": "3.8.3"
  }
 },
 "nbformat": 4,
 "nbformat_minor": 4
}
