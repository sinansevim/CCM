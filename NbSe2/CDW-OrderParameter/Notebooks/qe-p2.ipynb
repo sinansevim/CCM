{
 "cells": [
  {
   "cell_type": "code",
   "execution_count": 1,
   "metadata": {},
   "outputs": [],
   "source": [
    "import matplotlib.pyplot as plt\n",
    "from numpy import *\n",
    "from numpy.linalg import *\n",
    "from mpl_toolkits.mplot3d import Axes3D\n",
    "\n",
    "# %matplotlib widget\n",
    "%matplotlib inline"
   ]
  },
  {
   "cell_type": "code",
   "execution_count": 2,
   "metadata": {},
   "outputs": [],
   "source": [
    "svec = loadtxt(\"../Data/3x3-qe/n.cell\")\n",
    "rvec = svec/3\n",
    "b = 4*pi/(linalg.norm(rvec[0])*sqrt(3))\n",
    "qvec = b*array([[-sqrt(3)/2,-1/2,0],[0,1,0],[sqrt(3)/2,-1/2,0]])/3\n",
    "qdif = array([[qvec[0]-qvec[1],qvec[1]-qvec[2],qvec[2]-qvec[0]]])\n",
    "qdif= qdif[0]\n",
    "qunit = qvec/abs(linalg.norm(qvec[0]))\n"
   ]
  },
  {
   "cell_type": "code",
   "execution_count": 44,
   "metadata": {},
   "outputs": [
    {
     "data": {
      "text/plain": [
       "array([[ 3.48549512, -1.74274756,  0.        ],\n",
       "       [ 0.        ,  3.01852732,  0.        ],\n",
       "       [ 0.        ,  0.        ,  6.13816667]])"
      ]
     },
     "execution_count": 44,
     "metadata": {},
     "output_type": "execute_result"
    }
   ],
   "source": [
    "rvec.T"
   ]
  },
  {
   "cell_type": "code",
   "execution_count": 79,
   "metadata": {},
   "outputs": [],
   "source": [
    "n_data = loadtxt(\"../Data/3x3-qe/n.pos\")\n",
    "m_data = loadtxt(\"../Data/3x3-qe/p2.pos\")\n",
    "\n",
    "n_atom = dot(n_data,svec)\n",
    "# n_atom = n_atom-n_atom[0]\n",
    "n_atom = n_atom-n_atom[0]+rvec[0]/2+rvec.T[1]/(sqrt(3)*2)\n",
    "m_atom = dot(m_data,svec)\n",
    "m_atom = m_atom-m_atom[0]\n",
    "m_atom += average(n_atom[:9]-m_atom[:9],axis=0)\n",
    "\n",
    "u = around(m_atom - n_atom,8)"
   ]
  },
  {
   "cell_type": "code",
   "execution_count": 80,
   "metadata": {},
   "outputs": [
    {
     "data": {
      "text/plain": [
       "array([[ 3.48549512,  0.        ,  0.        ],\n",
       "       [-1.74274756,  3.01852732,  0.        ],\n",
       "       [ 0.        ,  0.        ,  6.13816667]])"
      ]
     },
     "execution_count": 80,
     "metadata": {},
     "output_type": "execute_result"
    }
   ],
   "source": [
    "rvec"
   ]
  },
  {
   "cell_type": "code",
   "execution_count": 81,
   "metadata": {},
   "outputs": [],
   "source": [
    "def plot_lattice():\n",
    "    fig = plt.figure(figsize=(10,10))\n",
    "    s1, s2 = 200,300\n",
    "    hw=0.2\n",
    "    cell_color=\"black\"\n",
    "    cell_lw=4\n",
    "    cell_zorder=0\n",
    "#     plt.scatter(0,0,c=\"blue\",s=s2,label=\"Nb\")\n",
    "#     plt.scatter(0,0,c=\"green\",s=s1,label=\"Se\")    \n",
    "    period = arange(-2,3,1)\n",
    "    for i in period:\n",
    "        for j in period:\n",
    "            plt.scatter(n_atom[:9].T[0]+(i*svec[0][0]+j*svec[1][0]),n_atom[:9].T[1]+(i*svec[0][1]+j*svec[1][1]),c=\"blue\",s=s2,zorder=2)\n",
    "            plt.scatter(n_atom[9:18].T[0]+(i*svec[0][0]+j*svec[1][0]),n_atom[9:18].T[1]+(i*svec[0][1]+j*svec[1][1]),c=\"green\",s=s1,zorder=2)\n",
    "            \n",
    "            plt.plot([0,svec[0][0]],[0,svec[0][1]],c=cell_color,lw=cell_lw,zorder=cell_zorder)\n",
    "            plt.plot([0,svec[1][0]],[0,svec[1][1]],c=cell_color,lw=cell_lw,zorder=cell_zorder)\n",
    "            plt.plot([svec[0][0],svec[0][0]+svec[1][0]],[svec[0][1],svec[0][1]+svec[1][1]],c=cell_color,lw=cell_lw,zorder=cell_zorder)\n",
    "            plt.plot([svec[1][0],svec[1][0]+svec[0][0]],[svec[1][1],svec[1][1]+svec[0][1]],c=cell_color,lw=cell_lw,zorder=cell_zorder)\n",
    "            plt.plot([0,svec[0][0]],[0,svec[0][1]],c=cell_color,lw=cell_lw,zorder=cell_zorder)\n",
    "            plt.plot([0,svec[1][0]],[0,-svec[1][1]],c=cell_color,lw=cell_lw,zorder=cell_zorder)\n",
    "            plt.plot([svec[0][0],svec[0][0]+svec[1][0]],[svec[0][1],svec[0][1]-svec[1][1]],c=cell_color,lw=cell_lw,zorder=cell_zorder)\n",
    "            plt.plot([svec[1][0],svec[1][0]+svec[0][0]],[-svec[1][1],-svec[1][1]+svec[0][1]],c=cell_color,lw=cell_lw,zorder=cell_zorder)\n",
    "            plt.plot([svec[1][0],-svec[0][0]],[svec[1][1],-svec[0][1]],c=cell_color,lw=cell_lw,zorder=cell_zorder)\n",
    "            plt.plot([-svec[0][0],svec[1][0]],[svec[0][1],-svec[1][1]],c=cell_color,lw=cell_lw,zorder=cell_zorder)\n",
    "            for k in [0,6,8]:\n",
    "                plt.arrow(n_atom[k][0]+(i*svec[0][0]+j*svec[1][0]),n_atom[k][1]+(i*svec[0][1]+j*svec[1][1]),(u[:,0][k])*10,(u[:,1][k])*10,lw=3,zorder=2,color=\"black\",head_width=hw)   \n",
    "            for k in [1,5,2]:\n",
    "                plt.arrow(n_atom[k][0]+(i*svec[0][0]+j*svec[1][0]),n_atom[k][1]+(i*svec[0][1]+j*svec[1][1]),(u[:,0][k])*10,(u[:,1][k])*10,lw=3,zorder=2,color=\"red\",head_width=hw)   \n",
    "            for k in [3,4,7]:\n",
    "                plt.arrow(n_atom[k][0]+(i*svec[0][0]+j*svec[1][0]),n_atom[k][1]+(i*svec[0][1]+j*svec[1][1]),(u[:,0][k])*10,(u[:,1][k])*10,lw=3,zorder=2,color=\"orange\",head_width=hw)   \n",
    "    plt.xlim(-12,12)\n",
    "    plt.ylim(-12,12)\n",
    "    plt.xticks([])\n",
    "    plt.yticks([])\n",
    "#     plt.axis(\"equal\")\n",
    "#     plt.title(\"Nb Displacement\")\n",
    "    plt.legend(loc='upper right', borderpad=1,markerscale=1,labelspacing=1,fontsize=12)\n",
    "    plt.savefig(\"../Plot/3x3_p2_nb.png\",bbox_inches='tight')\n",
    "    # plt.axis(\"equal\")\n",
    "#     plt.show()"
   ]
  },
  {
   "cell_type": "code",
   "execution_count": 82,
   "metadata": {},
   "outputs": [
    {
     "name": "stderr",
     "output_type": "stream",
     "text": [
      "No handles with labels found to put in legend.\n"
     ]
    },
    {
     "data": {
      "image/png": "[encoded data removed]",
      "text/plain": [
       "<Figure size 720x720 with 1 Axes>"
      ]
     },
     "metadata": {},
     "output_type": "display_data"
    }
   ],
   "source": [
    "plot_lattice()"
   ]
  },
  {
   "cell_type": "code",
   "execution_count": 83,
   "metadata": {},
   "outputs": [],
   "source": [
    "utilde = dot(exp(-1j*dot(n_atom[:9],qvec.T)).T,u[:9])"
   ]
  },
  {
   "cell_type": "code",
   "execution_count": 84,
   "metadata": {},
   "outputs": [
    {
     "name": "stdout",
     "output_type": "stream",
     "text": [
      "68.67470585679742 68.62267420930391\n",
      "13.614051876032477 76.69996914582096\n",
      "68.70506270046918 68.70144169141501\n"
     ]
    }
   ],
   "source": [
    "for i in utilde:\n",
    "    print(arctan(imag(i[0])/real(i[0]))/pi*180,arctan(imag(i[1])/real(i[1]))/pi*180)"
   ]
  },
  {
   "cell_type": "code",
   "execution_count": 85,
   "metadata": {},
   "outputs": [
    {
     "name": "stdout",
     "output_type": "stream",
     "text": [
      "0.06481044327441482\n",
      "0.04097274584259924\n",
      "0.06471831255500667\n"
     ]
    }
   ],
   "source": [
    "for i in real(utilde):\n",
    "    print(norm(i))"
   ]
  },
  {
   "cell_type": "code",
   "execution_count": null,
   "metadata": {},
   "outputs": [],
   "source": []
  },
  {
   "cell_type": "code",
   "execution_count": 87,
   "metadata": {},
   "outputs": [
    {
     "data": {
      "image/png": "[encoded data removed]",
      "text/plain": [
       "<Figure size 576x576 with 1 Axes>"
      ]
     },
     "metadata": {},
     "output_type": "display_data"
    }
   ],
   "source": [
    "fig = plt.figure(figsize=(8,8))\n",
    "# for i in qvec:\n",
    "# #     print(linalg.norm(utilde[i]))\n",
    "#     plt.arrow(0,0,i[0],i[1],head_width=0.03,color=\"blue\")\n",
    "#     plt.scatter(i[0]*13/10,i[1]*13/10,s=0.0001)\n",
    "\n",
    "colors=[\"red\",\"black\",\"green\",\"red\",\"black\",\"green\"]\n",
    "\n",
    "\n",
    "for i in range(3):\n",
    "    plt.arrow(0,0,real(utilde)[i][0],real(utilde)[i][1],head_width=0.02,color=colors[i],ls=\"-\",lw=3)\n",
    "    plt.arrow(0,0,imag(utilde)[i][0],imag(utilde)[i][1],head_width=0.02,color=colors[i],ls=\":\",lw=3)\n",
    "    plt.scatter(real(utilde)[i][0]*15/10,real(utilde)[i][1]*15/10,s=0.0001)\n",
    "    plt.scatter(imag(utilde)[i][0]*15/10,imag(utilde)[i][1]*15/10,s=0.0001)\n",
    "    plt.plot(0,c=colors[i],label=r\"$U_{}$\".format(i+1))\n",
    "\n",
    "\n",
    "\n",
    "# plt.plot(0,c=\"black\",label=\"Re(CDW)\")\n",
    "# plt.plot(0,c=\"red\",label=\"Im(CDW)\")\n",
    "# plt.plot(0,c=\"blue\",label=\"Q-vec\")\n",
    "plt.xticks([])\n",
    "plt.yticks([])\n",
    "plt.legend()\n",
    "plt.axis(\"equal\")    \n",
    "# plt.savefig(\"../Plot/3x3_p2_cdw.png\",bbox_inches='tight')\n",
    "plt.show()"
   ]
  },
  {
   "cell_type": "code",
   "execution_count": null,
   "metadata": {},
   "outputs": [],
   "source": []
  },
  {
   "cell_type": "code",
   "execution_count": null,
   "metadata": {},
   "outputs": [],
   "source": []
  },
  {
   "cell_type": "code",
   "execution_count": 86,
   "metadata": {},
   "outputs": [
    {
     "data": {
      "image/png": "[encoded data removed]",
      "text/plain": [
       "<Figure size 432x432 with 1 Axes>"
      ]
     },
     "metadata": {},
     "output_type": "display_data"
    }
   ],
   "source": [
    "fig = plt.figure(figsize=(6,6))\n",
    "hw=0.005\n",
    "plt.scatter(u[:9].T[0]*1.5,u[:9].T[1]*1.5,s=0.001)\n",
    "\n",
    "\n",
    "for k in [0,6,8]:\n",
    "    plt.arrow(0,0,u[k][0],u[k][1],lw=3,zorder=2,color=\"red\",head_width=hw)   \n",
    "for k in [1,5,2]:\n",
    "    plt.arrow(0,0,u[k][0],u[k][1],lw=3,zorder=2,color=\"orange\",head_width=hw)   \n",
    "for k in [3,4,7]:\n",
    "    plt.arrow(0,0,u[k][0],u[k][1],lw=3,zorder=2,color=\"black\",head_width=hw)   \n",
    "    \n",
    "# plt.plot(0,0,c=\"black\",label=round(norm(u[3][:2]),3))\n",
    "# plt.plot(0,0,c=\"red\",label=round(norm(u[0][:2]),3))\n",
    "# plt.plot(0,0,c=\"orange\",label=round(norm(u[1][:2]),3))\n",
    "# plt.legend()\n",
    "plt.xticks([])\n",
    "plt.yticks([])\n",
    "plt.axis(\"equal\")\n",
    "# plt.title(\"Phase 2\")\n",
    "plt.savefig(\"../Plot/3x3_p2_nb_mod.png\",bbox_inches='tight')\n",
    "plt.show()\n"
   ]
  },
  {
   "cell_type": "code",
   "execution_count": 17,
   "metadata": {},
   "outputs": [],
   "source": [
    "utilde = dot(exp(-1j*dot(n_atom[:9],qvec.T)).T,u[:9])"
   ]
  },
  {
   "cell_type": "code",
   "execution_count": 18,
   "metadata": {},
   "outputs": [
    {
     "data": {
      "text/plain": [
       "array([[-0.152+0.023j, -0.088+0.013j,  0.   +0.j   ],\n",
       "       [ 0.   +0.j   , -0.065+0.166j,  0.   +0.j   ],\n",
       "       [-0.056+0.144j,  0.032-0.083j,  0.   +0.j   ]])"
      ]
     },
     "execution_count": 18,
     "metadata": {},
     "output_type": "execute_result"
    }
   ],
   "source": [
    "around(utilde,3)"
   ]
  },
  {
   "cell_type": "code",
   "execution_count": null,
   "metadata": {},
   "outputs": [],
   "source": []
  },
  {
   "cell_type": "code",
   "execution_count": null,
   "metadata": {},
   "outputs": [],
   "source": []
  },
  {
   "cell_type": "code",
   "execution_count": null,
   "metadata": {},
   "outputs": [],
   "source": []
  },
  {
   "cell_type": "code",
   "execution_count": 19,
   "metadata": {},
   "outputs": [
    {
     "name": "stdout",
     "output_type": "stream",
     "text": [
      "0.1776119365358083\n",
      "0.17827226368675528\n",
      "0.1782834821288837\n"
     ]
    }
   ],
   "source": [
    "for i in around(utilde,3):\n",
    "    print(norm(i))"
   ]
  },
  {
   "cell_type": "code",
   "execution_count": 20,
   "metadata": {},
   "outputs": [
    {
     "name": "stdout",
     "output_type": "stream",
     "text": [
      "0.17608213967097291\n",
      "0.06481491555352249\n",
      "0.06497267984146692\n"
     ]
    }
   ],
   "source": [
    "for i in real(utilde):\n",
    "    print(norm(i))"
   ]
  },
  {
   "cell_type": "code",
   "execution_count": 21,
   "metadata": {},
   "outputs": [
    {
     "name": "stdout",
     "output_type": "stream",
     "text": [
      "0.026814924862188352\n",
      "0.16589090252352023\n",
      "0.1659301066511753\n"
     ]
    }
   ],
   "source": [
    "for i in imag(utilde):\n",
    "    print(norm(i))"
   ]
  },
  {
   "cell_type": "code",
   "execution_count": 25,
   "metadata": {},
   "outputs": [],
   "source": [
    "utilde = dot(around(exp(-1j*dot(around(n_atom[:9],3),around(concatenate([qvec,-qvec]),3).T).T),3),around(u[:9],3))"
   ]
  },
  {
   "cell_type": "code",
   "execution_count": 27,
   "metadata": {},
   "outputs": [
    {
     "data": {
      "image/png": "[encoded data removed]",
      "text/plain": [
       "<Figure size 576x576 with 1 Axes>"
      ]
     },
     "metadata": {},
     "output_type": "display_data"
    }
   ],
   "source": [
    "fig = plt.figure(figsize=(8,8))\n",
    "# for i in qvec:\n",
    "# #     print(linalg.norm(utilde[i]))\n",
    "#     plt.arrow(0,0,i[0],i[1],head_width=0.03,color=\"blue\")\n",
    "#     plt.scatter(i[0]*13/10,i[1]*13/10,s=0.0001)\n",
    "    \n",
    "colors=[\"red\",\"black\",\"green\",\"red\",\"black\",\"green\"]\n",
    "    \n",
    "\n",
    "for i in range(6):\n",
    "#     plt.arrow(0,0,real(utilde)[i][0],real(utilde)[i][1],head_width=0.02,color=colors[i],ls=\"-\",lw=3)\n",
    "    plt.arrow(0,0,imag(utilde)[i][0],imag(utilde)[i][1],head_width=0.02,color=colors[i],ls=\":\",lw=3)\n",
    "#     plt.scatter(real(utilde)[i][0]*15/10,real(utilde)[i][1]*15/10,s=0.0001)\n",
    "    plt.scatter(imag(utilde)[i][0]*15/10,imag(utilde)[i][1]*15/10,s=0.0001)\n",
    "    plt.plot(0,c=colors[i],label=r\"$U_{}$\".format(i+1))\n",
    "    \n",
    "\n",
    "\n",
    "# plt.plot(0,c=\"black\",label=\"Re(CDW)\")\n",
    "# plt.plot(0,c=\"red\",label=\"Im(CDW)\")\n",
    "# plt.plot(0,c=\"blue\",label=\"Q-vec\")\n",
    "plt.xticks([])\n",
    "plt.yticks([])\n",
    "plt.legend()\n",
    "plt.axis(\"equal\")    \n",
    "# plt.savefig(\"../Plot/3x3_p2_cdw.png\",bbox_inches='tight')\n",
    "plt.show()"
   ]
  },
  {
   "cell_type": "code",
   "execution_count": null,
   "metadata": {},
   "outputs": [],
   "source": []
  },
  {
   "cell_type": "code",
   "execution_count": null,
   "metadata": {},
   "outputs": [],
   "source": []
  },
  {
   "cell_type": "code",
   "execution_count": null,
   "metadata": {},
   "outputs": [],
   "source": []
  },
  {
   "cell_type": "code",
   "execution_count": null,
   "metadata": {},
   "outputs": [],
   "source": []
  },
  {
   "cell_type": "code",
   "execution_count": null,
   "metadata": {},
   "outputs": [],
   "source": []
  },
  {
   "cell_type": "code",
   "execution_count": null,
   "metadata": {},
   "outputs": [],
   "source": []
  },
  {
   "cell_type": "code",
   "execution_count": null,
   "metadata": {},
   "outputs": [],
   "source": []
  },
  {
   "cell_type": "code",
   "execution_count": null,
   "metadata": {},
   "outputs": [],
   "source": []
  },
  {
   "cell_type": "code",
   "execution_count": null,
   "metadata": {},
   "outputs": [],
   "source": []
  },
  {
   "cell_type": "code",
   "execution_count": null,
   "metadata": {},
   "outputs": [],
   "source": []
  },
  {
   "cell_type": "code",
   "execution_count": null,
   "metadata": {},
   "outputs": [],
   "source": []
  },
  {
   "cell_type": "code",
   "execution_count": null,
   "metadata": {},
   "outputs": [],
   "source": []
  },
  {
   "cell_type": "code",
   "execution_count": null,
   "metadata": {},
   "outputs": [],
   "source": []
  },
  {
   "cell_type": "code",
   "execution_count": null,
   "metadata": {},
   "outputs": [],
   "source": []
  }
 ],
 "metadata": {
  "kernelspec": {
   "display_name": "Python 3",
   "language": "python",
   "name": "python3"
  },
  "language_info": {
   "codemirror_mode": {
    "name": "ipython",
    "version": 3
   },
   "file_extension": ".py",
   "mimetype": "text/x-python",
   "name": "python",
   "nbconvert_exporter": "python",
   "pygments_lexer": "ipython3",
   "version": "3.8.3"
  }
 },
 "nbformat": 4,
 "nbformat_minor": 4
}
