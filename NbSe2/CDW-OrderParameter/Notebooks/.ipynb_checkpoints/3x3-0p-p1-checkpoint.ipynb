{
 "cells": [
  {
   "cell_type": "code",
   "execution_count": 1,
   "metadata": {},
   "outputs": [],
   "source": [
    "import matplotlib.pyplot as plt\n",
    "from numpy import *\n",
    "from mpl_toolkits.mplot3d import Axes3D\n",
    "import ipywidgets as widgets\n",
    "from ipywidgets import interact, interactive, fixed, interact_manual\n",
    "\n",
    "# %matplotlib widget\n",
    "%matplotlib inline"
   ]
  },
  {
   "cell_type": "code",
   "execution_count": null,
   "metadata": {},
   "outputs": [],
   "source": [
    "concatenate"
   ]
  },
  {
   "cell_type": "code",
   "execution_count": 46,
   "metadata": {},
   "outputs": [],
   "source": [
    "svec = loadtxt(\"../Data/3x3-0p-cell\")\n",
    "rvec = svec/3\n",
    "\n",
    "n_nb=loadtxt(\"../Data/3x3-0p-nb\")\n",
    "n_se=loadtxt(\"../Data/3x3-0p-se\")\n",
    "m_nb=loadtxt(\"../Data/3x3-p1-nb\")\n",
    "m_se=loadtxt(\"../Data/3x3-p1-se\")\n",
    "\n",
    "n_atoms = concat([n_nb,n_se],axis=0)\n",
    "m_atoms = concat([m_nb,m_se],axis=0)\n",
    "\n",
    "n_atom = dot(n_data[3:],n_cell)\n",
    "m_atom = dot(p1_data[3:],n_cell)\n",
    "\n",
    "n_nb = n_atom[3:12]\n",
    "n_se = n_atom[12:]\n",
    "m_nb = p1_atom[3:12]\n",
    "m_se = p1_atom[12:]\n",
    "\n",
    "\n",
    "nb=array([n_nb,m_nb])\n",
    "nb[0] = dot(nb[0],svec)\n",
    "nb[1] = dot(nb[1],svec)\n",
    "\n",
    "se=array([n_se,m_se])\n",
    "se[0] = dot(se[0],svec)\n",
    "se[1] = dot(se[1],svec)\n",
    "\n",
    "se+=-nb[0][0]\n",
    "nb+=-nb[0][0]\n",
    "\n",
    "nb_x, nb_y, nb_z = nb.T[0].T, nb.T[1].T, nb.T[2].T\n",
    "se_x, se_y, se_z = se.T[0].T, se.T[1].T, se.T[2].T\n",
    "\n",
    "\n",
    "b = 4*pi/(linalg.norm(rvec[0])*sqrt(3))\n",
    "qvec = b*array([[-sqrt(3)/2,-1/2,0],[0,1,0],[sqrt(3)/2,-1/2,0]])/3\n",
    "qdif = array([[qvec[0]-qvec[1],qvec[1]-qvec[2],qvec[2]-qvec[0]]])\n",
    "qdif= qdif[0]\n",
    "qunit = qvec/abs(linalg.norm(qvec[0]))\n",
    "\n",
    "u = nb[1]-nb[0]\n",
    "# u = u-sum(u,axis=0)\n",
    "\n"
   ]
  },
  {
   "cell_type": "code",
   "execution_count": 47,
   "metadata": {},
   "outputs": [
    {
     "data": {
      "text/plain": [
       "array([[ 6.45851994e+01, -5.30985632e+01, -6.80323500e-03],\n",
       "       [ 6.85901995e+01, -2.57050162e+01, -6.80323500e-03],\n",
       "       [-1.02296304e+00,  3.02490270e+01, -6.80323500e-03],\n",
       "       [-4.12338178e+01, -2.47844101e+01, -6.80323500e-03],\n",
       "       [-4.09203203e+01,  2.60915464e+00, -6.80323500e-03],\n",
       "       [-1.07089355e+02,  5.57949353e+01, -6.80323500e-03],\n",
       "       [ 6.50735349e+01, -5.27549714e+01, -5.53666264e+00],\n",
       "       [ 1.04232852e+02, -2.53613886e+01, -5.53666218e+00],\n",
       "       [ 1.82120481e+00,  5.69551613e+01, -5.53658756e+00]])"
      ]
     },
     "execution_count": 47,
     "metadata": {},
     "output_type": "execute_result"
    }
   ],
   "source": [
    "u"
   ]
  },
  {
   "cell_type": "code",
   "execution_count": null,
   "metadata": {},
   "outputs": [],
   "source": []
  },
  {
   "cell_type": "code",
   "execution_count": null,
   "metadata": {},
   "outputs": [],
   "source": []
  },
  {
   "cell_type": "code",
   "execution_count": null,
   "metadata": {},
   "outputs": [],
   "source": []
  },
  {
   "cell_type": "code",
   "execution_count": 48,
   "metadata": {},
   "outputs": [
    {
     "name": "stdout",
     "output_type": "stream",
     "text": [
      "[0.11509535 0.8636508  0.50001572]\n",
      "[0.11508537 0.53029131 0.50001572]\n",
      "[0.11507478 0.1969308  0.50001572]\n",
      "[0.4484352  0.86365094 0.50001572]\n",
      "[0.44842534 0.53029158 0.50001572]\n",
      "[0.44841487 0.19693075 0.50001572]\n",
      "[0.78177504 0.86365101 0.50001572]\n",
      "[0.78176541 0.53029144 0.50001572]\n",
      "[0.78175459 0.19693073 0.50001572]\n",
      "[0.22620278 0.75253223 0.42014222]\n",
      "[0.22619239 0.41917243 0.42014221]\n",
      "[0.22618193 0.08581159 0.42014204]\n",
      "[0.55954327 0.75253294 0.42014199]\n",
      "[0.55953294 0.41917264 0.4201421 ]\n",
      "[0.55952251 0.0858117  0.420142  ]\n",
      "[0.89288235 0.75253266 0.42014202]\n",
      "[0.89287237 0.41917185 0.42014213]\n",
      "[0.89286121 0.08581162 0.42014201]\n",
      "[0.22620278 0.75253223 0.57988927]\n",
      "[0.22619239 0.41917243 0.57988927]\n",
      "[0.22618193 0.08581159 0.57988944]\n",
      "[0.55954327 0.75253294 0.57988949]\n",
      "[0.55953294 0.41917264 0.57988939]\n",
      "[0.55952251 0.0858117  0.57988948]\n",
      "[0.89288235 0.75253266 0.57988946]\n",
      "[0.89287237 0.41917185 0.57988935]\n",
      "[0.89286121 0.08581162 0.57988947]\n"
     ]
    }
   ],
   "source": [
    "for i in (dot(n_atom,linalg.inv(n_cell))):\n",
    "    print(i)"
   ]
  },
  {
   "cell_type": "code",
   "execution_count": null,
   "metadata": {},
   "outputs": [],
   "source": []
  },
  {
   "cell_type": "code",
   "execution_count": 41,
   "metadata": {},
   "outputs": [
    {
     "data": {
      "text/plain": [
       "array([[-3.24100653e+00,  5.85753593e+00,  3.27000000e-04],\n",
       "       [-5.13455241e+00,  2.83563334e+00,  3.27000000e-04],\n",
       "       [-1.57072870e+00, -3.33690315e+00,  3.27000000e-04],\n",
       "       [ 5.30607356e+00,  2.73407723e+00,  3.27000000e-04],\n",
       "       [ 3.76517311e+00, -2.87827318e-01,  3.27000000e-04],\n",
       "       [ 7.15267159e+00, -6.15498459e+00,  3.27000000e-04],\n",
       "       [-3.30660841e+00,  5.81963281e+00,  2.66121732e-01],\n",
       "       [-8.55842114e+00,  2.79772627e+00,  2.66121710e-01],\n",
       "       [-3.31546541e+00, -6.28297422e+00,  2.66118124e-01]])"
      ]
     },
     "execution_count": 41,
     "metadata": {},
     "output_type": "execute_result"
    }
   ],
   "source": [
    "n_nb-p1_nb"
   ]
  },
  {
   "cell_type": "code",
   "execution_count": null,
   "metadata": {},
   "outputs": [],
   "source": []
  },
  {
   "cell_type": "code",
   "execution_count": null,
   "metadata": {},
   "outputs": [],
   "source": []
  },
  {
   "cell_type": "code",
   "execution_count": 39,
   "metadata": {},
   "outputs": [
    {
     "data": {
      "text/plain": [
       "array([[-1.64280187e+00,  1.00207184e+00,  8.47493706e+00],\n",
       "       [ 3.73034936e-14,  1.00207184e+00,  8.47493706e+00],\n",
       "       [ 1.64280187e+00,  1.97145982e+00,  8.47493706e+00],\n",
       "       [ 1.73574540e+00,  1.97145982e+00,  1.04025000e+01],\n",
       "       [ 3.41487722e+00,  5.09491918e+00,  1.04025000e+01],\n",
       "       [ 5.23400000e+00,  5.09491918e+00,  1.04025000e+01],\n",
       "       [ 5.23400000e+00,  5.12208037e+00,  1.04025000e+01],\n",
       "       [ 7.05312278e+00,  7.06085631e+00,  1.04025000e+01],\n",
       "       [ 8.73225460e+00,  7.94016163e+00,  1.04025000e+01]])"
      ]
     },
     "execution_count": 39,
     "metadata": {},
     "output_type": "execute_result"
    }
   ],
   "source": [
    "sort(p1_nb,axis=0)"
   ]
  },
  {
   "cell_type": "code",
   "execution_count": null,
   "metadata": {},
   "outputs": [],
   "source": []
  },
  {
   "cell_type": "code",
   "execution_count": 22,
   "metadata": {},
   "outputs": [
    {
     "data": {
      "text/plain": [
       "array([[10.468,  0.   ,  0.   ],\n",
       "       [-5.234,  9.065,  0.   ],\n",
       "       [ 0.   ,  0.   , 20.805]])"
      ]
     },
     "execution_count": 22,
     "metadata": {},
     "output_type": "execute_result"
    }
   ],
   "source": [
    "n_cell"
   ]
  },
  {
   "cell_type": "code",
   "execution_count": 40,
   "metadata": {},
   "outputs": [
    {
     "data": {
      "text/plain": [
       "array([[-3.55180583e+00,  9.97219801e-01,  8.47493706e+00],\n",
       "       [-1.78112533e+00,  9.97219801e-01,  8.47493706e+00],\n",
       "       [-1.78112533e+00,  1.00207184e+00,  8.47493706e+00],\n",
       "       [-1.64280187e+00,  1.00207184e+00,  8.51045765e+00],\n",
       "       [-3.73034936e-14,  1.00207184e+00,  8.51045765e+00],\n",
       "       [ 3.68594044e-14,  1.00207184e+00,  8.51045765e+00],\n",
       "       [ 3.68594044e-14,  1.94231182e+00,  8.57708992e+00],\n",
       "       [ 3.73034936e-14,  1.97145982e+00,  8.57708992e+00],\n",
       "       [ 1.64280187e+00,  1.97145982e+00,  8.57708992e+00],\n",
       "       [ 1.73574540e+00,  3.98679262e+00,  1.04025000e+01],\n",
       "       [ 1.73574540e+00,  3.98679262e+00,  1.04025000e+01],\n",
       "       [ 1.78112533e+00,  4.03389010e+00,  1.04025000e+01],\n",
       "       [ 1.78112533e+00,  4.03389010e+00,  1.04025000e+01],\n",
       "       [ 3.41487722e+00,  4.03389010e+00,  1.04025000e+01],\n",
       "       [ 3.48067045e+00,  4.03389010e+00,  1.04025000e+01],\n",
       "       [ 3.48067045e+00,  5.09491918e+00,  1.04025000e+01],\n",
       "       [ 3.55180583e+00,  5.09491918e+00,  1.04025000e+01],\n",
       "       [ 5.23400000e+00,  5.12208037e+00,  1.04025000e+01],\n",
       "       [ 5.23400000e+00,  7.06085631e+00,  1.22279101e+01],\n",
       "       [ 5.23400000e+00,  7.06085631e+00,  1.22279101e+01],\n",
       "       [ 5.23400000e+00,  7.07160369e+00,  1.22279101e+01],\n",
       "       [ 5.23400000e+00,  7.07160369e+00,  1.22945423e+01],\n",
       "       [ 6.98732955e+00,  7.07160369e+00,  1.22945423e+01],\n",
       "       [ 6.98732955e+00,  7.07160369e+00,  1.22945423e+01],\n",
       "       [ 7.05312278e+00,  7.94016163e+00,  1.23300629e+01],\n",
       "       [ 8.73225460e+00,  8.09384409e+00,  1.23300629e+01],\n",
       "       [ 8.73225460e+00,  8.09384409e+00,  1.23300629e+01]])"
      ]
     },
     "execution_count": 40,
     "metadata": {},
     "output_type": "execute_result"
    }
   ],
   "source": [
    "sort(p1_atom,axis=0)"
   ]
  },
  {
   "cell_type": "code",
   "execution_count": 31,
   "metadata": {},
   "outputs": [
    {
     "data": {
      "text/plain": [
       "array([[-3.31553014,  0.77788209,  8.74105417],\n",
       "       [-1.570863  ,  0.77788209,  8.74105431],\n",
       "       [-1.570863  ,  0.77788233,  8.74105452],\n",
       "       [-1.57083103,  0.77788233,  8.74105471],\n",
       "       [ 0.17383346,  0.77788308,  8.74105518],\n",
       "       [ 0.17383346,  0.77788308,  8.74105629],\n",
       "       [ 0.17386703,  1.78517704,  8.74105701],\n",
       "       [ 0.17387069,  1.78517722,  8.74105877],\n",
       "       [ 1.91853459,  1.78517768,  8.74105879],\n",
       "       [ 1.91853459,  3.79979282, 10.402827  ],\n",
       "       [ 1.91854154,  3.79979282, 10.402827  ],\n",
       "       [ 1.91854154,  3.79979811, 10.402827  ],\n",
       "       [ 1.91857037,  3.79979811, 10.402827  ],\n",
       "       [ 3.66324126,  3.79979999, 10.402827  ],\n",
       "       [ 3.66324126,  3.79979999, 10.402827  ],\n",
       "       [ 3.6632713 ,  4.80709072, 10.402827  ],\n",
       "       [ 3.66327168,  4.80709187, 10.402827  ],\n",
       "       [ 5.40793653,  4.80709316, 10.402827  ],\n",
       "       [ 5.40793653,  6.82170465, 12.06459621],\n",
       "       [ 5.40794322,  6.82170465, 12.06459623],\n",
       "       [ 5.40794322,  6.82170858, 12.06459799],\n",
       "       [ 5.40797498,  6.82170858, 12.06459871],\n",
       "       [ 7.15264255,  6.82171114, 12.06459982],\n",
       "       [ 7.15264255,  6.82171114, 12.06460029],\n",
       "       [ 7.15267159,  7.82899453, 12.06460048],\n",
       "       [ 8.89733312,  7.82899574, 12.06460069],\n",
       "       [ 8.89733312,  7.82899641, 12.06460083]])"
      ]
     },
     "execution_count": 31,
     "metadata": {},
     "output_type": "execute_result"
    }
   ],
   "source": [
    "sort(n_atom,axis=0)"
   ]
  },
  {
   "cell_type": "code",
   "execution_count": 28,
   "metadata": {},
   "outputs": [
    {
     "data": {
      "text/plain": [
       "<matplotlib.collections.PathCollection at 0x7fae61b68490>"
      ]
     },
     "execution_count": 28,
     "metadata": {},
     "output_type": "execute_result"
    },
    {
     "data": {
      "image/png": "[encoded data removed]",
      "text/plain": [
       "<Figure size 432x288 with 1 Axes>"
      ]
     },
     "metadata": {
      "needs_background": "light"
     },
     "output_type": "display_data"
    }
   ],
   "source": [
    "plt.scatter(n_nb.T[0],n_atom.T[1])\n",
    "plt.scatter(p1_atom.T[0],p1_atom.T[1])\n",
    "# plt.scatter(p2_atom.T[0],p2_atom.T[1])"
   ]
  },
  {
   "cell_type": "code",
   "execution_count": null,
   "metadata": {},
   "outputs": [],
   "source": []
  },
  {
   "cell_type": "code",
   "execution_count": null,
   "metadata": {},
   "outputs": [],
   "source": []
  },
  {
   "cell_type": "code",
   "execution_count": 23,
   "metadata": {},
   "outputs": [
    {
     "data": {
      "text/plain": [
       "array([[-3.31553014,  7.82899453, 10.402827  ],\n",
       "       [-1.57083103,  4.80709072, 10.402827  ],\n",
       "       [ 0.17386703,  1.78517768, 10.402827  ],\n",
       "       [ 0.17387069,  7.82899574, 10.402827  ],\n",
       "       [ 1.91857037,  4.80709316, 10.402827  ],\n",
       "       [ 3.6632713 ,  1.78517722, 10.402827  ],\n",
       "       [ 3.66327168,  7.82899641, 10.402827  ],\n",
       "       [ 5.40797498,  4.80709187, 10.402827  ],\n",
       "       [ 7.15267159,  1.78517704, 10.402827  ],\n",
       "       [-1.570863  ,  6.82170465,  8.74105879],\n",
       "       [ 0.17383346,  3.79979811,  8.74105877],\n",
       "       [ 1.91853459,  0.77788209,  8.74105518],\n",
       "       [ 1.91854154,  6.82171114,  8.74105417],\n",
       "       [ 3.66324126,  3.79979999,  8.74105629],\n",
       "       [ 5.40794322,  0.77788308,  8.74105431],\n",
       "       [ 5.40793653,  6.82170858,  8.74105471],\n",
       "       [ 7.15264255,  3.79979282,  8.74105701],\n",
       "       [ 8.89733312,  0.77788233,  8.74105452],\n",
       "       [-1.570863  ,  6.82170465, 12.06459621],\n",
       "       [ 0.17383346,  3.79979811, 12.06459623],\n",
       "       [ 1.91853459,  0.77788209, 12.06459982],\n",
       "       [ 1.91854154,  6.82171114, 12.06460083],\n",
       "       [ 3.66324126,  3.79979999, 12.06459871],\n",
       "       [ 5.40794322,  0.77788308, 12.06460069],\n",
       "       [ 5.40793653,  6.82170858, 12.06460029],\n",
       "       [ 7.15264255,  3.79979282, 12.06459799],\n",
       "       [ 8.89733312,  0.77788233, 12.06460048]])"
      ]
     },
     "execution_count": 23,
     "metadata": {},
     "output_type": "execute_result"
    }
   ],
   "source": [
    "n_atom"
   ]
  },
  {
   "cell_type": "code",
   "execution_count": null,
   "metadata": {},
   "outputs": [],
   "source": []
  },
  {
   "cell_type": "code",
   "execution_count": 12,
   "metadata": {},
   "outputs": [
    {
     "data": {
      "text/plain": [
       "array([[-75.68392683,  70.96983541, 216.43081574],\n",
       "       [-41.60377209,  43.57627741, 216.43081574],\n",
       "       [ -7.52357994,  16.18263569, 216.43081574],\n",
       "       [-39.15688535,  70.96984642, 216.43081574],\n",
       "       [ -5.07673095,  43.57629947, 216.43081574],\n",
       "       [ 29.00350639,  16.1826315 , 216.43081574],\n",
       "       [ -2.62983924,  70.96985247, 216.43081574],\n",
       "       [ 31.45036329,  43.57628776, 216.43081574],\n",
       "       [ 65.53054951,  16.1826299 , 216.43081574],\n",
       "       [-52.14859607,  61.83875268, 181.85772809],\n",
       "       [-18.06845466,  34.44516987, 181.85772763],\n",
       "       [ 16.01178525,   7.05150116, 181.85765301],\n",
       "       [-15.62154331,  61.8388115 , 181.85763208],\n",
       "       [ 18.45865636,  34.44518695, 181.8576762 ],\n",
       "       [ 52.53890955,   7.05151016, 181.85763486],\n",
       "       [ 20.90545683,  61.83878831, 181.85764324],\n",
       "       [ 54.98574663,  34.44512194, 181.85769116],\n",
       "       [ 89.06584697,   7.05150331, 181.85763934],\n",
       "       [-52.14859607,  61.83875268, 251.00392419],\n",
       "       [-18.06845466,  34.44516987, 251.00392465],\n",
       "       [ 16.01178525,   7.05150116, 251.00399927],\n",
       "       [-15.62154331,  61.8388115 , 251.0040202 ],\n",
       "       [ 18.45865636,  34.44518695, 251.00397608],\n",
       "       [ 52.53890955,   7.05151016, 251.00401741],\n",
       "       [ 20.90545683,  61.83878831, 251.00400903],\n",
       "       [ 54.98574663,  34.44512194, 251.00396112],\n",
       "       [ 89.06584697,   7.05150331, 251.00401293]])"
      ]
     },
     "execution_count": 12,
     "metadata": {},
     "output_type": "execute_result"
    }
   ],
   "source": [
    "n_atom"
   ]
  },
  {
   "cell_type": "code",
   "execution_count": null,
   "metadata": {},
   "outputs": [],
   "source": []
  }
 ],
 "metadata": {
  "kernelspec": {
   "display_name": "Python 3",
   "language": "python",
   "name": "python3"
  },
  "language_info": {
   "codemirror_mode": {
    "name": "ipython",
    "version": 3
   },
   "file_extension": ".py",
   "mimetype": "text/x-python",
   "name": "python",
   "nbconvert_exporter": "python",
   "pygments_lexer": "ipython3",
   "version": "3.8.3"
  }
 },
 "nbformat": 4,
 "nbformat_minor": 4
}
