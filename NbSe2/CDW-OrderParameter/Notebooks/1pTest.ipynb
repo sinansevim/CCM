{
 "cells": [
  {
   "cell_type": "code",
   "execution_count": 9,
   "metadata": {},
   "outputs": [],
   "source": [
    "import matplotlib.pyplot as plt\n",
    "from numpy import *\n",
    "from numpy.linalg import *\n",
    "from mpl_toolkits.mplot3d import Axes3D\n",
    "\n",
    "# %matplotlib widget\n",
    "%matplotlib inline"
   ]
  },
  {
   "cell_type": "code",
   "execution_count": 20,
   "metadata": {},
   "outputs": [],
   "source": [
    "svec = loadtxt(\"../Data/3x3-0p/normal.cell\")\n",
    "rvec = svec/3\n",
    "b = 4*pi/(linalg.norm(rvec[0])*sqrt(3))\n",
    "qvec = b*array([[-sqrt(3)/2,-1/2,0],[0,1,0],[sqrt(3)/2,-1/2,0]])/3\n",
    "qdif = array([[qvec[0]-qvec[1],qvec[1]-qvec[2],qvec[2]-qvec[0]]])\n",
    "qdif= qdif[0]\n",
    "qunit = qvec/abs(linalg.norm(qvec[0]))\n"
   ]
  },
  {
   "cell_type": "code",
   "execution_count": 21,
   "metadata": {},
   "outputs": [],
   "source": [
    "n_data = loadtxt(\"../Data/3x3-0p-p1/n.pos\")\n",
    "m_data = loadtxt(\"../Data/3x3-0p-p1/m.pos\")\n",
    "\n",
    "\n",
    "n_atom = dot(n_data,svec)\n",
    "n_atom = n_atom-n_atom[0]\n",
    "m_atom = dot(m_data,svec)\n",
    "m_atom += average(n_atom[:9]-m_atom[:9],axis=0)\n",
    "u = around(m_atom - n_atom,8)"
   ]
  },
  {
   "cell_type": "code",
   "execution_count": 30,
   "metadata": {},
   "outputs": [
    {
     "data": {
      "text/plain": [
       "array([[0.11507478, 0.1969308 , 0.50001572],\n",
       "       [0.11509535, 0.8636508 , 0.50001572],\n",
       "       [0.11508537, 0.53029131, 0.50001572],\n",
       "       [0.44841487, 0.19693075, 0.50001572],\n",
       "       [0.44842534, 0.53029158, 0.50001572],\n",
       "       [0.4484352 , 0.86365094, 0.50001572],\n",
       "       [0.78175459, 0.19693073, 0.50001572],\n",
       "       [0.78176541, 0.53029144, 0.50001572],\n",
       "       [0.78177504, 0.86365101, 0.50001572],\n",
       "       [0.22620278, 0.75253223, 0.42014222],\n",
       "       [0.22619239, 0.41917243, 0.42014221],\n",
       "       [0.22618193, 0.08581159, 0.42014204],\n",
       "       [0.55954327, 0.75253294, 0.42014199],\n",
       "       [0.55953294, 0.41917264, 0.4201421 ],\n",
       "       [0.55952251, 0.0858117 , 0.420142  ],\n",
       "       [0.89288235, 0.75253266, 0.42014202],\n",
       "       [0.89287237, 0.41917185, 0.42014213],\n",
       "       [0.89286121, 0.08581162, 0.42014201],\n",
       "       [0.22620278, 0.75253223, 0.57988927],\n",
       "       [0.22619239, 0.41917243, 0.57988927],\n",
       "       [0.22618193, 0.08581159, 0.57988944],\n",
       "       [0.55954327, 0.75253294, 0.57988949],\n",
       "       [0.55953294, 0.41917264, 0.57988939],\n",
       "       [0.55952251, 0.0858117 , 0.57988948],\n",
       "       [0.89288235, 0.75253266, 0.57988946],\n",
       "       [0.89287237, 0.41917185, 0.57988935],\n",
       "       [0.89286121, 0.08581162, 0.57988947]])"
      ]
     },
     "execution_count": 30,
     "metadata": {},
     "output_type": "execute_result"
    }
   ],
   "source": [
    "n_data"
   ]
  },
  {
   "cell_type": "code",
   "execution_count": 34,
   "metadata": {},
   "outputs": [
    {
     "data": {
      "text/plain": [
       "array([-1.66176817, -1.66176838, -1.66177191, -1.66177295, -1.66177066,\n",
       "       -1.66177274, -1.66177233, -1.66177004, -1.66177254,  1.66176921,\n",
       "        1.66176921,  1.66177274,  1.66177378,  1.6617717 ,  1.66177358,\n",
       "        1.66177316,  1.66177087,  1.66177337])"
      ]
     },
     "execution_count": 34,
     "metadata": {},
     "output_type": "execute_result"
    }
   ],
   "source": [
    "n_atom.T[2][9:]"
   ]
  },
  {
   "cell_type": "code",
   "execution_count": null,
   "metadata": {},
   "outputs": [],
   "source": []
  },
  {
   "cell_type": "code",
   "execution_count": null,
   "metadata": {},
   "outputs": [],
   "source": []
  },
  {
   "cell_type": "code",
   "execution_count": 31,
   "metadata": {},
   "outputs": [
    {
     "data": {
      "text/plain": [
       "<matplotlib.collections.PathCollection at 0x211d71a02e0>"
      ]
     },
     "execution_count": 31,
     "metadata": {},
     "output_type": "execute_result"
    },
    {
     "data": {
      "image/png": "[encoded data removed]",
      "text/plain": [
       "<Figure size 432x288 with 1 Axes>"
      ]
     },
     "metadata": {
      "needs_background": "light"
     },
     "output_type": "display_data"
    }
   ],
   "source": [
    "plt.scatter(n_atom.T[0][:9],n_atom.T[1])"
   ]
  },
  {
   "cell_type": "code",
   "execution_count": 147,
   "metadata": {},
   "outputs": [],
   "source": [
    "def plot_lattice():\n",
    "    fig = plt.figure(figsize=(12,10))\n",
    "    s1, s2 = 200,300\n",
    "    hw=0.2\n",
    "    cell_color=\"black\"\n",
    "    cell_lw=4\n",
    "    cell_zorder=0\n",
    "    plt.scatter(0,0,c=\"blue\",s=s2,label=\"Nb\")\n",
    "#     plt.scatter(0,0,c=\"green\",s=s1,label=\"Se\")    \n",
    "    period = arange(-2,3,1)\n",
    "    for i in period:\n",
    "        for j in period:\n",
    "            plt.plot([0,svec[0][0]],[0,svec[0][1]],c=cell_color,lw=cell_lw,zorder=cell_zorder)\n",
    "            plt.plot([0,svec[1][0]],[0,svec[1][1]],c=cell_color,lw=cell_lw,zorder=cell_zorder)\n",
    "            plt.plot([svec[0][0],svec[0][0]+svec[1][0]],[svec[0][1],svec[0][1]+svec[1][1]],c=cell_color,lw=cell_lw,zorder=cell_zorder)\n",
    "            plt.plot([svec[1][0],svec[1][0]+svec[0][0]],[svec[1][1],svec[1][1]+svec[0][1]],c=cell_color,lw=cell_lw,zorder=cell_zorder)\n",
    "            plt.plot([0,svec[0][0]],[0,svec[0][1]],c=cell_color,lw=cell_lw,zorder=cell_zorder)\n",
    "            plt.plot([0,svec[1][0]],[0,-svec[1][1]],c=cell_color,lw=cell_lw,zorder=cell_zorder)\n",
    "            plt.plot([svec[0][0],svec[0][0]+svec[1][0]],[svec[0][1],svec[0][1]-svec[1][1]],c=cell_color,lw=cell_lw,zorder=cell_zorder)\n",
    "            plt.plot([svec[1][0],svec[1][0]+svec[0][0]],[-svec[1][1],-svec[1][1]+svec[0][1]],c=cell_color,lw=cell_lw,zorder=cell_zorder)\n",
    "            plt.plot([svec[1][0],-svec[0][0]],[svec[1][1],-svec[0][1]],c=cell_color,lw=cell_lw,zorder=cell_zorder)\n",
    "            plt.plot([-svec[0][0],svec[1][0]],[svec[0][1],-svec[1][1]],c=cell_color,lw=cell_lw,zorder=cell_zorder)\n",
    "            \n",
    "            \n",
    "            plt.scatter(n_atom[:9].T[0]+(i*svec[0][0]+j*svec[1][0]),n_atom[:9].T[1]+(i*svec[0][1]+j*svec[1][1]),c=\"blue\",s=s2,zorder=2)\n",
    "            plt.scatter(n_atom[18:].T[0]+(i*svec[0][0]+j*svec[1][0]),n_atom[18:].T[1]+(i*svec[0][1]+j*svec[1][1]),c=u[18:].T[2],cmap=\"copper\",s=s1,zorder=2)\n",
    "            \n",
    "#             for k in [0,1,8]:\n",
    "#                 plt.arrow(n_atom[k][0]+(i*svec[0][0]+j*svec[1][0]),n_atom[k][1]+(i*svec[0][1]+j*svec[1][1]),(u[:,0][k])*10,(u[:,1][k])*10,lw=3,zorder=2,color=\"black\",head_width=hw)   \n",
    "#             for k in [3,6,7]:\n",
    "#                 plt.arrow(n_atom[k][0]+(i*svec[0][0]+j*svec[1][0]),n_atom[k][1]+(i*svec[0][1]+j*svec[1][1]),(u[:,0][k])*10,(u[:,1][k])*10,lw=3,zorder=2,color=\"black\",head_width=hw)   \n",
    "#             for k in [2,4,5]:\n",
    "#                 plt.arrow(n_atom[k][0]+(i*svec[0][0]+j*svec[1][0]),n_atom[k][1]+(i*svec[0][1]+j*svec[1][1]),(u[:,0][k])*10,(u[:,1][k])*10,lw=3,zorder=2,color=\"black\",head_width=hw)   \n",
    "#             for k in [9,10,12]:\n",
    "#                 plt.arrow(n_atom[k][0]+(i*svec[0][0]+j*svec[1][0]),n_atom[k][1]+(i*svec[0][1]+j*svec[1][1]),(u[:,0][k])*10,(u[:,1][k])*10,lw=3,zorder=2,color=\"blue\",head_width=hw)   \n",
    "#             for k in [11,15,17]:\n",
    "#                 plt.arrow(n_atom[k][0]+(i*svec[0][0]+j*svec[1][0]),n_atom[k][1]+(i*svec[0][1]+j*svec[1][1]),(u[:,0][k])*10,(u[:,1][k])*10,lw=3,zorder=2,color=\"red\",head_width=hw)   \n",
    "#             for k in [13,14,16]:\n",
    "#                 plt.arrow(n_atom[k][0]+(i*svec[0][0]+j*svec[1][0]),n_atom[k][1]+(i*svec[0][1]+j*svec[1][1]),(u[:,0][k])*10,(u[:,1][k])*10,lw=3,zorder=2,color=\"orange\",head_width=hw)   \n",
    "    plt.colorbar()\n",
    "    plt.xlim(-12,12)\n",
    "    plt.ylim(-12,12)\n",
    "    plt.xticks([])\n",
    "    plt.yticks([])\n",
    "#     plt.axis(\"equal\")\n",
    "    plt.title(\"Upper Se Plane\")\n",
    "    plt.legend(loc='upper right', borderpad=1,markerscale=1,labelspacing=1,fontsize=12)\n",
    "    plt.savefig(\"../Plot/3x3_p1_upper_se.png\",bbox_inches='tight')\n",
    "    # plt.axis(\"equal\")\n",
    "#     plt.show()"
   ]
  },
  {
   "cell_type": "code",
   "execution_count": 148,
   "metadata": {},
   "outputs": [
    {
     "data": {
      "image/png": "[encoded data removed]",
      "text/plain": [
       "<Figure size 864x720 with 2 Axes>"
      ]
     },
     "metadata": {
      "needs_background": "light"
     },
     "output_type": "display_data"
    }
   ],
   "source": [
    "plot_lattice()"
   ]
  },
  {
   "cell_type": "code",
   "execution_count": null,
   "metadata": {},
   "outputs": [],
   "source": [
    "u[:9]"
   ]
  },
  {
   "cell_type": "code",
   "execution_count": 93,
   "metadata": {},
   "outputs": [
    {
     "data": {
      "image/png": "[encoded data removed]",
      "text/plain": [
       "<Figure size 432x432 with 1 Axes>"
      ]
     },
     "metadata": {},
     "output_type": "display_data"
    }
   ],
   "source": [
    "fig = plt.figure(figsize=(6,6))\n",
    "hw=0.005\n",
    "plt.scatter(u.T[0]*0.5,u.T[1]*0.5,s=0.001)\n",
    "\n",
    "for k in [9,10,12]:\n",
    "    plt.arrow(0,0,u[k][0],u[k][1],lw=3,zorder=2,color=\"black\",head_width=hw)   \n",
    "for k in [11,15,17]:\n",
    "    plt.arrow(0,0,u[k][0],u[k][1],lw=3,zorder=2,color=\"red\",head_width=hw)   \n",
    "for k in [13,14,16]:\n",
    "    plt.arrow(0,0,u[k][0],u[k][1],lw=3,zorder=2,color=\"orange\",head_width=hw)   \n",
    "\n",
    "plt.plot(0,0,c=\"black\",label=round(norm(u[9][:2]),3))\n",
    "plt.plot(0,0,c=\"red\",label=round(norm(u[11][:2]),3))\n",
    "plt.plot(0,0,c=\"orange\",label=round(norm(u[13][:2]),3))\n",
    "plt.legend()\n",
    "plt.xticks([])\n",
    "plt.yticks([])\n",
    "plt.axis(\"equal\")\n",
    "plt.title(\"Phase 1 Se Modulation\")\n",
    "plt.savefig(\"../Plot/3x3_p1_se_mod.png\",bbox_inches='tight')\n",
    "plt.show()\n"
   ]
  },
  {
   "cell_type": "code",
   "execution_count": null,
   "metadata": {},
   "outputs": [],
   "source": []
  },
  {
   "cell_type": "code",
   "execution_count": 79,
   "metadata": {},
   "outputs": [
    {
     "name": "stdout",
     "output_type": "stream",
     "text": [
      "0.1176795882807626\n"
     ]
    }
   ],
   "source": [
    "print(norm(u[2]))"
   ]
  },
  {
   "cell_type": "code",
   "execution_count": 89,
   "metadata": {},
   "outputs": [
    {
     "data": {
      "image/png": "[encoded data removed]",
      "text/plain": [
       "<Figure size 432x432 with 1 Axes>"
      ]
     },
     "metadata": {},
     "output_type": "display_data"
    }
   ],
   "source": [
    "fig = plt.figure(figsize=(6,6))\n",
    "hw=0.02\n",
    "plt.scatter(u.T[0]*1.5,u.T[1]*1.5,s=0.001)\n",
    "\n",
    "for k in [3,6,7]:\n",
    "    plt.arrow(0,0,u[k][0],u[k][1],lw=3,zorder=2,color=\"red\",head_width=hw)   \n",
    "for k in [2,4,5]:\n",
    "    plt.arrow(0,0,u[k][0],u[k][1],lw=3,zorder=2,color=\"orange\",head_width=hw)   \n",
    "for k in [0,1,8]:\n",
    "    plt.arrow(0,0,u[k][0],u[k][1],lw=3,zorder=2,color=\"black\",head_width=hw)   \n",
    "colors=[\"\",\"black\",\"orange\",\"red\"]\n",
    "for i in range(1,4):\n",
    "    plt.plot(0,0,c=colors[i],label=round(norm(u[i]),3))\n",
    "plt.legend()\n",
    "plt.xticks([])\n",
    "plt.yticks([])\n",
    "plt.axis(\"equal\")\n",
    "plt.title(\"Phase 1 Nb Modulation\")\n",
    "plt.savefig(\"../Plot/3x3_p1_nb_mod.png\",bbox_inches='tight')\n",
    "plt.show()\n"
   ]
  },
  {
   "cell_type": "code",
   "execution_count": null,
   "metadata": {},
   "outputs": [],
   "source": []
  },
  {
   "cell_type": "code",
   "execution_count": null,
   "metadata": {},
   "outputs": [],
   "source": []
  },
  {
   "cell_type": "code",
   "execution_count": 203,
   "metadata": {},
   "outputs": [],
   "source": [
    "uar = around(u,3)"
   ]
  },
  {
   "cell_type": "code",
   "execution_count": 204,
   "metadata": {},
   "outputs": [],
   "source": [
    "nbar = around(n_atom[:9],3)"
   ]
  },
  {
   "cell_type": "code",
   "execution_count": null,
   "metadata": {},
   "outputs": [],
   "source": []
  },
  {
   "cell_type": "code",
   "execution_count": 205,
   "metadata": {},
   "outputs": [
    {
     "data": {
      "text/plain": [
       "array([[ 0.   , -0.072, -0.   ],\n",
       "       [-0.062,  0.036, -0.   ],\n",
       "       [ 0.102,  0.059, -0.   ],\n",
       "       [-0.074, -0.043, -0.   ],\n",
       "       [-0.102,  0.059, -0.   ],\n",
       "       [ 0.   , -0.118, -0.   ],\n",
       "       [ 0.074, -0.043, -0.   ],\n",
       "       [-0.   ,  0.086, -0.   ],\n",
       "       [ 0.062,  0.036, -0.   ],\n",
       "       [-0.036,  0.021, -0.23 ],\n",
       "       [ 0.   , -0.042, -0.23 ],\n",
       "       [-0.009, -0.005, -0.266],\n",
       "       [ 0.036,  0.021, -0.23 ],\n",
       "       [-0.009,  0.005, -0.164],\n",
       "       [-0.   , -0.01 , -0.164],\n",
       "       [-0.   ,  0.01 , -0.266],\n",
       "       [ 0.009,  0.005, -0.164],\n",
       "       [ 0.009, -0.005, -0.266],\n",
       "       [-0.036,  0.021,  0.23 ],\n",
       "       [ 0.   , -0.042,  0.23 ],\n",
       "       [-0.009, -0.005,  0.266],\n",
       "       [ 0.036,  0.021,  0.23 ],\n",
       "       [-0.009,  0.005,  0.164],\n",
       "       [-0.   , -0.01 ,  0.164],\n",
       "       [-0.   ,  0.01 ,  0.266],\n",
       "       [ 0.009,  0.005,  0.164],\n",
       "       [ 0.009, -0.005,  0.266]])"
      ]
     },
     "execution_count": 205,
     "metadata": {},
     "output_type": "execute_result"
    }
   ],
   "source": [
    "uar"
   ]
  },
  {
   "cell_type": "code",
   "execution_count": 149,
   "metadata": {},
   "outputs": [
    {
     "data": {
      "image/png": "[encoded data removed]",
      "text/plain": [
       "<Figure size 432x432 with 1 Axes>"
      ]
     },
     "metadata": {},
     "output_type": "display_data"
    }
   ],
   "source": [
    "fig = plt.figure(figsize=(6,6))\n",
    "hw=0.02\n",
    "plt.scatter(u.T[0]*1.5,u.T[1]*1.5,s=0.001)\n",
    "\n",
    "for k in [3,6]:\n",
    "    plt.arrow(0,0,uar[k][0],uar[k][2],lw=3,zorder=2,color=\"blue\",head_width=hw)   \n",
    "for k in [2,4]:\n",
    "    plt.arrow(0,0,uar[k][0],uar[k][2],lw=3,zorder=2,color=\"red\",head_width=hw)   \n",
    "for k in [1,8]:\n",
    "    plt.arrow(0,0,uar[k][0],uar[k][2],lw=3,zorder=2,color=\"black\",head_width=hw)   \n",
    "plt.xticks([])\n",
    "plt.yticks([])\n",
    "plt.axis(\"equal\")\n",
    "plt.title(\"Phase 1 Nb Modulation \\n XZ Plane\")\n",
    "plt.savefig(\"p1_nb_xz.pdf\",bbox_inches='tight')\n",
    "plt.show()\n"
   ]
  },
  {
   "cell_type": "code",
   "execution_count": null,
   "metadata": {},
   "outputs": [],
   "source": []
  },
  {
   "cell_type": "code",
   "execution_count": 151,
   "metadata": {},
   "outputs": [
    {
     "data": {
      "text/plain": [
       "array([[ 0.   , -0.072, -0.   ],\n",
       "       [-0.062,  0.036, -0.   ],\n",
       "       [ 0.102,  0.059, -0.   ],\n",
       "       [-0.074, -0.043, -0.   ],\n",
       "       [-0.102,  0.059, -0.   ],\n",
       "       [ 0.   , -0.118, -0.   ],\n",
       "       [ 0.074, -0.043, -0.   ],\n",
       "       [-0.   ,  0.086, -0.   ],\n",
       "       [ 0.062,  0.036, -0.   ],\n",
       "       [-0.036,  0.021, -0.23 ],\n",
       "       [ 0.   , -0.042, -0.23 ],\n",
       "       [-0.009, -0.005, -0.266],\n",
       "       [ 0.036,  0.021, -0.23 ],\n",
       "       [-0.009,  0.005, -0.164],\n",
       "       [-0.   , -0.01 , -0.164],\n",
       "       [-0.   ,  0.01 , -0.266],\n",
       "       [ 0.009,  0.005, -0.164],\n",
       "       [ 0.009, -0.005, -0.266],\n",
       "       [-0.036,  0.021,  0.23 ],\n",
       "       [ 0.   , -0.042,  0.23 ],\n",
       "       [-0.009, -0.005,  0.266],\n",
       "       [ 0.036,  0.021,  0.23 ],\n",
       "       [-0.009,  0.005,  0.164],\n",
       "       [-0.   , -0.01 ,  0.164],\n",
       "       [-0.   ,  0.01 ,  0.266],\n",
       "       [ 0.009,  0.005,  0.164],\n",
       "       [ 0.009, -0.005,  0.266]])"
      ]
     },
     "execution_count": 151,
     "metadata": {},
     "output_type": "execute_result"
    }
   ],
   "source": [
    "uar"
   ]
  },
  {
   "cell_type": "code",
   "execution_count": 253,
   "metadata": {},
   "outputs": [
    {
     "data": {
      "image/png": "[encoded data removed]",
      "text/plain": [
       "<Figure size 720x720 with 1 Axes>"
      ]
     },
     "metadata": {},
     "output_type": "display_data"
    }
   ],
   "source": [
    "fig = plt.figure(figsize=(10,10))\n",
    "hw=0.01\n",
    "\n",
    "for k in range(9,27):\n",
    "    plt.arrow(0,0,uar[k][0],uar[k][2],zorder=2,color=\"blue\",head_width=hw,lw=1)   \n",
    "    plt.scatter([0,uar[k][0]*1.1],[0,uar[k][2]*1.1],s=0.0001)   \n",
    "\n",
    "# for k in [2,4]:\n",
    "#     plt.arrow(0,0,uar[k][0],uar[k][2],lw=3,zorder=2,color=\"red\",head_width=hw)   \n",
    "# for k in [1,8]:\n",
    "#     plt.arrow(0,0,uar[k][0],uar[k][2],lw=3,zorder=2,color=\"black\",head_width=hw)   \n",
    "plt.xticks([])\n",
    "plt.yticks([])\n",
    "plt.axis(\"equal\")\n",
    "# plt.title(\"Phase 1 Nb Modulation \\n XZ Plane\")\n",
    "# plt.savefig(\"p1_nb_xz.pdf\",bbox_inches='tight')\n",
    "plt.show()\n"
   ]
  },
  {
   "cell_type": "code",
   "execution_count": 243,
   "metadata": {},
   "outputs": [
    {
     "data": {
      "text/plain": [
       "array([[ 0.   ,  0.   ,  0.   ],\n",
       "       [-3.489,  6.044,  0.   ],\n",
       "       [-1.745,  3.022,  0.   ],\n",
       "       [ 3.489, -0.   ,  0.   ],\n",
       "       [ 1.745,  3.022,  0.   ],\n",
       "       [ 0.   ,  6.044,  0.   ],\n",
       "       [ 6.979, -0.   ,  0.   ],\n",
       "       [ 5.234,  3.022,  0.   ],\n",
       "       [ 3.489,  6.044,  0.   ]])"
      ]
     },
     "execution_count": 243,
     "metadata": {},
     "output_type": "execute_result"
    }
   ],
   "source": [
    "nbar"
   ]
  },
  {
   "cell_type": "code",
   "execution_count": 226,
   "metadata": {},
   "outputs": [
    {
     "data": {
      "text/plain": [
       "array([[ 1.        -0.00000000e+00j,  1.        -0.00000000e+00j,\n",
       "         1.        -0.00000000e+00j],\n",
       "       [-0.49993037-8.66065601e-01j, -0.50013597-8.65946887e-01j,\n",
       "        -0.49993365-8.66063708e-01j],\n",
       "       [-0.50003925+8.66002743e-01j, -0.49992812+8.66066900e-01j,\n",
       "        -0.50003263+8.66006564e-01j],\n",
       "       [-0.50003649+8.66004333e-01j, -0.50003731+8.66003862e-01j,\n",
       "        -0.49992619+8.66068011e-01j],\n",
       "       [-0.49992317-8.66069759e-01j, -0.5000387 -8.66003057e-01j,\n",
       "        -0.50003813-8.66003391e-01j],\n",
       "       [ 0.99999999+1.22225111e-04j,  0.99999999-1.17826881e-04j,\n",
       "         1.        -4.39822971e-06j],\n",
       "       [-0.49992886-8.66066472e-01j, -0.49992772-8.66067132e-01j,\n",
       "        -0.50014341-8.65942590e-01j],\n",
       "       [ 0.99999999+1.30164433e-04j,  1.        -6.05152820e-07j,\n",
       "         0.99999999-1.29559281e-04j],\n",
       "       [-0.50014163+8.65943618e-01j, -0.4999326 +8.66064313e-01j,\n",
       "        -0.49992576+8.66068262e-01j]])"
      ]
     },
     "execution_count": 226,
     "metadata": {},
     "output_type": "execute_result"
    }
   ],
   "source": [
    "exp(-1j*dot(nbar[:9],qdif.T))"
   ]
  },
  {
   "cell_type": "code",
   "execution_count": 161,
   "metadata": {},
   "outputs": [
    {
     "name": "stdout",
     "output_type": "stream",
     "text": [
      "0.072\n",
      "0.07169379331573968\n",
      "0.11783462988442743\n",
      "0.08558621384311844\n",
      "0.11783462988442743\n",
      "0.118\n",
      "0.08558621384311844\n",
      "0.086\n",
      "0.07169379331573968\n"
     ]
    }
   ],
   "source": [
    "for i in uar[:9]:\n",
    "    print(norm(i))\n",
    "    "
   ]
  },
  {
   "cell_type": "code",
   "execution_count": 160,
   "metadata": {},
   "outputs": [],
   "source": [
    "uar = around(u,3)"
   ]
  },
  {
   "cell_type": "code",
   "execution_count": 156,
   "metadata": {},
   "outputs": [
    {
     "data": {
      "text/plain": [
       "array([[ 0.   , -0.072, -0.   ],\n",
       "       [-0.062,  0.036, -0.   ],\n",
       "       [ 0.102,  0.059, -0.   ],\n",
       "       [-0.074, -0.043, -0.   ],\n",
       "       [-0.102,  0.059, -0.   ],\n",
       "       [ 0.   , -0.118, -0.   ],\n",
       "       [ 0.074, -0.043, -0.   ],\n",
       "       [-0.   ,  0.086, -0.   ],\n",
       "       [ 0.062,  0.036, -0.   ],\n",
       "       [-0.036,  0.021, -0.23 ],\n",
       "       [ 0.   , -0.042, -0.23 ],\n",
       "       [-0.009, -0.005, -0.266],\n",
       "       [ 0.036,  0.021, -0.23 ],\n",
       "       [-0.009,  0.005, -0.164],\n",
       "       [-0.   , -0.01 , -0.164],\n",
       "       [-0.   ,  0.01 , -0.266],\n",
       "       [ 0.009,  0.005, -0.164],\n",
       "       [ 0.009, -0.005, -0.266],\n",
       "       [-0.036,  0.021,  0.23 ],\n",
       "       [ 0.   , -0.042,  0.23 ],\n",
       "       [-0.009, -0.005,  0.266],\n",
       "       [ 0.036,  0.021,  0.23 ],\n",
       "       [-0.009,  0.005,  0.164],\n",
       "       [-0.   , -0.01 ,  0.164],\n",
       "       [-0.   ,  0.01 ,  0.266],\n",
       "       [ 0.009,  0.005,  0.164],\n",
       "       [ 0.009, -0.005,  0.266]])"
      ]
     },
     "execution_count": 156,
     "metadata": {},
     "output_type": "execute_result"
    }
   ],
   "source": [
    "uar"
   ]
  },
  {
   "cell_type": "code",
   "execution_count": 198,
   "metadata": {},
   "outputs": [],
   "source": [
    "utilde = dot(exp(-1j*dot(n_atom,qvec.T)).T,uar)"
   ]
  },
  {
   "cell_type": "code",
   "execution_count": 199,
   "metadata": {},
   "outputs": [],
   "source": [
    "tildear = around(utilde,3)"
   ]
  },
  {
   "cell_type": "code",
   "execution_count": 200,
   "metadata": {},
   "outputs": [
    {
     "data": {
      "text/plain": [
       "array([[ 0.32528459-0.12658569j,  0.1873179 -0.07441105j,\n",
       "         0.        -0.j        ],\n",
       "       [ 0.        +0.j        ,  0.0589968 -0.39828555j,\n",
       "         0.        +0.j        ],\n",
       "       [-0.32528459+0.12658569j,  0.1873179 -0.07441105j,\n",
       "         0.        -0.j        ]])"
      ]
     },
     "execution_count": 200,
     "metadata": {},
     "output_type": "execute_result"
    }
   ],
   "source": [
    "tildear*exp(-1j*-77.47/180*pi)"
   ]
  },
  {
   "cell_type": "code",
   "execution_count": 201,
   "metadata": {},
   "outputs": [
    {
     "data": {
      "text/plain": [
       "array([[-0.053-0.345j, -0.032-0.199j, -0.   -0.j   ],\n",
       "       [ 0.   +0.j   , -0.376-0.144j,  0.   -0.j   ],\n",
       "       [ 0.053+0.345j, -0.032-0.199j, -0.   -0.j   ]])"
      ]
     },
     "execution_count": 201,
     "metadata": {},
     "output_type": "execute_result"
    }
   ],
   "source": [
    "tildear"
   ]
  },
  {
   "cell_type": "code",
   "execution_count": null,
   "metadata": {},
   "outputs": [],
   "source": []
  },
  {
   "cell_type": "code",
   "execution_count": null,
   "metadata": {},
   "outputs": [],
   "source": []
  },
  {
   "cell_type": "code",
   "execution_count": null,
   "metadata": {},
   "outputs": [],
   "source": []
  },
  {
   "cell_type": "code",
   "execution_count": 188,
   "metadata": {},
   "outputs": [
    {
     "data": {
      "text/plain": [
       "-77.47119229084849"
      ]
     },
     "execution_count": 188,
     "metadata": {},
     "output_type": "execute_result"
    }
   ],
   "source": [
    "arctan(-0.27/ 0.06)/pi*180"
   ]
  },
  {
   "cell_type": "code",
   "execution_count": 202,
   "metadata": {},
   "outputs": [
    {
     "name": "stdout",
     "output_type": "stream",
     "text": [
      "0.40306202996561213\n",
      "0.4026313450291718\n",
      "0.40306202996561213\n"
     ]
    }
   ],
   "source": [
    "for i in tildear:\n",
    "    print(norm(i))"
   ]
  },
  {
   "cell_type": "code",
   "execution_count": 203,
   "metadata": {},
   "outputs": [
    {
     "name": "stdout",
     "output_type": "stream",
     "text": [
      "0.06191122676865642\n",
      "0.376\n",
      "0.06191122676865642\n"
     ]
    }
   ],
   "source": [
    "for i in tildear:\n",
    "    print(norm(real(i)))"
   ]
  },
  {
   "cell_type": "code",
   "execution_count": 204,
   "metadata": {},
   "outputs": [
    {
     "name": "stdout",
     "output_type": "stream",
     "text": [
      "0.39827879682453593\n",
      "0.144\n",
      "0.39827879682453593\n"
     ]
    }
   ],
   "source": [
    "for i in tildear:\n",
    "    print(norm(imag(i)))"
   ]
  },
  {
   "cell_type": "markdown",
   "metadata": {},
   "source": [
    "# $|z|=|e^{i\\theta}z|$"
   ]
  },
  {
   "cell_type": "code",
   "execution_count": null,
   "metadata": {},
   "outputs": [],
   "source": []
  },
  {
   "cell_type": "code",
   "execution_count": 184,
   "metadata": {},
   "outputs": [
    {
     "name": "stdout",
     "output_type": "stream",
     "text": [
      "0.06923061821530412\n",
      "0.23701090554827273\n",
      "0.06921111745692153\n"
     ]
    }
   ],
   "source": [
    "for i in real(utilde):\n",
    "    print(norm(i))"
   ]
  },
  {
   "cell_type": "code",
   "execution_count": 185,
   "metadata": {},
   "outputs": [
    {
     "name": "stdout",
     "output_type": "stream",
     "text": [
      "0.3123779548377782\n",
      "0.2165037833642982\n",
      "0.31237806597183293\n"
     ]
    }
   ],
   "source": [
    "for i in imag(utilde):\n",
    "    print(norm(i))"
   ]
  },
  {
   "cell_type": "code",
   "execution_count": 186,
   "metadata": {},
   "outputs": [
    {
     "name": "stdout",
     "output_type": "stream",
     "text": [
      "-77.5841402698683\n",
      "42.41095107903375\n",
      "-77.58765892306107\n"
     ]
    }
   ],
   "source": [
    "for i in utilde:\n",
    "    print(arctan(imag(i)[1]/real(i)[1])/pi*180)"
   ]
  },
  {
   "cell_type": "code",
   "execution_count": null,
   "metadata": {},
   "outputs": [],
   "source": []
  },
  {
   "cell_type": "code",
   "execution_count": null,
   "metadata": {},
   "outputs": [],
   "source": []
  },
  {
   "cell_type": "code",
   "execution_count": 205,
   "metadata": {},
   "outputs": [
    {
     "data": {
      "image/png": "[encoded data removed]",
      "text/plain": [
       "<Figure size 1008x720 with 1 Axes>"
      ]
     },
     "metadata": {},
     "output_type": "display_data"
    }
   ],
   "source": [
    "fig = plt.figure(figsize=(14,10))\n",
    "# for i in qvec:\n",
    "# #     print(linalg.norm(utilde[i]))\n",
    "#     plt.arrow(0,0,i[0],i[1],head_width=0.03,color=\"blue\")\n",
    "#     plt.scatter(i[0]*13/10,i[1]*13/10,s=0.0001)\n",
    "    \n",
    "colors=[\"red\",\"black\",\"green\"]\n",
    "    \n",
    "for i in range(3):\n",
    "    plt.arrow(0,0,real(tildear)[i][0],real(tildear)[i][1],head_width=0.03,color=colors[i],ls=\"-\",lw=3)\n",
    "    plt.arrow(0,0,imag(tildear)[i][0],imag(tildear)[i][1],head_width=0.03,color=colors[i],ls=\"--\",lw=3)\n",
    "    plt.scatter(real(tildear)[i][0]*15/10,real(tildear)[i][1]*15/10,s=0.0001)\n",
    "    plt.scatter(imag(tildear)[i][0]*15/10,imag(tildear)[i][1]*15/10,s=0.0001)\n",
    "    plt.plot(0,c=colors[i],label=r\"$U_{}$\".format(i+1))\n",
    "    \n",
    "# for i in real(utilde):\n",
    "# #     print(linalg.norm(utilde[i]))\n",
    "#     plt.arrow(0,0,i[0],i[1],head_width=0.03,color=\"black\")\n",
    "#     plt.scatter(i[0]*15/10,i[1]*15/10,s=0.0001)\n",
    "    \n",
    "# for i in imag(utilde):\n",
    "# #     print(linalg.norm(utilde[i]))\n",
    "#     plt.arrow(0,0,i[0],i[1],head_width=0.03,color=\"red\")\n",
    "#     plt.scatter(i[0]*15/10,i[1]*15/10,s=0.0001)\n",
    "\n",
    "\n",
    "# plt.plot(0,c=\"black\",label=\"Re(CDW)\")\n",
    "# plt.plot(0,c=\"red\",label=\"Im(CDW)\")\n",
    "# plt.plot(0,c=\"blue\",label=\"Q-vec\")\n",
    "plt.xticks([])\n",
    "plt.yticks([])\n",
    "plt.legend()\n",
    "plt.axis(\"equal\")    \n",
    "plt.show()"
   ]
  },
  {
   "cell_type": "code",
   "execution_count": null,
   "metadata": {},
   "outputs": [],
   "source": []
  },
  {
   "cell_type": "code",
   "execution_count": null,
   "metadata": {},
   "outputs": [],
   "source": []
  },
  {
   "cell_type": "code",
   "execution_count": 194,
   "metadata": {},
   "outputs": [
    {
     "data": {
      "image/png": "[encoded data removed]",
      "text/plain": [
       "<Figure size 1008x720 with 1 Axes>"
      ]
     },
     "metadata": {},
     "output_type": "display_data"
    }
   ],
   "source": [
    "fig = plt.figure(figsize=(14,10))\n",
    "# for i in qvec:\n",
    "# #     print(linalg.norm(utilde[i]))\n",
    "#     plt.arrow(0,0,i[0],i[1],head_width=0.03,color=\"blue\")\n",
    "#     plt.scatter(i[0]*13/10,i[1]*13/10,s=0.0001)\n",
    "    \n",
    "colors=[\"red\",\"black\",\"green\"]\n",
    "    \n",
    "for i in range(3):\n",
    "    plt.arrow(0,0,real(tildear*exp(-1j*-77.47/180*pi))[i][0],real(tildear*exp(-1j*-77.47/180*pi))[i][1],head_width=0.03,color=colors[i],ls=\"-\",lw=1)\n",
    "    plt.arrow(0,0,imag(tildear*exp(-1j*-77.47/180*pi))[i][0],imag(tildear*exp(-1j*-77.47/180*pi))[i][1],head_width=0.03,color=colors[i],ls=\"--\",lw=1)\n",
    "    plt.scatter(real(tildear*exp(-1j*-77.47/180*pi))[i][0]*15/10,real(tildear*exp(-1j*-77.47/180*pi))[i][1]*15/10,s=0.0001)\n",
    "    plt.scatter(imag(tildear*exp(-1j*-77.47/180*pi))[i][0]*15/10,imag(tildear*exp(-1j*-77.47/180*pi))[i][1]*15/10,s=0.0001)\n",
    "    plt.plot(0,c=colors[i],label=r\"$U_{}$\".format(i+1))\n",
    "    \n",
    "# for i in real(utilde):\n",
    "# #     print(linalg.norm(utilde[i]))\n",
    "#     plt.arrow(0,0,i[0],i[1],head_width=0.03,color=\"black\")\n",
    "#     plt.scatter(i[0]*15/10,i[1]*15/10,s=0.0001)\n",
    "    \n",
    "# for i in imag(utilde):\n",
    "# #     print(linalg.norm(utilde[i]))\n",
    "#     plt.arrow(0,0,i[0],i[1],head_width=0.03,color=\"red\")\n",
    "#     plt.scatter(i[0]*15/10,i[1]*15/10,s=0.0001)\n",
    "\n",
    "\n",
    "# plt.plot(0,c=\"black\",label=\"Re(CDW)\")\n",
    "# plt.plot(0,c=\"red\",label=\"Im(CDW)\")\n",
    "# plt.plot(0,c=\"blue\",label=\"Q-vec\")\n",
    "plt.xticks([])\n",
    "plt.yticks([])\n",
    "plt.legend()\n",
    "plt.axis(\"equal\")    \n",
    "plt.show()"
   ]
  },
  {
   "cell_type": "code",
   "execution_count": null,
   "metadata": {},
   "outputs": [],
   "source": []
  },
  {
   "cell_type": "code",
   "execution_count": 196,
   "metadata": {},
   "outputs": [
    {
     "data": {
      "text/plain": [
       "array([[ 0. , -0.1, -0. ],\n",
       "       [-0.1,  0. , -0. ],\n",
       "       [ 0.1,  0.1, -0. ],\n",
       "       [-0.1, -0. , -0. ],\n",
       "       [-0.1,  0.1, -0. ],\n",
       "       [ 0. , -0.1, -0. ],\n",
       "       [ 0.1, -0. , -0. ],\n",
       "       [-0. ,  0.1, -0. ],\n",
       "       [ 0.1,  0. , -0. ],\n",
       "       [-0. ,  0. , -0.2],\n",
       "       [ 0. , -0. , -0.2],\n",
       "       [-0. , -0. , -0.3],\n",
       "       [ 0. ,  0. , -0.2],\n",
       "       [-0. ,  0. , -0.2],\n",
       "       [-0. , -0. , -0.2],\n",
       "       [-0. ,  0. , -0.3],\n",
       "       [ 0. ,  0. , -0.2],\n",
       "       [ 0. , -0. , -0.3],\n",
       "       [-0. ,  0. ,  0.2],\n",
       "       [ 0. , -0. ,  0.2],\n",
       "       [-0. , -0. ,  0.3],\n",
       "       [ 0. ,  0. ,  0.2],\n",
       "       [-0. ,  0. ,  0.2],\n",
       "       [-0. , -0. ,  0.2],\n",
       "       [-0. ,  0. ,  0.3],\n",
       "       [ 0. ,  0. ,  0.2],\n",
       "       [ 0. , -0. ,  0.3]])"
      ]
     },
     "execution_count": 196,
     "metadata": {},
     "output_type": "execute_result"
    }
   ],
   "source": [
    "around(uar,1)"
   ]
  },
  {
   "cell_type": "code",
   "execution_count": null,
   "metadata": {},
   "outputs": [],
   "source": []
  },
  {
   "cell_type": "code",
   "execution_count": null,
   "metadata": {},
   "outputs": [],
   "source": []
  },
  {
   "cell_type": "code",
   "execution_count": 195,
   "metadata": {},
   "outputs": [
    {
     "data": {
      "text/plain": [
       "array([-1.38777878e-17,  6.93889390e-18,  0.00000000e+00])"
      ]
     },
     "execution_count": 195,
     "metadata": {},
     "output_type": "execute_result"
    }
   ],
   "source": [
    "sum(uar[0:9],axis=0)"
   ]
  },
  {
   "cell_type": "code",
   "execution_count": null,
   "metadata": {},
   "outputs": [],
   "source": []
  },
  {
   "cell_type": "code",
   "execution_count": null,
   "metadata": {},
   "outputs": [],
   "source": []
  },
  {
   "cell_type": "code",
   "execution_count": 193,
   "metadata": {},
   "outputs": [
    {
     "name": "stdout",
     "output_type": "stream",
     "text": [
      "0.07188872013994627\n",
      "0.07192897042243218\n",
      "0.11767958265435485\n",
      "0.08588072413789888\n",
      "0.11761876661454089\n",
      "0.11785697753967174\n",
      "0.08576369472835932\n",
      "0.08596566061516923\n",
      "0.07198569542294105\n",
      "0.2340596924227591\n",
      "0.23407794473315438\n",
      "0.26598341445334983\n",
      "0.23407456518420264\n",
      "0.1639470876632003\n",
      "0.1639237597292755\n",
      "0.26598339497807794\n",
      "0.16394395024356523\n",
      "0.2659808101529914\n",
      "0.23405866899708835\n",
      "0.23407712605718636\n",
      "0.26598258285527077\n",
      "0.23407374651268753\n",
      "0.16394604936540982\n",
      "0.16392292898339353\n",
      "0.26598256338124165\n",
      "0.16394311958626684\n",
      "0.2659799785487227\n"
     ]
    }
   ],
   "source": [
    "for i in u:\n",
    "    print(norm(i))"
   ]
  },
  {
   "cell_type": "code",
   "execution_count": null,
   "metadata": {},
   "outputs": [],
   "source": []
  },
  {
   "cell_type": "code",
   "execution_count": 118,
   "metadata": {},
   "outputs": [],
   "source": [
    "utilde = dot(exp(-1j*dot(nbar,qvec.T)).T,uar[:9])"
   ]
  },
  {
   "cell_type": "code",
   "execution_count": 119,
   "metadata": {},
   "outputs": [
    {
     "data": {
      "text/plain": [
       "array([[0.00359271, 0.00329881, 0.        ],\n",
       "       [0.00264811, 0.00327928, 0.        ],\n",
       "       [0.00251961, 0.00213079, 0.        ]])"
      ]
     },
     "execution_count": 119,
     "metadata": {},
     "output_type": "execute_result"
    }
   ],
   "source": [
    "abs(utilde)"
   ]
  },
  {
   "cell_type": "code",
   "execution_count": 120,
   "metadata": {},
   "outputs": [
    {
     "data": {
      "text/plain": [
       "array([[-0.60022787, -0.34654172,  0.        ],\n",
       "       [ 0.        ,  0.69308344,  0.        ],\n",
       "       [ 0.60022787, -0.34654172,  0.        ]])"
      ]
     },
     "execution_count": 120,
     "metadata": {},
     "output_type": "execute_result"
    }
   ],
   "source": [
    "qvec"
   ]
  },
  {
   "cell_type": "code",
   "execution_count": null,
   "metadata": {},
   "outputs": [],
   "source": []
  }
 ],
 "metadata": {
  "kernelspec": {
   "display_name": "Python 3",
   "language": "python",
   "name": "python3"
  },
  "language_info": {
   "codemirror_mode": {
    "name": "ipython",
    "version": 3
   },
   "file_extension": ".py",
   "mimetype": "text/x-python",
   "name": "python",
   "nbconvert_exporter": "python",
   "pygments_lexer": "ipython3",
   "version": "3.8.3"
  }
 },
 "nbformat": 4,
 "nbformat_minor": 4
}
