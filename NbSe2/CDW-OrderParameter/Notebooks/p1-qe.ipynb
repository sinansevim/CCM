{
 "cells": [
  {
   "cell_type": "code",
   "execution_count": 1,
   "metadata": {},
   "outputs": [],
   "source": [
    "import matplotlib.pyplot as plt\n",
    "from numpy import *\n",
    "from numpy.linalg import *\n",
    "from mpl_toolkits.mplot3d import Axes3D\n",
    "%matplotlib inline"
   ]
  },
  {
   "cell_type": "code",
   "execution_count": 2,
   "metadata": {},
   "outputs": [],
   "source": [
    "svec = loadtxt(\"../Data/3x3-qe/n.cell\")\n",
    "rvec = svec/3\n",
    "b = 4*pi/(linalg.norm(rvec[0])*sqrt(3))\n",
    "qvec = b*array([[-sqrt(3)/2,-1/2,0],[0,1,0],[sqrt(3)/2,-1/2,0]])/3\n",
    "qdif = array([[qvec[0]-qvec[1],qvec[1]-qvec[2],qvec[2]-qvec[0]]])\n",
    "qdif= qdif[0]\n",
    "qunit = qvec/abs(linalg.norm(qvec[0]))"
   ]
  },
  {
   "cell_type": "code",
   "execution_count": 28,
   "metadata": {},
   "outputs": [],
   "source": [
    "n_data = loadtxt(\"../Data/3x3-qe/n.pos\")\n",
    "m_data = loadtxt(\"../Data/3x3-qe/p1.pos\")\n",
    "# p2_data = loadtxt(\"../Data/3x3-qe/p2.pos\")\n",
    "\n",
    "\n",
    "n_atom = dot(n_data,svec)\n",
    "n_atom = n_atom-n_atom[0]\n",
    "m_atom = dot(m_data,svec)\n",
    "m_atom -=m_atom[0]-n_atom[0]\n",
    "m_atom += average(n_atom[:9]-m_atom[:9],axis=0)\n",
    "u = around(m_atom - n_atom,8)"
   ]
  },
  {
   "cell_type": "code",
   "execution_count": null,
   "metadata": {},
   "outputs": [],
   "source": []
  },
  {
   "cell_type": "code",
   "execution_count": 30,
   "metadata": {},
   "outputs": [
    {
     "data": {
      "text/plain": [
       "array([[ 0.02490163, -0.00475035,  0.        ],\n",
       "       [ 0.05689205, -0.0424033 ,  0.        ],\n",
       "       [ 0.00828843,  0.04178065,  0.        ],\n",
       "       [-0.00834036, -0.00475934,  0.        ],\n",
       "       [ 0.00827285, -0.03353426,  0.        ],\n",
       "       [ 0.0580138 ,  0.01437297,  0.        ],\n",
       "       [-0.06625548,  0.05732396,  0.        ],\n",
       "       [-0.0403152 , -0.0424033 ,  0.        ],\n",
       "       [-0.04145771,  0.01437297,  0.        ],\n",
       "       [ 0.01890343, -0.02048255, -0.01113266],\n",
       "       [ 0.0105371 , -0.01304371,  0.04253588],\n",
       "       [ 0.00828323, -0.00208783, -0.01113266],\n",
       "       [-0.00233177, -0.02047356, -0.01112151],\n",
       "       [ 0.00828323, -0.03112361,  0.00392262],\n",
       "       [-0.00624748, -0.00595567,  0.00392262],\n",
       "       [ 0.00829362, -0.01694753,  0.04254703],\n",
       "       [ 0.00603975, -0.01304371,  0.04254703],\n",
       "       [ 0.02281395, -0.00595567,  0.00392262],\n",
       "       [ 0.01890343, -0.02048255,  0.01112151],\n",
       "       [ 0.0105371 , -0.01304371, -0.04254703],\n",
       "       [ 0.00828323, -0.00208783,  0.01112151],\n",
       "       [-0.00233177, -0.02047356,  0.01111037],\n",
       "       [ 0.00828323, -0.03112361, -0.00393376],\n",
       "       [-0.00624748, -0.00595567, -0.00393376],\n",
       "       [ 0.00829362, -0.01694753, -0.04255817],\n",
       "       [ 0.00603975, -0.01304371, -0.04255817],\n",
       "       [ 0.02281395, -0.00595567, -0.00393376]])"
      ]
     },
     "execution_count": 30,
     "metadata": {},
     "output_type": "execute_result"
    }
   ],
   "source": [
    "u"
   ]
  },
  {
   "cell_type": "code",
   "execution_count": null,
   "metadata": {},
   "outputs": [],
   "source": []
  },
  {
   "cell_type": "code",
   "execution_count": 29,
   "metadata": {},
   "outputs": [
    {
     "data": {
      "text/plain": [
       "array([ 0.0000000e+00, -1.4648776e-16,  0.0000000e+00])"
      ]
     },
     "execution_count": 29,
     "metadata": {},
     "output_type": "execute_result"
    }
   ],
   "source": [
    " average(n_atom[:9]-m_atom[:9],axis=0)"
   ]
  },
  {
   "cell_type": "code",
   "execution_count": 22,
   "metadata": {},
   "outputs": [
    {
     "data": {
      "text/plain": [
       "array([[ 0.02490163, -0.00475035,  0.        ],\n",
       "       [ 0.05689205, -0.0424033 ,  0.        ],\n",
       "       [ 0.00828843,  0.04178065,  0.        ],\n",
       "       [-0.00834036, -0.00475934,  0.        ],\n",
       "       [ 0.00827285, -0.03353426,  0.        ],\n",
       "       [ 0.0580138 ,  0.01437297,  0.        ],\n",
       "       [-0.06625548,  0.05732396,  0.        ],\n",
       "       [-0.0403152 , -0.0424033 ,  0.        ],\n",
       "       [-0.04145771,  0.01437297,  0.        ],\n",
       "       [ 0.01890343, -0.02048255, -0.01113266],\n",
       "       [ 0.0105371 , -0.01304371,  0.04253588],\n",
       "       [ 0.00828323, -0.00208783, -0.01113266],\n",
       "       [-0.00233177, -0.02047356, -0.01112151],\n",
       "       [ 0.00828323, -0.03112361,  0.00392262],\n",
       "       [-0.00624748, -0.00595567,  0.00392262],\n",
       "       [ 0.00829362, -0.01694753,  0.04254703],\n",
       "       [ 0.00603975, -0.01304371,  0.04254703],\n",
       "       [ 0.02281395, -0.00595567,  0.00392262],\n",
       "       [ 0.01890343, -0.02048255,  0.01112151],\n",
       "       [ 0.0105371 , -0.01304371, -0.04254703],\n",
       "       [ 0.00828323, -0.00208783,  0.01112151],\n",
       "       [-0.00233177, -0.02047356,  0.01111037],\n",
       "       [ 0.00828323, -0.03112361, -0.00393376],\n",
       "       [-0.00624748, -0.00595567, -0.00393376],\n",
       "       [ 0.00829362, -0.01694753, -0.04255817],\n",
       "       [ 0.00603975, -0.01304371, -0.04255817],\n",
       "       [ 0.02281395, -0.00595567, -0.00393376]])"
      ]
     },
     "execution_count": 22,
     "metadata": {},
     "output_type": "execute_result"
    }
   ],
   "source": [
    "u"
   ]
  },
  {
   "cell_type": "code",
   "execution_count": 13,
   "metadata": {},
   "outputs": [
    {
     "data": {
      "text/plain": [
       "array([4.30001100e-03, 2.48261255e-03, 5.57190000e+00])"
      ]
     },
     "execution_count": 13,
     "metadata": {},
     "output_type": "execute_result"
    }
   ],
   "source": [
    "m_atom[0]-n_atom[0]"
   ]
  },
  {
   "cell_type": "code",
   "execution_count": 10,
   "metadata": {},
   "outputs": [
    {
     "data": {
      "text/plain": [
       "<matplotlib.collections.PathCollection at 0x7f6b84287970>"
      ]
     },
     "execution_count": 10,
     "metadata": {},
     "output_type": "execute_result"
    },
    {
     "data": {
      "image/png": "[encoded data removed]",
      "text/plain": [
       "<Figure size 432x288 with 1 Axes>"
      ]
     },
     "metadata": {
      "needs_background": "light"
     },
     "output_type": "display_data"
    }
   ],
   "source": [
    "plt.scatter(n_atom.T[0],n_atom.T[1])\n",
    "plt.scatter(m_atom.T[0],m_atom.T[1])"
   ]
  },
  {
   "cell_type": "code",
   "execution_count": 5,
   "metadata": {},
   "outputs": [],
   "source": [
    "def plot_lattice():\n",
    "    fig = plt.figure(figsize=(10,10))\n",
    "    s1, s2 = 200,300\n",
    "    hw=0.2\n",
    "    cell_color=\"black\"\n",
    "    cell_lw=4\n",
    "    cell_zorder=0\n",
    "    plt.scatter(0,0,c=\"blue\",s=s2,label=\"Nb\")\n",
    "    plt.scatter(0,0,c=\"green\",s=s1,label=\"Se\")    \n",
    "    period = arange(-2,3,1)\n",
    "    for i in period:\n",
    "        for j in period:\n",
    "            plt.plot([0,svec[0][0]],[0,svec[0][1]],c=cell_color,lw=cell_lw,zorder=cell_zorder)\n",
    "            plt.plot([0,svec[1][0]],[0,svec[1][1]],c=cell_color,lw=cell_lw,zorder=cell_zorder)\n",
    "            plt.plot([svec[0][0],svec[0][0]+svec[1][0]],[svec[0][1],svec[0][1]+svec[1][1]],c=cell_color,lw=cell_lw,zorder=cell_zorder)\n",
    "            plt.plot([svec[1][0],svec[1][0]+svec[0][0]],[svec[1][1],svec[1][1]+svec[0][1]],c=cell_color,lw=cell_lw,zorder=cell_zorder)\n",
    "            plt.plot([0,svec[0][0]],[0,svec[0][1]],c=cell_color,lw=cell_lw,zorder=cell_zorder)\n",
    "            plt.plot([0,svec[1][0]],[0,-svec[1][1]],c=cell_color,lw=cell_lw,zorder=cell_zorder)\n",
    "            plt.plot([svec[0][0],svec[0][0]+svec[1][0]],[svec[0][1],svec[0][1]-svec[1][1]],c=cell_color,lw=cell_lw,zorder=cell_zorder)\n",
    "            plt.plot([svec[1][0],svec[1][0]+svec[0][0]],[-svec[1][1],-svec[1][1]+svec[0][1]],c=cell_color,lw=cell_lw,zorder=cell_zorder)\n",
    "            plt.plot([svec[1][0],-svec[0][0]],[svec[1][1],-svec[0][1]],c=cell_color,lw=cell_lw,zorder=cell_zorder)\n",
    "            plt.plot([-svec[0][0],svec[1][0]],[svec[0][1],-svec[1][1]],c=cell_color,lw=cell_lw,zorder=cell_zorder)\n",
    "            \n",
    "            \n",
    "            plt.scatter(n_atom[:9].T[0]+(i*svec[0][0]+j*svec[1][0]),n_atom[:9].T[1]+(i*svec[0][1]+j*svec[1][1]),c=\"blue\",s=s2,zorder=2)\n",
    "            plt.scatter(n_atom[18:].T[0]+(i*svec[0][0]+j*svec[1][0]),n_atom[18:].T[1]+(i*svec[0][1]+j*svec[1][1]),c=\"green\",s=s1,zorder=2)\n",
    "            \n",
    "#             for k in [0,1,8]:\n",
    "#                 plt.arrow(n_atom[k][0]+(i*svec[0][0]+j*svec[1][0]),n_atom[k][1]+(i*svec[0][1]+j*svec[1][1]),(u[:,0][k])*10,(u[:,1][k])*10,lw=3,zorder=2,color=\"black\",head_width=hw)   \n",
    "#             for k in [3,6,7]:\n",
    "#                 plt.arrow(n_atom[k][0]+(i*svec[0][0]+j*svec[1][0]),n_atom[k][1]+(i*svec[0][1]+j*svec[1][1]),(u[:,0][k])*10,(u[:,1][k])*10,lw=3,zorder=2,color=\"black\",head_width=hw)   \n",
    "#             for k in [2,4,5]:\n",
    "#                 plt.arrow(n_atom[k][0]+(i*svec[0][0]+j*svec[1][0]),n_atom[k][1]+(i*svec[0][1]+j*svec[1][1]),(u[:,0][k])*10,(u[:,1][k])*10,lw=3,zorder=2,color=\"black\",head_width=hw)   \n",
    "#             for k in [9,10,12]:\n",
    "#                 plt.arrow(n_atom[k][0]+(i*svec[0][0]+j*svec[1][0]),n_atom[k][1]+(i*svec[0][1]+j*svec[1][1]),(u[:,0][k])*10,(u[:,1][k])*10,lw=3,zorder=2,color=\"blue\",head_width=hw)   \n",
    "#             for k in [11,15,17]:\n",
    "#                 plt.arrow(n_atom[k][0]+(i*svec[0][0]+j*svec[1][0]),n_atom[k][1]+(i*svec[0][1]+j*svec[1][1]),(u[:,0][k])*10,(u[:,1][k])*10,lw=3,zorder=2,color=\"red\",head_width=hw)   \n",
    "#             for k in [13,14,16]:\n",
    "#                 plt.arrow(n_atom[k][0]+(i*svec[0][0]+j*svec[1][0]),n_atom[k][1]+(i*svec[0][1]+j*svec[1][1]),(u[:,0][k])*10,(u[:,1][k])*10,lw=3,zorder=2,color=\"orange\",head_width=hw)   \n",
    "\n",
    "    plt.xlim(-12,12)\n",
    "    plt.ylim(-12,12)\n",
    "    plt.xticks([])\n",
    "    plt.yticks([])\n",
    "#     plt.axis(\"equal\")\n",
    "    plt.title(\"Upper Se Plane\")\n",
    "    plt.legend(loc='upper right', borderpad=1,markerscale=1,labelspacing=1,fontsize=12)\n",
    "#     plt.savefig(\"../Plot/3x3_p1_upper_se.png\",bbox_inches='tight')\n",
    "    # plt.axis(\"equal\")\n",
    "#     plt.show()"
   ]
  },
  {
   "cell_type": "code",
   "execution_count": 6,
   "metadata": {},
   "outputs": [
    {
     "data": {
      "image/png": "[encoded data removed]",
      "text/plain": [
       "<Figure size 720x720 with 1 Axes>"
      ]
     },
     "metadata": {},
     "output_type": "display_data"
    }
   ],
   "source": [
    "plot_lattice()"
   ]
  },
  {
   "cell_type": "code",
   "execution_count": null,
   "metadata": {},
   "outputs": [],
   "source": []
  },
  {
   "cell_type": "code",
   "execution_count": 23,
   "metadata": {},
   "outputs": [
    {
     "data": {
      "text/plain": [
       "array([[ 0.02490163, -0.00475035,  0.        ],\n",
       "       [ 0.05689205, -0.0424033 ,  0.        ],\n",
       "       [ 0.00828843,  0.04178065,  0.        ],\n",
       "       [-0.00834036, -0.00475934,  0.        ],\n",
       "       [ 0.00827285, -0.03353426,  0.        ],\n",
       "       [ 0.0580138 ,  0.01437297,  0.        ],\n",
       "       [-0.06625548,  0.05732396,  0.        ],\n",
       "       [-0.0403152 , -0.0424033 ,  0.        ],\n",
       "       [-0.04145771,  0.01437297,  0.        ],\n",
       "       [ 0.01890343, -0.02048255, -0.01113266],\n",
       "       [ 0.0105371 , -0.01304371,  0.04253588],\n",
       "       [ 0.00828323, -0.00208783, -0.01113266],\n",
       "       [-0.00233177, -0.02047356, -0.01112151],\n",
       "       [ 0.00828323, -0.03112361,  0.00392262],\n",
       "       [-0.00624748, -0.00595567,  0.00392262],\n",
       "       [ 0.00829362, -0.01694753,  0.04254703],\n",
       "       [ 0.00603975, -0.01304371,  0.04254703],\n",
       "       [ 0.02281395, -0.00595567,  0.00392262],\n",
       "       [ 0.01890343, -0.02048255,  0.01112151],\n",
       "       [ 0.0105371 , -0.01304371, -0.04254703],\n",
       "       [ 0.00828323, -0.00208783,  0.01112151],\n",
       "       [-0.00233177, -0.02047356,  0.01111037],\n",
       "       [ 0.00828323, -0.03112361, -0.00393376],\n",
       "       [-0.00624748, -0.00595567, -0.00393376],\n",
       "       [ 0.00829362, -0.01694753, -0.04255817],\n",
       "       [ 0.00603975, -0.01304371, -0.04255817],\n",
       "       [ 0.02281395, -0.00595567, -0.00393376]])"
      ]
     },
     "execution_count": 23,
     "metadata": {},
     "output_type": "execute_result"
    }
   ],
   "source": [
    "u"
   ]
  },
  {
   "cell_type": "code",
   "execution_count": 24,
   "metadata": {},
   "outputs": [
    {
     "data": {
      "text/plain": [
       "array([9.99999999e-09, 1.73472348e-18, 0.00000000e+00])"
      ]
     },
     "execution_count": 24,
     "metadata": {},
     "output_type": "execute_result"
    }
   ],
   "source": [
    "sum(u[:9],axis=0)"
   ]
  },
  {
   "cell_type": "code",
   "execution_count": 25,
   "metadata": {},
   "outputs": [
    {
     "name": "stdout",
     "output_type": "stream",
     "text": [
      "0.025350680499335716\n",
      "0.07095593846953545\n",
      "0.04259484459752612\n",
      "0.009602755967179421\n",
      "0.03453963869049733\n",
      "0.05976774428620257\n",
      "0.08761178585163072\n",
      "0.05850944540781428\n",
      "0.04387851393409991\n"
     ]
    }
   ],
   "source": [
    "for i in u[:9]:\n",
    "    print(norm(i))"
   ]
  },
  {
   "cell_type": "code",
   "execution_count": null,
   "metadata": {},
   "outputs": [],
   "source": []
  }
 ],
 "metadata": {
  "kernelspec": {
   "display_name": "Python 3",
   "language": "python",
   "name": "python3"
  },
  "language_info": {
   "codemirror_mode": {
    "name": "ipython",
    "version": 3
   },
   "file_extension": ".py",
   "mimetype": "text/x-python",
   "name": "python",
   "nbconvert_exporter": "python",
   "pygments_lexer": "ipython3",
   "version": "3.8.3"
  }
 },
 "nbformat": 4,
 "nbformat_minor": 4
}
