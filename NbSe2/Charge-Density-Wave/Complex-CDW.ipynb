{
 "cells": [
  {
   "cell_type": "code",
   "execution_count": 1,
   "metadata": {},
   "outputs": [],
   "source": [
    "#Import the libraries\n",
    "import pandas as pd\n",
    "from tqdm import tqdm\n",
    "import numpy as np\n",
    "from ipywidgets import interactive\n",
    "import time\n",
    "from numpy import *\n",
    "from joblib import Parallel, delayed\n",
    "import matplotlib.pyplot as plt\n",
    "from matplotlib import rc\n",
    "%matplotlib inline\n",
    "# %matplotlib notebook\n",
    "from scipy.optimize import minimize"
   ]
  },
  {
   "cell_type": "code",
   "execution_count": 2,
   "metadata": {},
   "outputs": [],
   "source": [
    "#Plt rc congif for latex\n",
    "plt.rc('text', usetex=True)\n",
    "plt.rc('text.latex', preamble=r'\\usepackage{amsmath,latexsym}')"
   ]
  },
  {
   "cell_type": "code",
   "execution_count": null,
   "metadata": {},
   "outputs": [],
   "source": []
  },
  {
   "cell_type": "code",
   "execution_count": null,
   "metadata": {},
   "outputs": [],
   "source": []
  },
  {
   "cell_type": "code",
   "execution_count": null,
   "metadata": {},
   "outputs": [],
   "source": []
  },
  {
   "cell_type": "code",
   "execution_count": 3,
   "metadata": {},
   "outputs": [
    {
     "ename": "FileNotFoundError",
     "evalue": "[Errno 2] No such file or directory: '../nbse2.dat'",
     "output_type": "error",
     "traceback": [
      "\u001b[0;31m---------------------------------------------------------------------------\u001b[0m",
      "\u001b[0;31mFileNotFoundError\u001b[0m                         Traceback (most recent call last)",
      "\u001b[0;32m<ipython-input-3-261bc663d4c7>\u001b[0m in \u001b[0;36m<module>\u001b[0;34m\u001b[0m\n\u001b[1;32m      1\u001b[0m \u001b[0;31m#Import the raw data\u001b[0m\u001b[0;34m\u001b[0m\u001b[0;34m\u001b[0m\u001b[0;34m\u001b[0m\u001b[0m\n\u001b[0;32m----> 2\u001b[0;31m \u001b[0mraw_data\u001b[0m \u001b[0;34m=\u001b[0m \u001b[0mnp\u001b[0m\u001b[0;34m.\u001b[0m\u001b[0mloadtxt\u001b[0m\u001b[0;34m(\u001b[0m\u001b[0;34m'../nbse2.dat'\u001b[0m\u001b[0;34m)\u001b[0m\u001b[0;34m\u001b[0m\u001b[0;34m\u001b[0m\u001b[0m\n\u001b[0m\u001b[1;32m      3\u001b[0m \u001b[0mx\u001b[0m \u001b[0;34m=\u001b[0m \u001b[0mraw_data\u001b[0m\u001b[0;34m.\u001b[0m\u001b[0mT\u001b[0m\u001b[0;34m[\u001b[0m\u001b[0;36m0\u001b[0m\u001b[0;34m]\u001b[0m\u001b[0;34m\u001b[0m\u001b[0;34m\u001b[0m\u001b[0m\n\u001b[1;32m      4\u001b[0m \u001b[0my\u001b[0m \u001b[0;34m=\u001b[0m \u001b[0mraw_data\u001b[0m\u001b[0;34m.\u001b[0m\u001b[0mT\u001b[0m\u001b[0;34m[\u001b[0m\u001b[0;36m1\u001b[0m\u001b[0;34m]\u001b[0m\u001b[0;34m\u001b[0m\u001b[0;34m\u001b[0m\u001b[0m\n\u001b[1;32m      5\u001b[0m \u001b[0mk\u001b[0m \u001b[0;34m=\u001b[0m \u001b[0mraw_data\u001b[0m\u001b[0;34m.\u001b[0m\u001b[0mT\u001b[0m\u001b[0;34m[\u001b[0m\u001b[0;36m7\u001b[0m\u001b[0;34m]\u001b[0m\u001b[0;34m\u001b[0m\u001b[0;34m\u001b[0m\u001b[0m\n",
      "\u001b[0;32m~/anaconda3/lib/python3.8/site-packages/numpy/lib/npyio.py\u001b[0m in \u001b[0;36mloadtxt\u001b[0;34m(fname, dtype, comments, delimiter, converters, skiprows, usecols, unpack, ndmin, encoding, max_rows)\u001b[0m\n\u001b[1;32m    979\u001b[0m             \u001b[0mfname\u001b[0m \u001b[0;34m=\u001b[0m \u001b[0mos_fspath\u001b[0m\u001b[0;34m(\u001b[0m\u001b[0mfname\u001b[0m\u001b[0;34m)\u001b[0m\u001b[0;34m\u001b[0m\u001b[0;34m\u001b[0m\u001b[0m\n\u001b[1;32m    980\u001b[0m         \u001b[0;32mif\u001b[0m \u001b[0m_is_string_like\u001b[0m\u001b[0;34m(\u001b[0m\u001b[0mfname\u001b[0m\u001b[0;34m)\u001b[0m\u001b[0;34m:\u001b[0m\u001b[0;34m\u001b[0m\u001b[0;34m\u001b[0m\u001b[0m\n\u001b[0;32m--> 981\u001b[0;31m             \u001b[0mfh\u001b[0m \u001b[0;34m=\u001b[0m \u001b[0mnp\u001b[0m\u001b[0;34m.\u001b[0m\u001b[0mlib\u001b[0m\u001b[0;34m.\u001b[0m\u001b[0m_datasource\u001b[0m\u001b[0;34m.\u001b[0m\u001b[0mopen\u001b[0m\u001b[0;34m(\u001b[0m\u001b[0mfname\u001b[0m\u001b[0;34m,\u001b[0m \u001b[0;34m'rt'\u001b[0m\u001b[0;34m,\u001b[0m \u001b[0mencoding\u001b[0m\u001b[0;34m=\u001b[0m\u001b[0mencoding\u001b[0m\u001b[0;34m)\u001b[0m\u001b[0;34m\u001b[0m\u001b[0;34m\u001b[0m\u001b[0m\n\u001b[0m\u001b[1;32m    982\u001b[0m             \u001b[0mfencoding\u001b[0m \u001b[0;34m=\u001b[0m \u001b[0mgetattr\u001b[0m\u001b[0;34m(\u001b[0m\u001b[0mfh\u001b[0m\u001b[0;34m,\u001b[0m \u001b[0;34m'encoding'\u001b[0m\u001b[0;34m,\u001b[0m \u001b[0;34m'latin1'\u001b[0m\u001b[0;34m)\u001b[0m\u001b[0;34m\u001b[0m\u001b[0;34m\u001b[0m\u001b[0m\n\u001b[1;32m    983\u001b[0m             \u001b[0mfh\u001b[0m \u001b[0;34m=\u001b[0m \u001b[0miter\u001b[0m\u001b[0;34m(\u001b[0m\u001b[0mfh\u001b[0m\u001b[0;34m)\u001b[0m\u001b[0;34m\u001b[0m\u001b[0;34m\u001b[0m\u001b[0m\n",
      "\u001b[0;32m~/anaconda3/lib/python3.8/site-packages/numpy/lib/_datasource.py\u001b[0m in \u001b[0;36mopen\u001b[0;34m(path, mode, destpath, encoding, newline)\u001b[0m\n\u001b[1;32m    267\u001b[0m \u001b[0;34m\u001b[0m\u001b[0m\n\u001b[1;32m    268\u001b[0m     \u001b[0mds\u001b[0m \u001b[0;34m=\u001b[0m \u001b[0mDataSource\u001b[0m\u001b[0;34m(\u001b[0m\u001b[0mdestpath\u001b[0m\u001b[0;34m)\u001b[0m\u001b[0;34m\u001b[0m\u001b[0;34m\u001b[0m\u001b[0m\n\u001b[0;32m--> 269\u001b[0;31m     \u001b[0;32mreturn\u001b[0m \u001b[0mds\u001b[0m\u001b[0;34m.\u001b[0m\u001b[0mopen\u001b[0m\u001b[0;34m(\u001b[0m\u001b[0mpath\u001b[0m\u001b[0;34m,\u001b[0m \u001b[0mmode\u001b[0m\u001b[0;34m,\u001b[0m \u001b[0mencoding\u001b[0m\u001b[0;34m=\u001b[0m\u001b[0mencoding\u001b[0m\u001b[0;34m,\u001b[0m \u001b[0mnewline\u001b[0m\u001b[0;34m=\u001b[0m\u001b[0mnewline\u001b[0m\u001b[0;34m)\u001b[0m\u001b[0;34m\u001b[0m\u001b[0;34m\u001b[0m\u001b[0m\n\u001b[0m\u001b[1;32m    270\u001b[0m \u001b[0;34m\u001b[0m\u001b[0m\n\u001b[1;32m    271\u001b[0m \u001b[0;34m\u001b[0m\u001b[0m\n",
      "\u001b[0;32m~/anaconda3/lib/python3.8/site-packages/numpy/lib/_datasource.py\u001b[0m in \u001b[0;36mopen\u001b[0;34m(self, path, mode, encoding, newline)\u001b[0m\n\u001b[1;32m    618\u001b[0m             \u001b[0;32mif\u001b[0m \u001b[0mext\u001b[0m \u001b[0;34m==\u001b[0m \u001b[0;34m'bz2'\u001b[0m\u001b[0;34m:\u001b[0m\u001b[0;34m\u001b[0m\u001b[0;34m\u001b[0m\u001b[0m\n\u001b[1;32m    619\u001b[0m                 \u001b[0mmode\u001b[0m\u001b[0;34m.\u001b[0m\u001b[0mreplace\u001b[0m\u001b[0;34m(\u001b[0m\u001b[0;34m\"+\"\u001b[0m\u001b[0;34m,\u001b[0m \u001b[0;34m\"\"\u001b[0m\u001b[0;34m)\u001b[0m\u001b[0;34m\u001b[0m\u001b[0;34m\u001b[0m\u001b[0m\n\u001b[0;32m--> 620\u001b[0;31m             return _file_openers[ext](found, mode=mode,\n\u001b[0m\u001b[1;32m    621\u001b[0m                                       encoding=encoding, newline=newline)\n\u001b[1;32m    622\u001b[0m         \u001b[0;32melse\u001b[0m\u001b[0;34m:\u001b[0m\u001b[0;34m\u001b[0m\u001b[0;34m\u001b[0m\u001b[0m\n",
      "\u001b[0;31mFileNotFoundError\u001b[0m: [Errno 2] No such file or directory: '../nbse2.dat'"
     ]
    }
   ],
   "source": [
    "#Import the raw data\n",
    "raw_data = np.loadtxt('../nbse2.dat')\n",
    "x = raw_data.T[0]\n",
    "y = raw_data.T[1]\n",
    "k = raw_data.T[7]"
   ]
  },
  {
   "cell_type": "code",
   "execution_count": 4,
   "metadata": {},
   "outputs": [
    {
     "ename": "NameError",
     "evalue": "name 'x' is not defined",
     "output_type": "error",
     "traceback": [
      "\u001b[0;31m---------------------------------------------------------------------------\u001b[0m",
      "\u001b[0;31mNameError\u001b[0m                                 Traceback (most recent call last)",
      "\u001b[0;32m<ipython-input-4-15892075a255>\u001b[0m in \u001b[0;36m<module>\u001b[0;34m\u001b[0m\n\u001b[1;32m      1\u001b[0m \u001b[0;31m#The data in pandas\u001b[0m\u001b[0;34m\u001b[0m\u001b[0;34m\u001b[0m\u001b[0;34m\u001b[0m\u001b[0m\n\u001b[1;32m      2\u001b[0m \u001b[0mdata\u001b[0m \u001b[0;34m=\u001b[0m \u001b[0mpd\u001b[0m\u001b[0;34m.\u001b[0m\u001b[0mDataFrame\u001b[0m\u001b[0;34m(\u001b[0m\u001b[0;34m)\u001b[0m\u001b[0;34m\u001b[0m\u001b[0;34m\u001b[0m\u001b[0m\n\u001b[0;32m----> 3\u001b[0;31m \u001b[0mdata\u001b[0m\u001b[0;34m[\u001b[0m\u001b[0;34m'x'\u001b[0m\u001b[0;34m]\u001b[0m \u001b[0;34m=\u001b[0m \u001b[0mx\u001b[0m\u001b[0;34m\u001b[0m\u001b[0;34m\u001b[0m\u001b[0m\n\u001b[0m\u001b[1;32m      4\u001b[0m \u001b[0mdata\u001b[0m\u001b[0;34m[\u001b[0m\u001b[0;34m'y'\u001b[0m\u001b[0;34m]\u001b[0m \u001b[0;34m=\u001b[0m \u001b[0my\u001b[0m\u001b[0;34m\u001b[0m\u001b[0;34m\u001b[0m\u001b[0m\n\u001b[1;32m      5\u001b[0m \u001b[0mdata\u001b[0m\u001b[0;34m[\u001b[0m\u001b[0;34m'k'\u001b[0m\u001b[0;34m]\u001b[0m \u001b[0;34m=\u001b[0m \u001b[0mk\u001b[0m\u001b[0;34m\u001b[0m\u001b[0;34m\u001b[0m\u001b[0m\n",
      "\u001b[0;31mNameError\u001b[0m: name 'x' is not defined"
     ]
    }
   ],
   "source": [
    "#The data in pandas\n",
    "data = pd.DataFrame()\n",
    "data['x'] = x\n",
    "data['y'] = y\n",
    "data['k'] = k"
   ]
  },
  {
   "cell_type": "code",
   "execution_count": null,
   "metadata": {},
   "outputs": [],
   "source": [
    "plt.scatter(x,y,c=k,cmap=\"jet\")\n",
    "plt.xlim(-2.7,2.7)\n",
    "plt.ylim(-2.7,2.7)\n",
    "plt.show()"
   ]
  },
  {
   "cell_type": "code",
   "execution_count": 11,
   "metadata": {},
   "outputs": [],
   "source": [
    "big = pd.read_csv('../nbse2.dat', sep='\\s+', header=None,names=[0, 1, 'x', 'y', 'k']).drop([0, 1], axis=1)\n",
    "zone = big.query(\" -2.7  <= x  <= 2.7 \").query(\" -2.7  <= y  <= 2.7 \")\n",
    "reduced_zone = big.query(\" -1.8  <= x  <= 1.8 \").query(\" -1.8  <= y  <= 1.8 \")\n",
    "\n",
    "fs=zone.query(\" -0.02  <= k  <= 0.02 \")\n",
    "fs_x=fs.x.values\n",
    "fs_y=fs.y.values\n",
    "\n",
    "fs_x_r=reduced_zone.query(\" -0.02  <= k  <= 0.02 \")\n",
    "fs_y_r=reduced_zone.query(\" -0.02  <= k  <= 0.02 \")"
   ]
  },
  {
   "cell_type": "code",
   "execution_count": 12,
   "metadata": {},
   "outputs": [],
   "source": [
    "q1=array([0,1.15*2/3])\n",
    "q2=array([1.15*sqrt(3)/2*2/3,-1/2*2/3*1.15])\n",
    "q3=array([-1.15*sqrt(3)/2*2/3,-1/2*2/3*1.15])"
   ]
  },
  {
   "cell_type": "code",
   "execution_count": 13,
   "metadata": {},
   "outputs": [],
   "source": [
    "q_vec=[q1,q2,q3,-q1,-q2,-q3]"
   ]
  },
  {
   "cell_type": "code",
   "execution_count": 14,
   "metadata": {
    "scrolled": true
   },
   "outputs": [
    {
     "name": "stderr",
     "output_type": "stream",
     "text": [
      "100%|██████████| 10905/10905 [01:49<00:00, 99.67it/s]\n",
      "100%|██████████| 10905/10905 [01:53<00:00, 96.38it/s]\n",
      "100%|██████████| 10905/10905 [01:51<00:00, 97.43it/s]\n",
      "100%|██████████| 10905/10905 [01:47<00:00, 101.81it/s]\n",
      "100%|██████████| 10905/10905 [01:47<00:00, 101.35it/s]\n",
      "100%|██████████| 10905/10905 [01:37<00:00, 111.60it/s]\n"
     ]
    }
   ],
   "source": [
    "q_nesting=np.zeros((1,2))\n",
    "error=0.01\n",
    "for q in q_vec:\n",
    "    for begin in tqdm(range(len(fs_x))):\n",
    "        for end in range(len(fs_x)):\n",
    "            if q[0]-error<fs_x[begin]-fs_x[end]<q[0]+error:\n",
    "                if q[1]-error<fs_y[begin]-fs_y[end]<q[1]+error:\n",
    "                    q_nesting=np.append(q_nesting,[[fs_x[begin],fs_y[begin]]],axis=0)"
   ]
  },
  {
   "cell_type": "code",
   "execution_count": 15,
   "metadata": {},
   "outputs": [],
   "source": [
    "q_data=pd.DataFrame()\n",
    "q_data['x']=q_nesting[:,0]\n",
    "q_data['y']=q_nesting[:,1]\n",
    "q_data=q_data.query('-1.8 <= x <= 1.8').query('-1.8 <= y <= 1.8')"
   ]
  },
  {
   "cell_type": "code",
   "execution_count": 16,
   "metadata": {},
   "outputs": [
    {
     "data": {
      "text/html": [
       "<div>\n",
       "<style scoped>\n",
       "    .dataframe tbody tr th:only-of-type {\n",
       "        vertical-align: middle;\n",
       "    }\n",
       "\n",
       "    .dataframe tbody tr th {\n",
       "        vertical-align: top;\n",
       "    }\n",
       "\n",
       "    .dataframe thead th {\n",
       "        text-align: right;\n",
       "    }\n",
       "</style>\n",
       "<table border=\"1\" class=\"dataframe\">\n",
       "  <thead>\n",
       "    <tr style=\"text-align: right;\">\n",
       "      <th></th>\n",
       "      <th>x</th>\n",
       "      <th>y</th>\n",
       "    </tr>\n",
       "  </thead>\n",
       "  <tbody>\n",
       "    <tr>\n",
       "      <th>count</th>\n",
       "      <td>8037.000000</td>\n",
       "      <td>8037.000000</td>\n",
       "    </tr>\n",
       "    <tr>\n",
       "      <th>mean</th>\n",
       "      <td>-0.020284</td>\n",
       "      <td>0.000006</td>\n",
       "    </tr>\n",
       "    <tr>\n",
       "      <th>std</th>\n",
       "      <td>1.036390</td>\n",
       "      <td>1.044392</td>\n",
       "    </tr>\n",
       "    <tr>\n",
       "      <th>min</th>\n",
       "      <td>-1.789050</td>\n",
       "      <td>-1.799700</td>\n",
       "    </tr>\n",
       "    <tr>\n",
       "      <th>25%</th>\n",
       "      <td>-0.937490</td>\n",
       "      <td>-0.852490</td>\n",
       "    </tr>\n",
       "    <tr>\n",
       "      <th>50%</th>\n",
       "      <td>-0.093740</td>\n",
       "      <td>0.000010</td>\n",
       "    </tr>\n",
       "    <tr>\n",
       "      <th>75%</th>\n",
       "      <td>0.937510</td>\n",
       "      <td>0.852500</td>\n",
       "    </tr>\n",
       "    <tr>\n",
       "      <th>max</th>\n",
       "      <td>1.789070</td>\n",
       "      <td>1.799710</td>\n",
       "    </tr>\n",
       "  </tbody>\n",
       "</table>\n",
       "</div>"
      ],
      "text/plain": [
       "                 x            y\n",
       "count  8037.000000  8037.000000\n",
       "mean     -0.020284     0.000006\n",
       "std       1.036390     1.044392\n",
       "min      -1.789050    -1.799700\n",
       "25%      -0.937490    -0.852490\n",
       "50%      -0.093740     0.000010\n",
       "75%       0.937510     0.852500\n",
       "max       1.789070     1.799710"
      ]
     },
     "execution_count": 16,
     "metadata": {},
     "output_type": "execute_result"
    }
   ],
   "source": [
    "q_data.describe()"
   ]
  },
  {
   "cell_type": "code",
   "execution_count": 17,
   "metadata": {},
   "outputs": [
    {
     "data": {
      "image/png": "[encoded data removed]",
      "text/plain": [
       "<Figure size 432x288 with 1 Axes>"
      ]
     },
     "metadata": {
      "needs_background": "light"
     },
     "output_type": "display_data"
    }
   ],
   "source": [
    "plt.scatter(q_data.x.values,q_data.y.values,s=2)\n",
    "plt.axis('equal')\n",
    "plt.show()"
   ]
  },
  {
   "cell_type": "code",
   "execution_count": 18,
   "metadata": {},
   "outputs": [],
   "source": [
    "def gaussian(x,y,cx=0,cy=0,sigma=0.03):\n",
    "    func = exp(-((x-cx)**2+(y-cy)**2)/sigma**2)\n",
    "    return func"
   ]
  },
  {
   "cell_type": "code",
   "execution_count": 19,
   "metadata": {},
   "outputs": [],
   "source": [
    "cx=q_data.x.values\n",
    "cy=q_data.y.values"
   ]
  },
  {
   "cell_type": "code",
   "execution_count": 20,
   "metadata": {
    "scrolled": true
   },
   "outputs": [],
   "source": [
    "def test_function(data,c):\n",
    "    cx=c.x.values\n",
    "    cy=c.y.values\n",
    "    x=data.x.values\n",
    "    y=data.y.values\n",
    "    \n",
    "    g_func = array([sum(gaussian(x[i],y[i],cx,cy)) for i  in range(len(data))]) \n",
    "    return(g_func)\n",
    "    \n",
    "    \n",
    "    "
   ]
  },
  {
   "cell_type": "code",
   "execution_count": 21,
   "metadata": {},
   "outputs": [],
   "source": [
    "g_func=test_function(reduced_zone,q_data)"
   ]
  },
  {
   "cell_type": "code",
   "execution_count": 19,
   "metadata": {},
   "outputs": [
    {
     "data": {
      "text/plain": [
       "<Figure size 576x576 with 0 Axes>"
      ]
     },
     "metadata": {},
     "output_type": "display_data"
    }
   ],
   "source": [
    "fig=plt.figure(figsize=(8,8))\n",
    "plt.scatter(reduced_zone.x,reduced_zone.y,c=g_func/g_func.max(),cmap=plt.get_cmap(\"jet\"))\n",
    "plt.colorbar()\n",
    "plt.xlim(-1.8,1.8)\n",
    "plt.ylim(-1.8,1.8)\n",
    "plt.xlabel(r'$k_x$',fontsize=16)\n",
    "plt.ylabel(r'$k_y$',fontsize=16)\n",
    "plt.title('No-SOC \\n CDW Nesting Point Density',fontsize=42)\n",
    "# plt.savefig(\"../Plot/real_density_no.jpg\", format='jpg', transparent=False)\n",
    "plt.show()"
   ]
  },
  {
   "cell_type": "code",
   "execution_count": 23,
   "metadata": {},
   "outputs": [],
   "source": [
    "class CDW:\n",
    "    def __init__(self,bz,nesting=q_data):\n",
    "        self.kx=bz.x.values\n",
    "        self.ky=bz.y.values\n",
    "#         self.kx=bz.query('-0.02 <= k <= 0.02').x.values\n",
    "#         self.ky=bz.query('-0.02 <= k <= 0.02').y.values\n",
    "#         self.k=bz.k.values\n",
    "        self.q_nesting=nesting\n",
    "        self.fX=bz.query('-0.02 <= k <= 0.02').x.values\n",
    "        self.fY=bz.query('-0.02 <= k <= 0.02').y.values\n",
    "\n",
    "    def box(self,parameters):\n",
    "#         Box00re,Box00im,Box11re,Box11im,Box_1_1re,Box_1_1im,Box1_1re,Box1_1im,Box_11re,Box_11im,Box20re,Box20im,Box_20re,Box_20im,Box_12re,Box_12im,Box1_2re,Box1_2im,Box2_1re,Box2_1im,Box_21re,Box_21im=parameters\n",
    "        Box11re,Box_1_1re,Box1_1re,Box_11re,Box20re,Box_20re,Box_12re,Box1_2re=parameters\n",
    "        beta=9.42\n",
    "        a1=sqrt(3)/2\n",
    "        a2=1/2\n",
    "        a3=3/2\n",
    "        a4=sqrt(3)\n",
    "#         zero=Box00re+1j*Box00im\n",
    "        oneone = (Box11re)*(exp(beta*1j*(a1*self.ky-a2*self.kx))+exp(beta*1j*(-a1*self.ky-a2*self.kx))+exp(beta*1j*self.kx))\n",
    "        _one_one = (Box_1_1re)*(exp(-beta*1j*(a1*self.ky-a2*self.kx))+exp(-beta*1j*(-a1*self.ky-a2*self.kx))+exp(-beta*1j*self.kx))\n",
    "        _oneone=(Box_11re)*(exp(beta*1j*(a3*self.kx-a1*self.ky))+exp(beta*1j*(-a3*self.kx-a1*self.ky))+exp(beta*1j*a4*self.ky))\n",
    "        one_one=(Box1_1re)*(exp(-beta*1j*(a3*self.kx-a1*self.ky))+exp(-beta*1j*(-a3*self.kx-a1*self.ky))+exp(-beta*1j*a4*self.ky))\n",
    "        twozero=(Box20re)*(exp(beta*1j*(-self.kx-sqrt(3)*self.ky))+exp(beta*1j*2*self.kx)+exp(beta*1j*(-self.kx+sqrt(3)*self.ky)))\n",
    "        _twozero=(Box_20re)*(exp(-beta*1j*(-self.kx-sqrt(3)*self.ky))+exp(-beta*1j*2*self.kx)+exp(-beta*1j*(-self.kx+sqrt(3)*self.ky)))\n",
    "        _onetwo=(Box_12re)*(exp(beta*1j*(-self.kx/2+3*sqrt(3)/2*self.ky))+exp(beta*1j*(5/2*self.kx-sqrt(3)/2*self.ky))+exp(-beta*1j*(2*self.kx+sqrt(3)*self.ky)))\n",
    "        one_two=(Box1_2re)*(exp(-beta*1j*(-self.kx/2+3*sqrt(3)/2*self.ky))+exp(-beta*1j*(5/2*self.kx-sqrt(3)/2*self.ky))+exp(beta*1j*(2*self.kx+sqrt(3)*self.ky)))\n",
    "#         two_one=(Box2_1re)*(exp(-beta*1j*(self.kx/2+3*sqrt(3)/2*self.ky))+exp(beta*1j*(5/2*self.kx+sqrt(3)/2*self.ky))+exp(beta*1j*(-2*self.kx+sqrt(3)*self.ky)))\n",
    "#         _twoone=(Box_21re)*(exp(beta*1j*(self.kx/2+3*sqrt(3)/2*self.ky))+exp(-beta*1j*(5/2*self.kx+sqrt(3)/2*self.ky))+exp(-beta*1j*(-2*self.kx+sqrt(3)*self.ky)))\n",
    "#         gap=abs(zero+oneone+_one_one+_oneone+one_one+twozero+_twozero+_onetwo+one_two+two_one+_twoone)+two_one+_twoone)\n",
    "        gap=abs(oneone+_one_one+_oneone+one_one+twozero+_twozero+_onetwo+one_two)\n",
    "\n",
    "        \n",
    "        gap=abs(oneone+_one_one+_oneone+one_one+twozero+_twozero+_onetwo+one_two)\n",
    "\n",
    "        \n",
    "        return gap\n",
    "    \n",
    "    def plot(self,parameters,name,soc):\n",
    "        Box11re,Box_1_1re,Box1_1re,Box_11re,Box20re,Box_20re,Box_12re,Box1_2re=parameters\n",
    "#         Box11re,Box11im,Box_1_1re,Box_1_1im,Box1_1re,Box1_1im,Box_11re,Box_11im,Box20re,Box20im,Box_20re,Box_20im,Box_12re,Box_12im,Box1_2re,Box1_2im=parameters\n",
    "        fig=plt.figure(figsize=(18,18))\n",
    "        gap=self.box(parameters)\n",
    "        plt.scatter(self.kx,self.ky,c=gap/gap.max(),cmap=plt.get_cmap(\"jet\"))\n",
    "        plt.colorbar()\n",
    "#         plt.scatter(bz.x,bz.y,alpha=0.01,c=\"white\")\n",
    "        plt.scatter(self.fX,self.fY,s=3,c=\"black\")\n",
    "#         plt.scatter(self.q_nesting.x,self.q_nesting.y,c=\"white\",s=5)\n",
    "        plt.xlim(-1.8,1.8)\n",
    "        plt.ylim(-1.8,1.8)\n",
    "#         plt.axis(\"equal\")\n",
    "        plt.title(r'{}'.format(soc)+'\\n' \n",
    "                  r'CDW Order Parameter' '\\n'\n",
    "                  +r' Fundamental Mode $\\quad$'\n",
    "                  +r'$\\Box_{1,1}$' + r'= {}'.format(Box11re)+ r' $\\quad$'\n",
    "                  +r'$\\Box_{-1,-1}$ ='+ r' {}'.format(Box_1_1re)\n",
    "                  +\"\\n\"\n",
    "                  +r' First Extension $\\quad$'\n",
    "                  +r'$\\Box_{1,-1}$' + r'= {}'.format(Box1_1re)+ r' $\\quad$'\n",
    "                  +r'$\\Box_{-1,1}$ ='+ r' {}'.format(Box_11re)       \n",
    "                  +\"\\n\"\n",
    "                  +r'2M Mode $\\quad$'\n",
    "                  +r'$\\Box_{2,0}$' + r'= {}'.format(Box20re)+ r' $\\quad$'\n",
    "                  +r'$\\Box_{-2,0}$ ='+ r' {}'.format(Box_20re) \n",
    "                  +\"\\n\"\n",
    "                  +r'Second Extension $\\quad$'\n",
    "                  +r'$\\Box_{-1,2}$' + r'= {}'.format(Box_12re)+ r' $\\quad$'\n",
    "                  +r'$\\Box_{1,-2}$ ='+ r' {}'.format(Box1_2re) \n",
    "                  +\"\\n\"\n",
    "                  +\"\\n   .\",fontsize=16)\n",
    "        plt.savefig(\"../Plot/{}.jpg\".format(name), format='jpg', transparent=False)     \n",
    "#         plt.close()\n",
    "#         plt.title(r\"No-SOC Theoretical CDW vs Numerical Prediction\" \"\\n\" r'$\\displaystyle\\Box0,0}'r'$' \"={} \" \"\\n\" r'$\\displaystyle\\Box_{1,1}'r'$'\"\\n\" r'$\\displaystyle\\Box_{-1,-1}'r'$'.format(0), fontsize=16)\n",
    "\n",
    "        plt.show()"
   ]
  },
  {
   "cell_type": "code",
   "execution_count": 24,
   "metadata": {},
   "outputs": [],
   "source": [
    "model = CDW(reduced_zone)"
   ]
  },
  {
   "cell_type": "code",
   "execution_count": 25,
   "metadata": {},
   "outputs": [],
   "source": [
    "def cost_function(parameter):\n",
    "    cost = (model.box(parameter)-g_func)**2\n",
    "    return cost.sum()"
   ]
  },
  {
   "cell_type": "code",
   "execution_count": 26,
   "metadata": {},
   "outputs": [
    {
     "data": {
      "text/plain": [
       "5626048.225744682"
      ]
     },
     "execution_count": 26,
     "metadata": {},
     "output_type": "execute_result"
    }
   ],
   "source": [
    "cost_function(random.rand(8))"
   ]
  },
  {
   "cell_type": "code",
   "execution_count": null,
   "metadata": {},
   "outputs": [],
   "source": [
    "res8 = minimize(cost_function, np.random.randn(8).tolist(), method='Nelder-Mead', tol=1e-4)"
   ]
  },
  {
   "cell_type": "code",
   "execution_count": null,
   "metadata": {},
   "outputs": [],
   "source": [
    "costs = [cost_function(cost) for cost in  [res2,res4,res6,res8,res10]]"
   ]
  },
  {
   "cell_type": "code",
   "execution_count": null,
   "metadata": {},
   "outputs": [],
   "source": [
    "model.plot(np.round(res2.x,3),'real_fundamental_no',\"No-SOC\")"
   ]
  },
  {
   "cell_type": "code",
   "execution_count": null,
   "metadata": {},
   "outputs": [],
   "source": []
  },
  {
   "cell_type": "code",
   "execution_count": null,
   "metadata": {},
   "outputs": [],
   "source": []
  }
 ],
 "metadata": {
  "kernelspec": {
   "display_name": "Python 3",
   "language": "python",
   "name": "python3"
  },
  "language_info": {
   "codemirror_mode": {
    "name": "ipython",
    "version": 3
   },
   "file_extension": ".py",
   "mimetype": "text/x-python",
   "name": "python",
   "nbconvert_exporter": "python",
   "pygments_lexer": "ipython3",
   "version": "3.8.3"
  }
 },
 "nbformat": 4,
 "nbformat_minor": 4
}
